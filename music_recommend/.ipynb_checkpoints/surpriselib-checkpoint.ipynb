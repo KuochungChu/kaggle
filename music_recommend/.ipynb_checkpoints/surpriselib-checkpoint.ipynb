{
 "cells": [
  {
   "cell_type": "markdown",
   "metadata": {},
   "source": [
    "## 基本介绍\n",
    "\n",
    "[Surprise(Simple Python RecommendatIon System Engine)](http://surpriselib.com/)是 scikit 系列中的一个，简单易用，同时支持多种推荐算法：\n",
    "* [基础算法/baseline algorithms](http://surprise.readthedocs.io/en/stable/basic_algorithms.html)\n",
    "* [基于近邻方法(协同过滤)/neighborhood methods](http://surprise.readthedocs.io/en/stable/knn_inspired.html)\n",
    "* [矩阵分解方法/matrix factorization-based (SVD, PMF, SVD++, NMF)](http://surprise.readthedocs.io/en/stable/matrix_factorization.html#surprise.prediction_algorithms.matrix_factorization.SVD)\n",
    "\n",
    "| 算法类名        | 说明  |\n",
    "| ------------- |:-----|\n",
    "|[random_pred.NormalPredictor](http://surprise.readthedocs.io/en/stable/basic_algorithms.html#surprise.prediction_algorithms.random_pred.NormalPredictor)|Algorithm predicting a random rating based on the distribution of the training set, which is assumed to be normal.|\n",
    "|[baseline_only.BaselineOnly](http://surprise.readthedocs.io/en/stable/basic_algorithms.html#surprise.prediction_algorithms.baseline_only.BaselineOnly)|Algorithm predicting the baseline estimate for given user and item.|\n",
    "|[knns.KNNBasic](http://surprise.readthedocs.io/en/stable/knn_inspired.html#surprise.prediction_algorithms.knns.KNNBasic)|A basic collaborative filtering algorithm.|\n",
    "|[knns.KNNWithMeans](http://surprise.readthedocs.io/en/stable/knn_inspired.html#surprise.prediction_algorithms.knns.KNNWithMeans)|A basic collaborative filtering algorithm, taking into account the mean ratings of each user.|\n",
    "|[knns.KNNBaseline](http://surprise.readthedocs.io/en/stable/knn_inspired.html#surprise.prediction_algorithms.knns.KNNBaseline)|A basic collaborative filtering algorithm taking into account a baseline rating.|\t\n",
    "|[matrix_factorization.SVD](http://surprise.readthedocs.io/en/stable/matrix_factorization.html#surprise.prediction_algorithms.matrix_factorization.SVD)|The famous SVD algorithm, as popularized by Simon Funk during the Netflix Prize.|\n",
    "|[matrix_factorization.SVDpp](http://surprise.readthedocs.io/en/stable/matrix_factorization.html#surprise.prediction_algorithms.matrix_factorization.SVDpp)|The SVD++ algorithm, an extension of SVD taking into account implicit ratings.|\n",
    "|[matrix_factorization.NMF](http://surprise.readthedocs.io/en/stable/matrix_factorization.html#surprise.prediction_algorithms.matrix_factorization.NMF)|A collaborative filtering algorithm based on Non-negative Matrix Factorization.|\n",
    "|[slope_one.SlopeOne](http://surprise.readthedocs.io/en/stable/slope_one.html#surprise.prediction_algorithms.slope_one.SlopeOne)|A simple yet accurate collaborative filtering algorithm.|\n",
    "|[co_clustering.CoClustering](http://surprise.readthedocs.io/en/stable/co_clustering.html#surprise.prediction_algorithms.co_clustering.CoClustering)|A collaborative filtering algorithm based on co-clustering.|\n",
    "\n",
    "\n",
    "其中基于近邻的方法(协同过滤)可以设定不同的度量准则:\n",
    "\n",
    "| 相似度度量标准 | 度量标准说明  |\n",
    "| ------------- |:-----|\n",
    "|[cosine](http://surprise.readthedocs.io/en/stable/similarities.html#surprise.similarities.cosine)|Compute the cosine similarity between all pairs of users (or items).|\n",
    "|[msd](http://surprise.readthedocs.io/en/stable/similarities.html#surprise.similarities.msd)|Compute the Mean Squared Difference similarity between all pairs of users (or items).|\n",
    "|[pearson](http://surprise.readthedocs.io/en/stable/similarities.html#surprise.similarities.pearson)|Compute the Pearson correlation coefficient between all pairs of users (or items).|\n",
    "|[pearson_baseline](http://surprise.readthedocs.io/en/stable/similarities.html#surprise.similarities.pearson_baseline)|Compute the (shrunk) Pearson correlation coefficient between all pairs of users (or items) using baselines for centering instead of means.|\n"
   ]
  },
  {
   "cell_type": "markdown",
   "metadata": {},
   "source": [
    "在统计学中，皮尔逊相关系数（Pearson correlation coefficient），通常用 R 或ρ 表示，是用来度量两个变量 X 和 Y 之间的相互关系（线性相关）的，取值范围在 [-1,+1] 之间，数学公式定义如下：\n",
    "\n",
    "![](http://static.zybuluo.com/zhuanxu/cvpzb7hwie2enybr9c4vs6c1/image_1c1cj7mreidu9lq151lver7n09.png)\n",
    "\n",
    "\n",
    "支持不同的评估准则\n",
    "\n",
    "| 评估准则 | 准则说明  |\n",
    "| ------------- |:-----|\n",
    "|[rmse](http://surprise.readthedocs.io/en/stable/accuracy.html#surprise.accuracy.rmse)|Compute RMSE (Root Mean Squared Error).|\n",
    "|[msd](http://surprise.readthedocs.io/en/stable/similarities.html#surprise.similarities.msd)|Compute MAE (Mean Absolute Error).|\n",
    "|[fcp](http://surprise.readthedocs.io/en/stable/accuracy.html#surprise.accuracy.fcp)|Compute FCP (Fraction of Concordant Pairs).|"
   ]
  },
  {
   "cell_type": "markdown",
   "metadata": {},
   "source": [
    "下面是一些使用实例。\n",
    "## 使用实例\n",
    "\n",
    "1.数据集说明\n",
    "\n",
    "我们此处使用movielens数据集，其格式是：`user item rating timestamp`，我们先载如数据集"
   ]
  },
  {
   "cell_type": "code",
   "execution_count": 2,
   "metadata": {},
   "outputs": [
    {
     "name": "stdout",
     "output_type": "stream",
     "text": [
      "Dataset ml-100k could not be found. Do you want to download it? [Y/n] Y\n",
      "Trying to download dataset from http://files.grouplens.org/datasets/movielens/ml-100k.zip...\n",
      "Done! Dataset ml-100k has been saved to /root/.surprise_data/ml-100k\n"
     ]
    }
   ],
   "source": [
    "from surprise import Dataset\n",
    "data = Dataset.load_builtin('ml-100k')"
   ]
  },
  {
   "cell_type": "code",
   "execution_count": 17,
   "metadata": {},
   "outputs": [
    {
     "data": {
      "text/plain": [
       "[('742', '294', 3.0, '881005590'),\n",
       " ('36', '883', 5.0, '882157581'),\n",
       " ('264', '203', 2.0, '886122508'),\n",
       " ('862', '568', 3.0, '879304799'),\n",
       " ('458', '969', 4.0, '886395899')]"
      ]
     },
     "execution_count": 17,
     "metadata": {},
     "output_type": "execute_result"
    }
   ],
   "source": [
    "data.raw_ratings[:5]"
   ]
  },
  {
   "cell_type": "markdown",
   "metadata": {},
   "source": [
    "2.矩阵分解方法"
   ]
  },
  {
   "cell_type": "code",
   "execution_count": 6,
   "metadata": {
    "collapsed": true
   },
   "outputs": [],
   "source": [
    "from surprise import SVD\n",
    "from surprise import evaluate, print_perf"
   ]
  },
  {
   "cell_type": "code",
   "execution_count": 7,
   "metadata": {},
   "outputs": [
    {
     "name": "stdout",
     "output_type": "stream",
     "text": [
      "Evaluating RMSE, MAE of algorithm SVD.\n",
      "\n",
      "------------\n",
      "Fold 1\n",
      "RMSE: 0.9466\n",
      "MAE:  0.7475\n",
      "------------\n",
      "Fold 2\n",
      "RMSE: 0.9433\n",
      "MAE:  0.7450\n",
      "------------\n",
      "Fold 3\n",
      "RMSE: 0.9470\n",
      "MAE:  0.7472\n",
      "------------\n",
      "------------\n",
      "Mean RMSE: 0.9456\n",
      "Mean MAE : 0.7466\n",
      "------------\n",
      "------------\n",
      "        Fold 1  Fold 2  Fold 3  Mean    \n",
      "RMSE    0.9466  0.9433  0.9470  0.9456  \n",
      "MAE     0.7475  0.7450  0.7472  0.7466  \n"
     ]
    }
   ],
   "source": [
    "# k折交叉验证(k=3)\n",
    "data.split(n_folds=3)\n",
    "# 试一把SVD矩阵分解\n",
    "algo = SVD()\n",
    "# 在数据集上测试一下效果\n",
    "perf = evaluate(algo, data, measures=['RMSE', 'MAE'])\n",
    "#输出结果\n",
    "print_perf(perf)"
   ]
  },
  {
   "cell_type": "markdown",
   "metadata": {},
   "source": [
    "下面我们定义如何载入自己的数据集"
   ]
  },
  {
   "cell_type": "code",
   "execution_count": 12,
   "metadata": {
    "collapsed": true
   },
   "outputs": [],
   "source": [
    "import os\n",
    "from surprise import Reader\n",
    "\n",
    "# 指定文件所在路径\n",
    "file_path = os.path.expanduser('~/.surprise_data/ml-100k/ml-100k/u.data')\n",
    "# 告诉文本阅读器，文本的格式是怎么样的\n",
    "reader = Reader(line_format='user item rating timestamp', sep='\\t')\n",
    "# 加载数据\n",
    "data = Dataset.load_from_file(file_path, reader=reader)\n",
    "# 手动切分成5折(方便交叉验证)\n",
    "data.split(n_folds=5)"
   ]
  },
  {
   "cell_type": "markdown",
   "metadata": {},
   "source": [
    "## 参数调优\n",
    "我们先用传统的grid search的方法来做"
   ]
  },
  {
   "cell_type": "code",
   "execution_count": 14,
   "metadata": {},
   "outputs": [
    {
     "name": "stdout",
     "output_type": "stream",
     "text": [
      "[{'n_epochs': 5, 'lr_all': 0.002, 'reg_all': 0.4}, {'n_epochs': 5, 'lr_all': 0.002, 'reg_all': 0.6}, {'n_epochs': 5, 'lr_all': 0.005, 'reg_all': 0.4}, {'n_epochs': 5, 'lr_all': 0.005, 'reg_all': 0.6}, {'n_epochs': 10, 'lr_all': 0.002, 'reg_all': 0.4}, {'n_epochs': 10, 'lr_all': 0.002, 'reg_all': 0.6}, {'n_epochs': 10, 'lr_all': 0.005, 'reg_all': 0.4}, {'n_epochs': 10, 'lr_all': 0.005, 'reg_all': 0.6}]\n",
      "------------\n",
      "Parameters combination 1 of 8\n",
      "params:  {'n_epochs': 5, 'lr_all': 0.002, 'reg_all': 0.4}\n",
      "------------\n",
      "Mean RMSE: 0.9969\n",
      "Mean FCP : 0.6849\n",
      "------------\n",
      "------------\n",
      "Parameters combination 2 of 8\n",
      "params:  {'n_epochs': 5, 'lr_all': 0.002, 'reg_all': 0.6}\n",
      "------------\n",
      "Mean RMSE: 1.0035\n",
      "Mean FCP : 0.6859\n",
      "------------\n",
      "------------\n",
      "Parameters combination 3 of 8\n",
      "params:  {'n_epochs': 5, 'lr_all': 0.005, 'reg_all': 0.4}\n",
      "------------\n",
      "Mean RMSE: 0.9740\n",
      "Mean FCP : 0.6941\n",
      "------------\n",
      "------------\n",
      "Parameters combination 4 of 8\n",
      "params:  {'n_epochs': 5, 'lr_all': 0.005, 'reg_all': 0.6}\n",
      "------------\n",
      "Mean RMSE: 0.9826\n",
      "Mean FCP : 0.6952\n",
      "------------\n",
      "------------\n",
      "Parameters combination 5 of 8\n",
      "params:  {'n_epochs': 10, 'lr_all': 0.002, 'reg_all': 0.4}\n",
      "------------\n",
      "Mean RMSE: 0.9781\n",
      "Mean FCP : 0.6933\n",
      "------------\n",
      "------------\n",
      "Parameters combination 6 of 8\n",
      "params:  {'n_epochs': 10, 'lr_all': 0.002, 'reg_all': 0.6}\n",
      "------------\n",
      "Mean RMSE: 0.9863\n",
      "Mean FCP : 0.6938\n",
      "------------\n",
      "------------\n",
      "Parameters combination 7 of 8\n",
      "params:  {'n_epochs': 10, 'lr_all': 0.005, 'reg_all': 0.4}\n",
      "------------\n",
      "Mean RMSE: 0.9639\n",
      "Mean FCP : 0.6987\n",
      "------------\n",
      "------------\n",
      "Parameters combination 8 of 8\n",
      "params:  {'n_epochs': 10, 'lr_all': 0.005, 'reg_all': 0.6}\n",
      "------------\n",
      "Mean RMSE: 0.9737\n",
      "Mean FCP : 0.6990\n",
      "------------\n"
     ]
    }
   ],
   "source": [
    "from surprise import GridSearch\n",
    "\n",
    "# 定义好需要优选的参数网格\n",
    "param_grid = {'n_epochs': [5, 10], 'lr_all': [0.002, 0.005],\n",
    "              'reg_all': [0.4, 0.6]}\n",
    "# 使用网格搜索交叉验证\n",
    "grid_search = GridSearch(SVD, param_grid, measures=['RMSE', 'FCP'])\n",
    "# 在数据集上找到最好的参数\n",
    "data = Dataset.load_builtin('ml-100k')\n",
    "data.split(n_folds=3)\n",
    "grid_search.evaluate(data)"
   ]
  },
  {
   "cell_type": "code",
   "execution_count": 15,
   "metadata": {},
   "outputs": [
    {
     "name": "stdout",
     "output_type": "stream",
     "text": [
      "0.963907801579\n",
      "{'n_epochs': 10, 'lr_all': 0.005, 'reg_all': 0.4}\n",
      "0.699019179878\n",
      "{'n_epochs': 10, 'lr_all': 0.005, 'reg_all': 0.6}\n"
     ]
    }
   ],
   "source": [
    "# 输出调优的参数组 \n",
    "# 输出最好的RMSE结果\n",
    "print(grid_search.best_score['RMSE'])\n",
    "\n",
    "# 输出对应最好的RMSE结果的参数\n",
    "print(grid_search.best_params['RMSE'])\n",
    "\n",
    "# 最好的FCP得分\n",
    "print(grid_search.best_score['FCP'])\n",
    "\n",
    "# 对应最高FCP得分的参数\n",
    "print(grid_search.best_params['FCP'])"
   ]
  },
  {
   "cell_type": "markdown",
   "metadata": {},
   "source": [
    "我们也能用 参数调优库 [hyperopt](http://hyperopt.github.io/hyperopt/)，有点是使用tpe的方法"
   ]
  },
  {
   "cell_type": "markdown",
   "metadata": {},
   "source": [
    "## 不同的推荐系统算法评估 "
   ]
  },
  {
   "cell_type": "code",
   "execution_count": 18,
   "metadata": {
    "collapsed": true
   },
   "outputs": [],
   "source": [
    "import os\n",
    "from surprise import Reader\n",
    "\n",
    "# 指定文件所在路径\n",
    "file_path = os.path.expanduser('~/.surprise_data/ml-100k/ml-100k/u.data')\n",
    "# 告诉文本阅读器，文本的格式是怎么样的\n",
    "reader = Reader(line_format='user item rating timestamp', sep='\\t')\n",
    "# 加载数据\n",
    "data = Dataset.load_from_file(file_path, reader=reader)\n",
    "\n",
    "# 手动切分成5折(方便交叉验证)\n",
    "data.split(n_folds=5)"
   ]
  },
  {
   "cell_type": "code",
   "execution_count": 20,
   "metadata": {},
   "outputs": [
    {
     "name": "stdout",
     "output_type": "stream",
     "text": [
      "Evaluating RMSE, MAE of algorithm NormalPredictor.\n",
      "\n",
      "------------\n",
      "Fold 1\n",
      "RMSE: 1.5148\n",
      "MAE:  1.2168\n",
      "------------\n",
      "Fold 2\n",
      "RMSE: 1.5167\n",
      "MAE:  1.2192\n",
      "------------\n",
      "Fold 3\n",
      "RMSE: 1.5193\n",
      "MAE:  1.2173\n",
      "------------\n",
      "Fold 4\n",
      "RMSE: 1.5233\n",
      "MAE:  1.2210\n",
      "------------\n",
      "Fold 5\n",
      "RMSE: 1.5132\n",
      "MAE:  1.2120\n",
      "------------\n",
      "------------\n",
      "Mean RMSE: 1.5174\n",
      "Mean MAE : 1.2173\n",
      "------------\n",
      "------------\n"
     ]
    }
   ],
   "source": [
    "### 使用NormalPredictor\n",
    "from surprise import NormalPredictor, evaluate\n",
    "algo = NormalPredictor()\n",
    "perf = evaluate(algo, data, measures=['RMSE', 'MAE'])"
   ]
  },
  {
   "cell_type": "code",
   "execution_count": 23,
   "metadata": {},
   "outputs": [
    {
     "name": "stdout",
     "output_type": "stream",
     "text": [
      "Evaluating RMSE, MAE of algorithm BaselineOnly.\n",
      "\n",
      "------------\n",
      "Fold 1\n",
      "Estimating biases using als...\n",
      "RMSE: 0.9371\n",
      "MAE:  0.7410\n",
      "------------\n",
      "Fold 2\n",
      "Estimating biases using als...\n",
      "RMSE: 0.9488\n",
      "MAE:  0.7500\n",
      "------------\n",
      "Fold 3\n",
      "Estimating biases using als...\n",
      "RMSE: 0.9392\n",
      "MAE:  0.7468\n",
      "------------\n",
      "Fold 4\n",
      "Estimating biases using als...\n",
      "RMSE: 0.9487\n",
      "MAE:  0.7546\n",
      "------------\n",
      "Fold 5\n",
      "Estimating biases using als...\n",
      "RMSE: 0.9461\n",
      "MAE:  0.7491\n",
      "------------\n",
      "------------\n",
      "Mean RMSE: 0.9440\n",
      "Mean MAE : 0.7483\n",
      "------------\n",
      "------------\n"
     ]
    }
   ],
   "source": [
    "### 使用BaselineOnly\n",
    "from surprise import BaselineOnly, evaluate\n",
    "algo = BaselineOnly()\n",
    "perf = evaluate(algo, data, measures=['RMSE', 'MAE'],verbose=1)"
   ]
  },
  {
   "cell_type": "code",
   "execution_count": null,
   "metadata": {
    "collapsed": true
   },
   "outputs": [],
   "source": [
    "# ur[uid].append((iid, r)) # 用户对应的item评分\n",
    "# ir[iid].append((uid, r)) # item对应的用户评分\n",
    "\n",
    "# n_users = len(ur)  # number of users\n",
    "# n_items = len(ir)  # number of items\n",
    "# n_ratings = len(raw_trainset)"
   ]
  },
  {
   "cell_type": "code",
   "execution_count": 31,
   "metadata": {},
   "outputs": [
    {
     "name": "stdout",
     "output_type": "stream",
     "text": [
      "Evaluating RMSE, MAE of algorithm KNNBasic.\n",
      "\n",
      "------------\n",
      "Fold 1\n",
      "Computing the msd similarity matrix...\n",
      "Done computing similarity matrix.\n",
      "RMSE: 0.9734\n",
      "MAE:  0.7667\n",
      "------------\n",
      "Fold 2\n",
      "Computing the msd similarity matrix...\n",
      "Done computing similarity matrix.\n",
      "RMSE: 0.9849\n",
      "MAE:  0.7742\n",
      "------------\n",
      "Fold 3\n",
      "Computing the msd similarity matrix...\n",
      "Done computing similarity matrix.\n",
      "RMSE: 0.9701\n",
      "MAE:  0.7698\n",
      "------------\n",
      "Fold 4\n",
      "Computing the msd similarity matrix...\n",
      "Done computing similarity matrix.\n",
      "RMSE: 0.9871\n",
      "MAE:  0.7822\n",
      "------------\n",
      "Fold 5\n",
      "Computing the msd similarity matrix...\n",
      "Done computing similarity matrix.\n",
      "RMSE: 0.9776\n",
      "MAE:  0.7709\n",
      "------------\n",
      "------------\n",
      "Mean RMSE: 0.9786\n",
      "Mean MAE : 0.7728\n",
      "------------\n",
      "------------\n"
     ]
    }
   ],
   "source": [
    "### 使用基础版协同过滤\n",
    "from surprise import KNNBasic, evaluate\n",
    "algo = KNNBasic()\n",
    "perf = evaluate(algo, data, measures=['RMSE', 'MAE'])"
   ]
  },
  {
   "cell_type": "code",
   "execution_count": 32,
   "metadata": {},
   "outputs": [
    {
     "name": "stdout",
     "output_type": "stream",
     "text": [
      "Evaluating RMSE, MAE of algorithm KNNWithMeans.\n",
      "\n",
      "------------\n",
      "Fold 1\n",
      "Computing the msd similarity matrix...\n",
      "Done computing similarity matrix.\n",
      "RMSE: 0.9441\n",
      "MAE:  0.7425\n",
      "------------\n",
      "Fold 2\n",
      "Computing the msd similarity matrix...\n",
      "Done computing similarity matrix.\n",
      "RMSE: 0.9565\n",
      "MAE:  0.7522\n",
      "------------\n",
      "Fold 3\n",
      "Computing the msd similarity matrix...\n",
      "Done computing similarity matrix.\n",
      "RMSE: 0.9447\n",
      "MAE:  0.7468\n",
      "------------\n",
      "Fold 4\n",
      "Computing the msd similarity matrix...\n",
      "Done computing similarity matrix.\n",
      "RMSE: 0.9565\n",
      "MAE:  0.7551\n",
      "------------\n",
      "Fold 5\n",
      "Computing the msd similarity matrix...\n",
      "Done computing similarity matrix.\n",
      "RMSE: 0.9501\n",
      "MAE:  0.7468\n",
      "------------\n",
      "------------\n",
      "Mean RMSE: 0.9504\n",
      "Mean MAE : 0.7487\n",
      "------------\n",
      "------------\n"
     ]
    }
   ],
   "source": [
    "### 使用均值协同过滤\n",
    "from surprise import KNNWithMeans, evaluate\n",
    "algo = KNNWithMeans()\n",
    "perf = evaluate(algo, data, measures=['RMSE', 'MAE'])"
   ]
  },
  {
   "cell_type": "code",
   "execution_count": 34,
   "metadata": {},
   "outputs": [
    {
     "name": "stdout",
     "output_type": "stream",
     "text": [
      "Evaluating RMSE, MAE of algorithm KNNBaseline.\n",
      "\n",
      "------------\n",
      "Fold 1\n",
      "Estimating biases using als...\n",
      "Computing the msd similarity matrix...\n",
      "Done computing similarity matrix.\n",
      "RMSE: 0.9243\n",
      "MAE:  0.7266\n",
      "------------\n",
      "Fold 2\n",
      "Estimating biases using als...\n",
      "Computing the msd similarity matrix...\n",
      "Done computing similarity matrix.\n",
      "RMSE: 0.9364\n",
      "MAE:  0.7345\n",
      "------------\n",
      "Fold 3\n",
      "Estimating biases using als...\n",
      "Computing the msd similarity matrix...\n",
      "Done computing similarity matrix.\n",
      "RMSE: 0.9240\n",
      "MAE:  0.7305\n",
      "------------\n",
      "Fold 4\n",
      "Estimating biases using als...\n",
      "Computing the msd similarity matrix...\n",
      "Done computing similarity matrix.\n",
      "RMSE: 0.9345\n",
      "MAE:  0.7383\n",
      "------------\n",
      "Fold 5\n",
      "Estimating biases using als...\n",
      "Computing the msd similarity matrix...\n",
      "Done computing similarity matrix.\n",
      "RMSE: 0.9309\n",
      "MAE:  0.7319\n",
      "------------\n",
      "------------\n",
      "Mean RMSE: 0.9300\n",
      "Mean MAE : 0.7324\n",
      "------------\n",
      "------------\n"
     ]
    }
   ],
   "source": [
    "### 使用协同过滤baseline\n",
    "from surprise import KNNBaseline, evaluate\n",
    "algo = KNNBaseline()\n",
    "perf = evaluate(algo, data, measures=['RMSE', 'MAE'])"
   ]
  },
  {
   "cell_type": "code",
   "execution_count": 35,
   "metadata": {},
   "outputs": [
    {
     "name": "stdout",
     "output_type": "stream",
     "text": [
      "Evaluating RMSE, MAE of algorithm SVD.\n",
      "\n",
      "------------\n",
      "Fold 1\n",
      "RMSE: 0.9303\n",
      "MAE:  0.7311\n",
      "------------\n",
      "Fold 2\n",
      "RMSE: 0.9404\n",
      "MAE:  0.7392\n",
      "------------\n",
      "Fold 3\n",
      "RMSE: 0.9337\n",
      "MAE:  0.7367\n",
      "------------\n",
      "Fold 4\n",
      "RMSE: 0.9410\n",
      "MAE:  0.7446\n",
      "------------\n",
      "Fold 5\n",
      "RMSE: 0.9367\n",
      "MAE:  0.7378\n",
      "------------\n",
      "------------\n",
      "Mean RMSE: 0.9364\n",
      "Mean MAE : 0.7379\n",
      "------------\n",
      "------------\n"
     ]
    }
   ],
   "source": [
    "### 使用SVD\n",
    "from surprise import SVD, evaluate\n",
    "algo = SVD()\n",
    "perf = evaluate(algo, data, measures=['RMSE', 'MAE'])"
   ]
  },
  {
   "cell_type": "code",
   "execution_count": 36,
   "metadata": {},
   "outputs": [
    {
     "name": "stdout",
     "output_type": "stream",
     "text": [
      "Evaluating RMSE, MAE of algorithm SVDpp.\n",
      "\n",
      "------------\n",
      "Fold 1\n",
      "RMSE: 0.9173\n",
      "MAE:  0.7182\n",
      "------------\n",
      "Fold 2\n",
      "RMSE: 0.9274\n",
      "MAE:  0.7249\n",
      "------------\n",
      "Fold 3\n",
      "RMSE: 0.9139\n",
      "MAE:  0.7194\n",
      "------------\n",
      "Fold 4\n",
      "RMSE: 0.9244\n",
      "MAE:  0.7277\n",
      "------------\n",
      "Fold 5\n",
      "RMSE: 0.9235\n",
      "MAE:  0.7216\n",
      "------------\n",
      "------------\n",
      "Mean RMSE: 0.9213\n",
      "Mean MAE : 0.7224\n",
      "------------\n",
      "------------\n"
     ]
    }
   ],
   "source": [
    "### 使用SVD++\n",
    "from surprise import SVDpp, evaluate\n",
    "algo = SVDpp()\n",
    "perf = evaluate(algo, data, measures=['RMSE', 'MAE'])"
   ]
  },
  {
   "cell_type": "code",
   "execution_count": 37,
   "metadata": {},
   "outputs": [
    {
     "name": "stdout",
     "output_type": "stream",
     "text": [
      "Evaluating RMSE, MAE of algorithm NMF.\n",
      "\n",
      "------------\n",
      "Fold 1\n",
      "RMSE: 0.9604\n",
      "MAE:  0.7523\n",
      "------------\n",
      "Fold 2\n",
      "RMSE: 0.9718\n",
      "MAE:  0.7607\n",
      "------------\n",
      "Fold 3\n",
      "RMSE: 0.9591\n",
      "MAE:  0.7555\n",
      "------------\n",
      "Fold 4\n",
      "RMSE: 0.9708\n",
      "MAE:  0.7669\n",
      "------------\n",
      "Fold 5\n",
      "RMSE: 0.9640\n",
      "MAE:  0.7588\n",
      "------------\n",
      "------------\n",
      "Mean RMSE: 0.9652\n",
      "Mean MAE : 0.7589\n",
      "------------\n",
      "------------\n",
      "        Fold 1  Fold 2  Fold 3  Fold 4  Fold 5  Mean    \n",
      "RMSE    0.9604  0.9718  0.9591  0.9708  0.9640  0.9652  \n",
      "MAE     0.7523  0.7607  0.7555  0.7669  0.7588  0.7589  \n"
     ]
    }
   ],
   "source": [
    "### 使用NMF\n",
    "from surprise import NMF\n",
    "algo = NMF()\n",
    "perf = evaluate(algo, data, measures=['RMSE', 'MAE'])\n",
    "print_perf(perf)"
   ]
  },
  {
   "cell_type": "code",
   "execution_count": null,
   "metadata": {
    "collapsed": true
   },
   "outputs": [],
   "source": [
    "### 使用 SlopeOne\n",
    "from surprise import SlopeOne\n",
    "algo = SlopeOne()\n",
    "perf = evaluate(algo, data, measures=['RMSE', 'MAE'])\n",
    "print_perf(perf)"
   ]
  }
 ],
 "metadata": {
  "kernelspec": {
   "display_name": "Python 3",
   "language": "python",
   "name": "python3"
  },
  "language_info": {
   "codemirror_mode": {
    "name": "ipython",
    "version": 3
   },
   "file_extension": ".py",
   "mimetype": "text/x-python",
   "name": "python",
   "nbconvert_exporter": "python",
   "pygments_lexer": "ipython3",
   "version": "3.6.2"
  }
 },
 "nbformat": 4,
 "nbformat_minor": 2
}
