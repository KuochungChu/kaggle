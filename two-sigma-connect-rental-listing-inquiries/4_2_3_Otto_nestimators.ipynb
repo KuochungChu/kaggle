{
 "cells": [
  {
   "cell_type": "markdown",
   "metadata": {},
   "source": [
    "# XGBoost Parameter Tuning for Otto Dataset"
   ]
  },
  {
   "cell_type": "markdown",
   "metadata": {},
   "source": [
    "我们以Kaggle 2015年举办的Otto Group Product Classification Challenge竞赛数据为例，进行XGBoost参数调优探索。\n",
    "\n",
    "竞赛官网：https://www.kaggle.com/c/otto-group-product-classification-challenge/data"
   ]
  },
  {
   "cell_type": "markdown",
   "metadata": {},
   "source": [
    "首先 import 必要的模块"
   ]
  },
  {
   "cell_type": "code",
   "execution_count": 1,
   "metadata": {},
   "outputs": [],
   "source": [
    "import sys\n",
    "sys.path.append('/mnt/wc/xgboost/python-package')"
   ]
  },
  {
   "cell_type": "code",
   "execution_count": 2,
   "metadata": {},
   "outputs": [],
   "source": [
    "from xgboost import XGBClassifier\n",
    "import xgboost as xgb\n",
    "\n",
    "import pandas as pd \n",
    "import numpy as np\n",
    "\n",
    "from sklearn.model_selection import GridSearchCV\n",
    "from sklearn.model_selection import StratifiedKFold\n",
    "\n",
    "from sklearn.metrics import log_loss\n",
    "\n",
    "from matplotlib import pyplot\n",
    "import seaborn as sns\n",
    "%matplotlib inline"
   ]
  },
  {
   "cell_type": "markdown",
   "metadata": {},
   "source": [
    "## 读取数据"
   ]
  },
  {
   "cell_type": "code",
   "execution_count": 3,
   "metadata": {
    "scrolled": true
   },
   "outputs": [],
   "source": [
    "# path to where the data lies\n",
    "#dpath = '/Users/qing/desktop/XGBoost/data/'\n",
    "dpath = './data/'\n",
    "train = pd.read_csv(dpath +\"Otto_train.csv\")\n",
    "#train.head()"
   ]
  },
  {
   "cell_type": "markdown",
   "metadata": {},
   "source": [
    "## Variable Identification"
   ]
  },
  {
   "cell_type": "markdown",
   "metadata": {},
   "source": [
    "选择该数据集是因为的数据特征单一，我们可以在特征工程方面少做些工作，集中精力放在参数调优上"
   ]
  },
  {
   "cell_type": "markdown",
   "metadata": {},
   "source": [
    "## Target 分布，看看各类样本分布是否均衡"
   ]
  },
  {
   "cell_type": "code",
   "execution_count": 4,
   "metadata": {
    "scrolled": false
   },
   "outputs": [
    {
     "data": {
      "image/png": "[encoded data removed]",
      "text/plain": [
       "<matplotlib.figure.Figure at 0x7f56f2a02b38>"
      ]
     },
     "metadata": {},
     "output_type": "display_data"
    }
   ],
   "source": [
    "sns.countplot(train.target);\n",
    "pyplot.xlabel('target');\n",
    "pyplot.ylabel('Number of occurrences');"
   ]
  },
  {
   "cell_type": "markdown",
   "metadata": {},
   "source": [
    "每类样本分布不是很均匀，所以交叉验证时也考虑各类样本按比例抽取"
   ]
  },
  {
   "cell_type": "code",
   "execution_count": 5,
   "metadata": {},
   "outputs": [],
   "source": [
    "# drop ids and get labels\n",
    "y_train = train['target']\n",
    "y_train = y_train.map(lambda s: s[6:])\n",
    "y_train = y_train.map(lambda s: int(s)-1)\n",
    "\n",
    "train = train.drop([\"id\", \"target\"], axis=1)\n",
    "X_train = np.array(train)"
   ]
  },
  {
   "cell_type": "markdown",
   "metadata": {},
   "source": [
    "各类样本不均衡，交叉验证是采用StratifiedKFold，在每折采样时各类样本按比例采样"
   ]
  },
  {
   "cell_type": "code",
   "execution_count": 6,
   "metadata": {},
   "outputs": [],
   "source": [
    "# prepare cross validation\n",
    "kfold = StratifiedKFold(n_splits=5, shuffle=True, random_state=3)"
   ]
  },
  {
   "cell_type": "markdown",
   "metadata": {},
   "source": [
    "再次调整弱分类器数目"
   ]
  },
  {
   "cell_type": "code",
   "execution_count": 8,
   "metadata": {},
   "outputs": [],
   "source": [
    "def modelfit(alg, X_train, y_train, useTrainCV=True, cv_folds=None, early_stopping_rounds=100):\n",
    "    \n",
    "    if useTrainCV:\n",
    "        xgb_param = alg.get_xgb_params()\n",
    "        xgb_param['num_class'] = 9\n",
    "        \n",
    "        xgtrain = xgb.DMatrix(X_train, label = y_train)\n",
    "        \n",
    "        cvresult = xgb.cv(xgb_param, xgtrain, num_boost_round=alg.get_params()['n_estimators'], folds =cv_folds,\n",
    "                         metrics='mlogloss', early_stopping_rounds=early_stopping_rounds)\n",
    "        \n",
    "        n_estimators = cvresult.shape[0]\n",
    "        alg.set_params(n_estimators = n_estimators)\n",
    "        \n",
    "        print (cvresult)\n",
    "        #result = pd.DataFrame(cvresult)   #cv缺省返回结果为DataFrame\n",
    "        #result.to_csv('my_preds.csv', index_label = 'n_estimators')\n",
    "        cvresult.to_csv('my_preds4_2_3_699.csv', index_label = 'n_estimators')\n",
    "        \n",
    "        # plot\n",
    "        test_means = cvresult['test-mlogloss-mean']\n",
    "        test_stds = cvresult['test-mlogloss-std'] \n",
    "        \n",
    "        train_means = cvresult['train-mlogloss-mean']\n",
    "        train_stds = cvresult['train-mlogloss-std'] \n",
    "\n",
    "        x_axis = range(0, n_estimators)\n",
    "        pyplot.errorbar(x_axis, test_means, yerr=test_stds ,label='Test')\n",
    "        pyplot.errorbar(x_axis, train_means, yerr=train_stds ,label='Train')\n",
    "        pyplot.title(\"XGBoost n_estimators vs Log Loss\")\n",
    "        pyplot.xlabel( 'n_estimators' )\n",
    "        pyplot.ylabel( 'Log Loss' )\n",
    "        pyplot.savefig( 'n_estimators4_2_3_699.png' )\n",
    "    \n",
    "    #Fit the algorithm on the data\n",
    "    alg.fit(X_train, y_train, eval_metric='mlogloss')\n",
    "        \n",
    "    #Predict training set:\n",
    "    train_predprob = alg.predict_proba(X_train)\n",
    "    logloss = log_loss(y_train, train_predprob)\n",
    "\n",
    "        \n",
    "    #Print model report:\n",
    "    print (\"logloss of train :\" )\n",
    "    print(logloss)"
   ]
  },
  {
   "cell_type": "code",
   "execution_count": 9,
   "metadata": {
    "scrolled": true
   },
   "outputs": [
    {
     "name": "stdout",
     "output_type": "stream",
     "text": [
      "     test-mlogloss-mean  test-mlogloss-std  train-mlogloss-mean  \\\n",
      "0              1.961627           0.000517             1.955248   \n",
      "1              1.795796           0.003058             1.783224   \n",
      "2              1.665884           0.004086             1.647505   \n",
      "3              1.558645           0.002543             1.534984   \n",
      "4              1.465400           0.001869             1.437175   \n",
      "5              1.387757           0.003655             1.354824   \n",
      "6              1.314721           0.004154             1.277752   \n",
      "7              1.251777           0.003837             1.211168   \n",
      "8              1.195794           0.005206             1.151364   \n",
      "9              1.144679           0.004419             1.096901   \n",
      "10             1.099433           0.004261             1.048852   \n",
      "11             1.058590           0.004060             1.005104   \n",
      "12             1.021257           0.004488             0.964658   \n",
      "13             0.987000           0.004927             0.927563   \n",
      "14             0.956098           0.004706             0.893728   \n",
      "15             0.928404           0.004305             0.863085   \n",
      "16             0.902536           0.004753             0.834681   \n",
      "17             0.878609           0.005578             0.808191   \n",
      "18             0.856324           0.005759             0.783529   \n",
      "19             0.836034           0.006228             0.761071   \n",
      "20             0.816848           0.006068             0.739877   \n",
      "21             0.799199           0.005821             0.719909   \n",
      "22             0.782489           0.005837             0.700980   \n",
      "23             0.767715           0.005904             0.683752   \n",
      "24             0.753684           0.006221             0.667591   \n",
      "25             0.740214           0.006087             0.652069   \n",
      "26             0.727981           0.005948             0.637751   \n",
      "27             0.716602           0.005802             0.624564   \n",
      "28             0.705721           0.005511             0.611763   \n",
      "29             0.695838           0.005445             0.600019   \n",
      "..                  ...                ...                  ...   \n",
      "209            0.482427           0.006845             0.193578   \n",
      "210            0.482407           0.006850             0.192723   \n",
      "211            0.482476           0.006804             0.192023   \n",
      "212            0.482453           0.006775             0.191294   \n",
      "213            0.482463           0.006867             0.190510   \n",
      "214            0.482399           0.006846             0.189745   \n",
      "215            0.482313           0.006807             0.188852   \n",
      "216            0.482345           0.006860             0.188160   \n",
      "217            0.482205           0.006879             0.187333   \n",
      "218            0.482133           0.006943             0.186691   \n",
      "219            0.482153           0.006881             0.186069   \n",
      "220            0.481984           0.006860             0.185292   \n",
      "221            0.481830           0.006831             0.184520   \n",
      "222            0.481701           0.006787             0.183769   \n",
      "223            0.481611           0.006799             0.183066   \n",
      "224            0.481493           0.006784             0.182325   \n",
      "225            0.481473           0.006864             0.181663   \n",
      "226            0.481496           0.006960             0.180994   \n",
      "227            0.481486           0.006911             0.180288   \n",
      "228            0.481462           0.006910             0.179681   \n",
      "229            0.481399           0.006942             0.179078   \n",
      "230            0.481339           0.006913             0.178364   \n",
      "231            0.481369           0.006785             0.177682   \n",
      "232            0.481392           0.006778             0.177047   \n",
      "233            0.481334           0.006888             0.176394   \n",
      "234            0.481480           0.006910             0.175772   \n",
      "235            0.481420           0.006917             0.175054   \n",
      "236            0.481360           0.006932             0.174395   \n",
      "237            0.481373           0.006903             0.173737   \n",
      "238            0.481315           0.006765             0.173104   \n",
      "\n",
      "     train-mlogloss-std  \n",
      "0              0.000945  \n",
      "1              0.003633  \n",
      "2              0.003480  \n",
      "3              0.002858  \n",
      "4              0.000598  \n",
      "5              0.002136  \n",
      "6              0.002478  \n",
      "7              0.002869  \n",
      "8              0.001548  \n",
      "9              0.001461  \n",
      "10             0.002660  \n",
      "11             0.002596  \n",
      "12             0.001936  \n",
      "13             0.001517  \n",
      "14             0.002060  \n",
      "15             0.002655  \n",
      "16             0.002352  \n",
      "17             0.002025  \n",
      "18             0.002471  \n",
      "19             0.002264  \n",
      "20             0.002715  \n",
      "21             0.002512  \n",
      "22             0.001979  \n",
      "23             0.001988  \n",
      "24             0.001828  \n",
      "25             0.001674  \n",
      "26             0.002030  \n",
      "27             0.001884  \n",
      "28             0.002351  \n",
      "29             0.002546  \n",
      "..                  ...  \n",
      "209            0.002941  \n",
      "210            0.002910  \n",
      "211            0.002937  \n",
      "212            0.002927  \n",
      "213            0.002860  \n",
      "214            0.002842  \n",
      "215            0.002804  \n",
      "216            0.002776  \n",
      "217            0.002706  \n",
      "218            0.002791  \n",
      "219            0.002800  \n",
      "220            0.002804  \n",
      "221            0.002750  \n",
      "222            0.002719  \n",
      "223            0.002754  \n",
      "224            0.002683  \n",
      "225            0.002663  \n",
      "226            0.002671  \n",
      "227            0.002627  \n",
      "228            0.002660  \n",
      "229            0.002666  \n",
      "230            0.002673  \n",
      "231            0.002694  \n",
      "232            0.002675  \n",
      "233            0.002681  \n",
      "234            0.002616  \n",
      "235            0.002572  \n",
      "236            0.002597  \n",
      "237            0.002595  \n",
      "238            0.002598  \n",
      "\n",
      "[239 rows x 4 columns]\n",
      "logloss of train :\n",
      "0.20054265262587195\n"
     ]
    },
    {
     "data": {
      "image/png": "[encoded data removed]",
      "text/plain": [
       "<matplotlib.figure.Figure at 0x7f56f26dca90>"
      ]
     },
     "metadata": {},
     "output_type": "display_data"
    }
   ],
   "source": [
    "#调整max_depth和min_child_weight之后再次调整n_estimators(6,4)\n",
    "xgb2_3 = XGBClassifier(\n",
    "        learning_rate =0.1,\n",
    "        n_estimators=699,  #数值大没关系，cv会自动返回合适的n_estimators\n",
    "        max_depth=9,\n",
    "        min_child_weight=0.5,\n",
    "        gamma=0,\n",
    "        subsample=0.3,\n",
    "        colsample_bytree=0.8,\n",
    "        colsample_bylevel=0.7,\n",
    "        objective= 'multi:softprob',\n",
    "        seed=3,\n",
    "        tree_method='gpu_hist',\n",
    "        predictor='gpu_predictor',\n",
    "        n_jobs= -1)\n",
    "\n",
    "modelfit(xgb2_3, X_train, y_train, cv_folds = kfold)\n",
    "#from sklearn.model_selection import cross_val_score\n",
    "#results = cross_val_score(xgb2_3, X_train, y_train, metrics='mlogloss', cv=kfold)\n",
    "#print results\n",
    "#print(\"CV logloss: %.2f%% (%.2f%%)\" % (results.mean()*100, results.std()*100))"
   ]
  },
  {
   "cell_type": "code",
   "execution_count": 10,
   "metadata": {},
   "outputs": [
    {
     "name": "stderr",
     "output_type": "stream",
     "text": [
      "/mnt/wc/anaconda3/envs/fastai/lib/python3.6/site-packages/ipykernel_launcher.py:1: FutureWarning: from_csv is deprecated. Please use read_csv(...) instead. Note that some of the default arguments are different, so please refer to the documentation for from_csv when changing your function calls\n",
      "  \"\"\"Entry point for launching an IPython kernel.\n"
     ]
    },
    {
     "data": {
      "image/png": "[encoded data removed]",
      "text/plain": [
       "<matplotlib.figure.Figure at 0x7f56ed5b9e80>"
      ]
     },
     "metadata": {},
     "output_type": "display_data"
    }
   ],
   "source": [
    "cvresult = pd.DataFrame.from_csv('my_preds4_2_3_699.csv')\n",
    "\n",
    "cvresult = cvresult.iloc[100:]\n",
    "# plot\n",
    "test_means = cvresult['test-mlogloss-mean']\n",
    "test_stds = cvresult['test-mlogloss-std'] \n",
    "        \n",
    "train_means = cvresult['train-mlogloss-mean']\n",
    "train_stds = cvresult['train-mlogloss-std'] \n",
    "\n",
    "x_axis = range(100,cvresult.shape[0]+100)\n",
    "        \n",
    "fig = pyplot.figure(figsize=(10, 10), dpi=100)\n",
    "pyplot.errorbar(x_axis, test_means, yerr=test_stds ,label='Test')\n",
    "pyplot.errorbar(x_axis, train_means, yerr=train_stds ,label='Train')\n",
    "pyplot.title(\"XGBoost n_estimators vs Log Loss\")\n",
    "pyplot.xlabel( 'n_estimators' )\n",
    "pyplot.ylabel( 'Log Loss' )\n",
    "pyplot.savefig( 'n_estimators_detail4_2_3_699.png' )\n",
    "\n",
    "pyplot.show()"
   ]
  },
  {
   "cell_type": "code",
   "execution_count": 11,
   "metadata": {},
   "outputs": [
    {
     "data": {
      "text/plain": [
       "{'base_score': 0.5,\n",
       " 'booster': 'gbtree',\n",
       " 'colsample_bylevel': 0.7,\n",
       " 'colsample_bytree': 0.8,\n",
       " 'gamma': 0,\n",
       " 'learning_rate': 0.1,\n",
       " 'max_delta_step': 0,\n",
       " 'max_depth': 9,\n",
       " 'min_child_weight': 0.5,\n",
       " 'missing': None,\n",
       " 'n_estimators': 239,\n",
       " 'n_jobs': -1,\n",
       " 'nthread': None,\n",
       " 'objective': 'multi:softprob',\n",
       " 'predictor': 'gpu_predictor',\n",
       " 'random_state': 0,\n",
       " 'reg_alpha': 0,\n",
       " 'reg_lambda': 1,\n",
       " 'scale_pos_weight': 1,\n",
       " 'seed': 3,\n",
       " 'silent': True,\n",
       " 'subsample': 0.3,\n",
       " 'tree_method': 'gpu_hist'}"
      ]
     },
     "execution_count": 11,
     "metadata": {},
     "output_type": "execute_result"
    }
   ],
   "source": [
    "xgb2_3.get_params()"
   ]
  },
  {
   "cell_type": "code",
   "execution_count": null,
   "metadata": {},
   "outputs": [],
   "source": []
  }
 ],
 "metadata": {
  "kernelspec": {
   "display_name": "Python 3",
   "language": "python",
   "name": "python3"
  },
  "language_info": {
   "codemirror_mode": {
    "name": "ipython",
    "version": 3
   },
   "file_extension": ".py",
   "mimetype": "text/x-python",
   "name": "python",
   "nbconvert_exporter": "python",
   "pygments_lexer": "ipython3",
   "version": "3.6.4"
  }
 },
 "nbformat": 4,
 "nbformat_minor": 2
}
