{
 "cells": [
  {
   "cell_type": "code",
   "execution_count": 62,
   "metadata": {},
   "outputs": [],
   "source": [
    "# 开启多行显示\n",
    "from IPython.core.interactiveshell import InteractiveShell\n",
    "InteractiveShell.ast_node_interactivity = \"all\"\n",
    "InteractiveShell.ast_node_interactivity = \"last_expr\"\n",
    "\n",
    "# 显示图片\n",
    "%matplotlib inline\n",
    "%config InlineBackend.figure_format = 'retina'"
   ]
  },
  {
   "cell_type": "markdown",
   "metadata": {},
   "source": [
    "## 数据探索"
   ]
  },
  {
   "cell_type": "code",
   "execution_count": 2,
   "metadata": {},
   "outputs": [],
   "source": [
    "import pandas as pd\n",
    "import numpy as np\n",
    "import nltk\n",
    "import pickle\n",
    "import os"
   ]
  },
  {
   "cell_type": "code",
   "execution_count": 3,
   "metadata": {},
   "outputs": [],
   "source": [
    "train = pd.read_csv(\"../data/crowdflower-search-relevance/train.csv\")\n",
    "test = pd.read_csv(\"../data/crowdflower-search-relevance/test.csv\")"
   ]
  },
  {
   "cell_type": "code",
   "execution_count": 4,
   "metadata": {},
   "outputs": [
    {
     "data": {
      "text/html": [
       "<div>\n",
       "<style scoped>\n",
       "    .dataframe tbody tr th:only-of-type {\n",
       "        vertical-align: middle;\n",
       "    }\n",
       "\n",
       "    .dataframe tbody tr th {\n",
       "        vertical-align: top;\n",
       "    }\n",
       "\n",
       "    .dataframe thead th {\n",
       "        text-align: right;\n",
       "    }\n",
       "</style>\n",
       "<table border=\"1\" class=\"dataframe\">\n",
       "  <thead>\n",
       "    <tr style=\"text-align: right;\">\n",
       "      <th></th>\n",
       "      <th>id</th>\n",
       "      <th>query</th>\n",
       "      <th>product_title</th>\n",
       "      <th>product_description</th>\n",
       "      <th>median_relevance</th>\n",
       "      <th>relevance_variance</th>\n",
       "    </tr>\n",
       "  </thead>\n",
       "  <tbody>\n",
       "    <tr>\n",
       "      <th>0</th>\n",
       "      <td>1</td>\n",
       "      <td>bridal shower decorations</td>\n",
       "      <td>Accent Pillow with Heart Design - Red/Black</td>\n",
       "      <td>Red satin accent pillow embroidered with a hea...</td>\n",
       "      <td>1</td>\n",
       "      <td>0.000</td>\n",
       "    </tr>\n",
       "    <tr>\n",
       "      <th>1</th>\n",
       "      <td>2</td>\n",
       "      <td>led christmas lights</td>\n",
       "      <td>Set of 10 Battery Operated Multi LED Train Chr...</td>\n",
       "      <td>Set of 10 Battery Operated Train Christmas Lig...</td>\n",
       "      <td>4</td>\n",
       "      <td>0.000</td>\n",
       "    </tr>\n",
       "    <tr>\n",
       "      <th>2</th>\n",
       "      <td>4</td>\n",
       "      <td>projector</td>\n",
       "      <td>ViewSonic Pro8200 DLP Multimedia Projector</td>\n",
       "      <td>NaN</td>\n",
       "      <td>4</td>\n",
       "      <td>0.471</td>\n",
       "    </tr>\n",
       "    <tr>\n",
       "      <th>3</th>\n",
       "      <td>5</td>\n",
       "      <td>wine rack</td>\n",
       "      <td>Concept Housewares WR-44526 Solid-Wood Ceiling...</td>\n",
       "      <td>Like a silent and sturdy tree, the Southern En...</td>\n",
       "      <td>4</td>\n",
       "      <td>0.000</td>\n",
       "    </tr>\n",
       "    <tr>\n",
       "      <th>4</th>\n",
       "      <td>7</td>\n",
       "      <td>light bulb</td>\n",
       "      <td>Wintergreen Lighting Christmas LED Light Bulb ...</td>\n",
       "      <td>WTGR1011\\nFeatures\\nNickel base, 60,000 averag...</td>\n",
       "      <td>2</td>\n",
       "      <td>0.471</td>\n",
       "    </tr>\n",
       "  </tbody>\n",
       "</table>\n",
       "</div>"
      ],
      "text/plain": [
       "   id                      query  \\\n",
       "0   1  bridal shower decorations   \n",
       "1   2       led christmas lights   \n",
       "2   4                  projector   \n",
       "3   5                  wine rack   \n",
       "4   7                 light bulb   \n",
       "\n",
       "                                       product_title  \\\n",
       "0        Accent Pillow with Heart Design - Red/Black   \n",
       "1  Set of 10 Battery Operated Multi LED Train Chr...   \n",
       "2         ViewSonic Pro8200 DLP Multimedia Projector   \n",
       "3  Concept Housewares WR-44526 Solid-Wood Ceiling...   \n",
       "4  Wintergreen Lighting Christmas LED Light Bulb ...   \n",
       "\n",
       "                                 product_description  median_relevance  \\\n",
       "0  Red satin accent pillow embroidered with a hea...                 1   \n",
       "1  Set of 10 Battery Operated Train Christmas Lig...                 4   \n",
       "2                                                NaN                 4   \n",
       "3  Like a silent and sturdy tree, the Southern En...                 4   \n",
       "4  WTGR1011\\nFeatures\\nNickel base, 60,000 averag...                 2   \n",
       "\n",
       "   relevance_variance  \n",
       "0               0.000  \n",
       "1               0.000  \n",
       "2               0.471  \n",
       "3               0.000  \n",
       "4               0.471  "
      ]
     },
     "execution_count": 4,
     "metadata": {},
     "output_type": "execute_result"
    }
   ],
   "source": [
    "train.head()"
   ]
  },
  {
   "cell_type": "code",
   "execution_count": 5,
   "metadata": {},
   "outputs": [
    {
     "data": {
      "text/html": [
       "<div>\n",
       "<style scoped>\n",
       "    .dataframe tbody tr th:only-of-type {\n",
       "        vertical-align: middle;\n",
       "    }\n",
       "\n",
       "    .dataframe tbody tr th {\n",
       "        vertical-align: top;\n",
       "    }\n",
       "\n",
       "    .dataframe thead th {\n",
       "        text-align: right;\n",
       "    }\n",
       "</style>\n",
       "<table border=\"1\" class=\"dataframe\">\n",
       "  <thead>\n",
       "    <tr style=\"text-align: right;\">\n",
       "      <th></th>\n",
       "      <th>id</th>\n",
       "      <th>query</th>\n",
       "      <th>product_title</th>\n",
       "      <th>product_description</th>\n",
       "    </tr>\n",
       "  </thead>\n",
       "  <tbody>\n",
       "    <tr>\n",
       "      <th>0</th>\n",
       "      <td>3</td>\n",
       "      <td>electric griddle</td>\n",
       "      <td>Star-Max 48 in Electric Griddle</td>\n",
       "      <td>NaN</td>\n",
       "    </tr>\n",
       "    <tr>\n",
       "      <th>1</th>\n",
       "      <td>6</td>\n",
       "      <td>phillips coffee maker</td>\n",
       "      <td>Philips SENSEO HD7810 WHITE Single Serve Pod C...</td>\n",
       "      <td>NaN</td>\n",
       "    </tr>\n",
       "    <tr>\n",
       "      <th>2</th>\n",
       "      <td>9</td>\n",
       "      <td>san francisco 49ers</td>\n",
       "      <td>2013 San Francisco 49ers Clock</td>\n",
       "      <td>A 2013 San Francisco 49ers clock is the ultima...</td>\n",
       "    </tr>\n",
       "    <tr>\n",
       "      <th>3</th>\n",
       "      <td>11</td>\n",
       "      <td>aveeno shampoo</td>\n",
       "      <td>AVEENO       10.5FLOZ NRSH SHINE SH</td>\n",
       "      <td>Water, Ammonium Lauryl Sulfate, Dimethicone, S...</td>\n",
       "    </tr>\n",
       "    <tr>\n",
       "      <th>4</th>\n",
       "      <td>12</td>\n",
       "      <td>flea and tick control for dogs</td>\n",
       "      <td>Merial Frontline Plus Flea and Tick Control fo...</td>\n",
       "      <td>NaN</td>\n",
       "    </tr>\n",
       "  </tbody>\n",
       "</table>\n",
       "</div>"
      ],
      "text/plain": [
       "   id                           query  \\\n",
       "0   3                electric griddle   \n",
       "1   6           phillips coffee maker   \n",
       "2   9             san francisco 49ers   \n",
       "3  11                  aveeno shampoo   \n",
       "4  12  flea and tick control for dogs   \n",
       "\n",
       "                                       product_title  \\\n",
       "0                    Star-Max 48 in Electric Griddle   \n",
       "1  Philips SENSEO HD7810 WHITE Single Serve Pod C...   \n",
       "2                     2013 San Francisco 49ers Clock   \n",
       "3                AVEENO       10.5FLOZ NRSH SHINE SH   \n",
       "4  Merial Frontline Plus Flea and Tick Control fo...   \n",
       "\n",
       "                                 product_description  \n",
       "0                                                NaN  \n",
       "1                                                NaN  \n",
       "2  A 2013 San Francisco 49ers clock is the ultima...  \n",
       "3  Water, Ammonium Lauryl Sulfate, Dimethicone, S...  \n",
       "4                                                NaN  "
      ]
     },
     "execution_count": 5,
     "metadata": {},
     "output_type": "execute_result"
    }
   ],
   "source": [
    "test.head()"
   ]
  },
  {
   "cell_type": "markdown",
   "metadata": {},
   "source": [
    "此处 train.csv 中的每列含义：\n",
    "\n",
    "id: 产品id\n",
    "\n",
    "query: 搜索词语\n",
    "\n",
    "product_title：产品标题\n",
    "\n",
    "product_description: 产品描述的完整文本（部分带有HTML标签）\n",
    "\n",
    "median_relevance: 三位评分员的相关性评分中位数. 值为1到4的整数.\n",
    "\n",
    "relevance_variance: 评分员的相关性评分的方差.\n",
    "\n",
    "其中我们的目标值是 median_relevance ， relevance_variance 则可以作为一个数据可靠性的参考，观察数据我们能从中提取的特征主要就是文本特征。"
   ]
  },
  {
   "cell_type": "code",
   "execution_count": 6,
   "metadata": {},
   "outputs": [
    {
     "name": "stdout",
     "output_type": "stream",
     "text": [
      "10158 22513\n"
     ]
    }
   ],
   "source": [
    "print(len(train),len(test))"
   ]
  },
  {
   "cell_type": "markdown",
   "metadata": {},
   "source": [
    "我们有1w条训练数据，2w条测试数据"
   ]
  },
  {
   "cell_type": "code",
   "execution_count": 7,
   "metadata": {},
   "outputs": [
    {
     "data": {
      "text/plain": [
       "array(['bridal shower decorations', 'led christmas lights', 'projector',\n",
       "       'wine rack', 'light bulb', 'oakley polarized radar',\n",
       "       'boyfriend jeans', 'screen protector samsung', 'pots and pans set',\n",
       "       'waffle maker'], dtype=object)"
      ]
     },
     "execution_count": 7,
     "metadata": {},
     "output_type": "execute_result"
    },
    {
     "data": {
      "text/plain": [
       "261"
      ]
     },
     "execution_count": 7,
     "metadata": {},
     "output_type": "execute_result"
    },
    {
     "data": {
      "text/plain": [
       "261"
      ]
     },
     "execution_count": 7,
     "metadata": {},
     "output_type": "execute_result"
    }
   ],
   "source": [
    "train['query'].unique()[0:10]\n",
    "len(train['query'].unique())\n",
    "len(test['query'].unique())"
   ]
  },
  {
   "cell_type": "code",
   "execution_count": 8,
   "metadata": {},
   "outputs": [
    {
     "data": {
      "text/plain": [
       "array(['Accent Pillow with Heart Design - Red/Black',\n",
       "       'Set of 10 Battery Operated Multi LED Train Christmas Lights - Clear Wire',\n",
       "       'ViewSonic Pro8200 DLP Multimedia Projector',\n",
       "       'Concept Housewares WR-44526 Solid-Wood Ceiling/Wall-Mount Wine Rack, Charcoal Grey, 6 Bottle',\n",
       "       'Wintergreen Lighting Christmas LED Light Bulb (Pack of 25)',\n",
       "       'Oakley Sunglasses - Radar Path Polished Black/Gray Sunglasses',\n",
       "       'How To Make An American Quilt (DVD)',\n",
       "       'ZAGG InvisibleShield Cell Phone Screen Protector for Samsung Galaxy S4 Mini',\n",
       "       'Cook N Home Stainless Steel 4-Piece Pasta Cooker/ Steamer Multi-pots with Encapsulated Bottom, 8-Quart',\n",
       "       'Presto FlipSide Electric Waffle Maker- 03510'], dtype=object)"
      ]
     },
     "execution_count": 8,
     "metadata": {},
     "output_type": "execute_result"
    },
    {
     "data": {
      "text/plain": [
       "9708"
      ]
     },
     "execution_count": 8,
     "metadata": {},
     "output_type": "execute_result"
    },
    {
     "data": {
      "text/plain": [
       "21110"
      ]
     },
     "execution_count": 8,
     "metadata": {},
     "output_type": "execute_result"
    }
   ],
   "source": [
    "train['product_title'].unique()[0:10]\n",
    "\n",
    "len(train['product_title'].unique())\n",
    "\n",
    "len(test['product_title'].unique())"
   ]
  },
  {
   "cell_type": "markdown",
   "metadata": {},
   "source": [
    "同一个 query 会和不同的文档组成集合对，大多数文档会有多个query"
   ]
  },
  {
   "cell_type": "code",
   "execution_count": 9,
   "metadata": {},
   "outputs": [
    {
     "data": {
      "text/plain": [
       "20082"
      ]
     },
     "execution_count": 9,
     "metadata": {},
     "output_type": "execute_result"
    },
    {
     "data": {
      "text/plain": [
       "1028"
      ]
     },
     "execution_count": 9,
     "metadata": {},
     "output_type": "execute_result"
    }
   ],
   "source": [
    "# unique values in `test` that are not in `train`.\n",
    "len(np.setdiff1d(test['product_title'].unique(),train['product_title'].unique()))\n",
    "# 并集\n",
    "len(np.intersect1d(test['product_title'].unique(),train['product_title'].unique()))"
   ]
  },
  {
   "cell_type": "markdown",
   "metadata": {},
   "source": [
    "测试集合和训练集合标题重叠的不多"
   ]
  },
  {
   "cell_type": "code",
   "execution_count": 10,
   "metadata": {},
   "outputs": [],
   "source": [
    "query = train['query'].map(nltk.tokenize.word_tokenize)\n",
    "\n",
    "from nltk.corpus import stopwords\n",
    "stopset = set(stopwords.words('english'))"
   ]
  },
  {
   "cell_type": "code",
   "execution_count": 11,
   "metadata": {},
   "outputs": [],
   "source": [
    "def key_plot(data,col,top_num=10):  \n",
    "    s= data[col].map(nltk.tokenize.word_tokenize)\n",
    "    fdist=nltk.FreqDist( words.lower()  for x in s\n",
    "                    for words in x if words.lower() not in stopset )\n",
    "    top=pd.DataFrame(fdist.most_common(top_num),columns=['query','times'])\n",
    "    top=top.set_index('query')\n",
    "    top.plot(kind='bar')"
   ]
  },
  {
   "cell_type": "code",
   "execution_count": 12,
   "metadata": {},
   "outputs": [
    {
     "data": {
      "image/png": "[encoded data removed]",
      "text/plain": [
       "<matplotlib.figure.Figure at 0x1a171d9fd0>"
      ]
     },
     "metadata": {
      "image/png": {
       "height": 298,
       "width": 377
      }
     },
     "output_type": "display_data"
    }
   ],
   "source": [
    "key_plot(train,'query')"
   ]
  },
  {
   "cell_type": "code",
   "execution_count": 13,
   "metadata": {},
   "outputs": [
    {
     "data": {
      "image/png": "[encoded data removed]",
      "text/plain": [
       "<matplotlib.figure.Figure at 0x1a17681dd8>"
      ]
     },
     "metadata": {
      "image/png": {
       "height": 296,
       "width": 377
      }
     },
     "output_type": "display_data"
    }
   ],
   "source": [
    "key_plot(test,'query')"
   ]
  },
  {
   "cell_type": "markdown",
   "metadata": {},
   "source": [
    "## 数据预处理"
   ]
  },
  {
   "cell_type": "code",
   "execution_count": 14,
   "metadata": {},
   "outputs": [],
   "source": [
    "dfTrain = pd.read_csv(\"../data/crowdflower-search-relevance/train.csv\").fillna(\"\")\n",
    "dfTest = pd.read_csv(\"../data/crowdflower-search-relevance/test.csv\").fillna(\"\")"
   ]
  },
  {
   "cell_type": "code",
   "execution_count": 15,
   "metadata": {},
   "outputs": [],
   "source": [
    "# number of train/test samples\n",
    "num_train, num_test = dfTrain.shape[0], dfTest.shape[0]"
   ]
  },
  {
   "cell_type": "code",
   "execution_count": 16,
   "metadata": {},
   "outputs": [],
   "source": [
    "dfTest[\"median_relevance\"] = np.ones((num_test))\n",
    "dfTest[\"relevance_variance\"] = np.zeros((num_test))"
   ]
  },
  {
   "cell_type": "code",
   "execution_count": 17,
   "metadata": {},
   "outputs": [],
   "source": [
    "## insert sample index\n",
    "dfTrain[\"index\"] = np.arange(num_train)\n",
    "dfTest[\"index\"] = np.arange(num_test)"
   ]
  },
  {
   "cell_type": "code",
   "execution_count": 19,
   "metadata": {},
   "outputs": [],
   "source": [
    "## one-hot encode the median_relevance\n",
    "for i in range(4):\n",
    "    dfTrain[\"median_relevance_%d\" % (i+1)] = 0\n",
    "    # 先选行，再选列\n",
    "    dfTrain.loc[dfTrain[\"median_relevance\"]==(i+1), \"median_relevance_%d\" % (i+1)] = 1"
   ]
  },
  {
   "cell_type": "code",
   "execution_count": 20,
   "metadata": {},
   "outputs": [],
   "source": [
    "# pd.get_dummies(dfTrain['median_relevance'],prefix='median_relevance')"
   ]
  },
  {
   "cell_type": "code",
   "execution_count": 21,
   "metadata": {},
   "outputs": [],
   "source": [
    "## query ids\n",
    "qid_dict = dict()\n",
    "for i,q in enumerate(np.unique(dfTrain[\"query\"]), start=1):\n",
    "    qid_dict[q] = i"
   ]
  },
  {
   "cell_type": "code",
   "execution_count": 22,
   "metadata": {},
   "outputs": [
    {
     "data": {
      "text/plain": [
       "0"
      ]
     },
     "execution_count": 22,
     "metadata": {},
     "output_type": "execute_result"
    }
   ],
   "source": [
    "len(np.setdiff1d(test['query'].unique(),train['query'].unique()))"
   ]
  },
  {
   "cell_type": "code",
   "execution_count": 23,
   "metadata": {},
   "outputs": [],
   "source": [
    "## insert query id\n",
    "dfTrain[\"qid\"] = dfTrain[\"query\"].apply(lambda q: qid_dict[q])\n",
    "dfTest[\"qid\"] = dfTest[\"query\"].apply(lambda q: qid_dict[q])"
   ]
  },
  {
   "cell_type": "code",
   "execution_count": 31,
   "metadata": {
    "collapsed": true
   },
   "outputs": [
    {
     "name": "stderr",
     "output_type": "stream",
     "text": [
      "/Users/zhuanxu/anaconda/envs/kaggle/lib/python3.6/site-packages/bs4/__init__.py:282: UserWarning: \"http://i104.photobucket.com/albums/m175/champions_on_display/wincraft2013/januaryb/65497012.jpg\" looks like a URL. Beautiful Soup is not an HTTP client. You should probably use an HTTP client like requests to get the document behind the URL, and feed that document to Beautiful Soup.\n",
      "  ' that document to Beautiful Soup.' % decoded_markup\n",
      "/Users/zhuanxu/anaconda/envs/kaggle/lib/python3.6/site-packages/bs4/__init__.py:282: UserWarning: \"http://i104.photobucket.com/albums/m175/champions_on_display/wincraft2013/januaryb/65516012.jpg\" looks like a URL. Beautiful Soup is not an HTTP client. You should probably use an HTTP client like requests to get the document behind the URL, and feed that document to Beautiful Soup.\n",
      "  ' that document to Beautiful Soup.' % decoded_markup\n",
      "/Users/zhuanxu/anaconda/envs/kaggle/lib/python3.6/site-packages/bs4/__init__.py:282: UserWarning: \"http://i104.photobucket.com/albums/m175/champions_on_display/wincraft2013/januaryb/6552101\" looks like a URL. Beautiful Soup is not an HTTP client. You should probably use an HTTP client like requests to get the document behind the URL, and feed that document to Beautiful Soup.\n",
      "  ' that document to Beautiful Soup.' % decoded_markup\n",
      "/Users/zhuanxu/anaconda/envs/kaggle/lib/python3.6/site-packages/bs4/__init__.py:282: UserWarning: \"http://i104.photobucket.com/albums/m175/champions_on_display/wincraft2013/januaryb/65527\" looks like a URL. Beautiful Soup is not an HTTP client. You should probably use an HTTP client like requests to get the document behind the URL, and feed that document to Beautiful Soup.\n",
      "  ' that document to Beautiful Soup.' % decoded_markup\n",
      "/Users/zhuanxu/anaconda/envs/kaggle/lib/python3.6/site-packages/bs4/__init__.py:282: UserWarning: \"http://i104.photobucket.com/albums/m175/champions_on_display/wincraft2013/januarya/14146012.jpg\" looks like a URL. Beautiful Soup is not an HTTP client. You should probably use an HTTP client like requests to get the document behind the URL, and feed that document to Beautiful Soup.\n",
      "  ' that document to Beautiful Soup.' % decoded_markup\n"
     ]
    }
   ],
   "source": [
    "# 定义在最后\n",
    "clean = lambda line: clean_text(line, drop_html_flag=True)\n",
    "dfTrain = dfTrain.apply(clean, axis=1)\n",
    "dfTest = dfTest.apply(clean, axis=1)"
   ]
  },
  {
   "cell_type": "code",
   "execution_count": null,
   "metadata": {},
   "outputs": [],
   "source": [
    "dfTrain.head()"
   ]
  },
  {
   "cell_type": "code",
   "execution_count": 32,
   "metadata": {},
   "outputs": [],
   "source": [
    "# 存储数据\n",
    "import pickle\n",
    "with open(\"../data/crowdflower-search-relevance/Feat/solution/train.processed.csv.pkl\", \"wb\") as f:\n",
    "    pickle.dump(dfTrain,f)\n",
    "with open(\"../data/crowdflower-search-relevance/Feat/solution/test.processed.csv.pkl\", \"wb\") as f:\n",
    "    pickle.dump(dfTest, f)"
   ]
  },
  {
   "cell_type": "markdown",
   "metadata": {},
   "source": [
    "## 交叉验证"
   ]
  },
  {
   "cell_type": "code",
   "execution_count": 33,
   "metadata": {
    "collapsed": true
   },
   "outputs": [
    {
     "name": "stderr",
     "output_type": "stream",
     "text": [
      "/Users/zhuanxu/anaconda/envs/kaggle/lib/python3.6/site-packages/sklearn/cross_validation.py:41: DeprecationWarning: This module was deprecated in version 0.18 in favor of the model_selection module into which all the refactored classes and functions are moved. Also note that the interface of the new CV iterators are different from that of this module. This module will be removed in 0.20.\n",
      "  \"This module will be removed in 0.20.\", DeprecationWarning)\n"
     ]
    },
    {
     "name": "stdout",
     "output_type": "stream",
     "text": [
      "relevance median_relevance\n",
      "================================\n",
      "Index for run: 1, fold: 1\n",
      "Train (num = 3386)\n",
      "[ 5  7  8 10 17 19 20 22 25 27]\n",
      "Valid (num = 6772)\n",
      "[ 0  1  2  3  4  6  9 11 12 13]\n",
      "================================\n",
      "Index for run: 1, fold: 2\n",
      "Train (num = 3386)\n",
      "[ 0  1  2  4  9 11 14 15 16 23]\n",
      "Valid (num = 6772)\n",
      "[ 3  5  6  7  8 10 12 13 17 18]\n",
      "================================\n",
      "Index for run: 1, fold: 3\n",
      "Train (num = 3386)\n",
      "[ 3  6 12 13 18 21 31 32 33 34]\n",
      "Valid (num = 6772)\n",
      "[ 0  1  2  4  5  7  8  9 10 11]\n",
      "================================\n",
      "Index for run: 2, fold: 1\n",
      "Train (num = 3386)\n",
      "[ 1  2  3  5  7 14 16 20 22 24]\n",
      "Valid (num = 6772)\n",
      "[ 0  4  6  8  9 10 11 12 13 15]\n",
      "================================\n",
      "Index for run: 2, fold: 2\n",
      "Train (num = 3386)\n",
      "[ 0  4  6  8 10 12 15 17 18 19]\n",
      "Valid (num = 6772)\n",
      "[ 1  2  3  5  7  9 11 13 14 16]\n",
      "================================\n",
      "Index for run: 2, fold: 3\n",
      "Train (num = 3386)\n",
      "[ 9 11 13 21 23 32 36 38 39 41]\n",
      "Valid (num = 6772)\n",
      "[ 0  1  2  3  4  5  6  7  8 10]\n",
      "================================\n",
      "Index for run: 3, fold: 1\n",
      "Train (num = 3386)\n",
      "[ 0  1  4  7  8 17 18 19 20 23]\n",
      "Valid (num = 6772)\n",
      "[ 2  3  5  6  9 10 11 12 13 14]\n",
      "================================\n",
      "Index for run: 3, fold: 2\n",
      "Train (num = 3386)\n",
      "[ 2  3  5 10 11 13 16 21 22 24]\n",
      "Valid (num = 6772)\n",
      "[ 0  1  4  6  7  8  9 12 14 15]\n",
      "================================\n",
      "Index for run: 3, fold: 3\n",
      "Train (num = 3386)\n",
      "[ 6  9 12 14 15 25 27 31 32 34]\n",
      "Valid (num = 6772)\n",
      "[ 0  1  2  3  4  5  7  8 10 11]\n",
      "query qid\n",
      "================================\n",
      "Index for run: 1, fold: 1\n",
      "Train (num = 3470)\n",
      "[ 0  3  4  6  8 12 15 17 18 20]\n",
      "Valid (num = 6688)\n",
      "[ 1  2  5  7  9 10 11 13 14 16]\n",
      "================================\n",
      "Index for run: 1, fold: 2\n",
      "Train (num = 3393)\n",
      "[ 1  2  5  7 14 16 19 25 28 33]\n",
      "Valid (num = 6765)\n",
      "[ 0  3  4  6  8  9 10 11 12 13]\n",
      "================================\n",
      "Index for run: 1, fold: 3\n",
      "Train (num = 3295)\n",
      "[ 9 10 11 13 27 31 34 35 40 42]\n",
      "Valid (num = 6863)\n",
      "[ 0  1  2  3  4  5  6  7  8 12]\n",
      "================================\n",
      "Index for run: 2, fold: 1\n",
      "Train (num = 3470)\n",
      "[ 1  4 10 12 14 15 16 21 22 25]\n",
      "Valid (num = 6688)\n",
      "[ 0  2  3  5  6  7  8  9 11 13]\n",
      "================================\n",
      "Index for run: 2, fold: 2\n",
      "Train (num = 3393)\n",
      "[ 3  5  6  7  9 18 19 24 26 27]\n",
      "Valid (num = 6765)\n",
      "[ 0  1  2  4  8 10 11 12 13 14]\n",
      "================================\n",
      "Index for run: 2, fold: 3\n",
      "Train (num = 3295)\n",
      "[ 0  2  8 11 13 17 20 23 32 38]\n",
      "Valid (num = 6863)\n",
      "[ 1  3  4  5  6  7  9 10 12 14]\n",
      "================================\n",
      "Index for run: 3, fold: 1\n",
      "Train (num = 3470)\n",
      "[ 2  3  5  6  9 12 14 15 19 23]\n",
      "Valid (num = 6688)\n",
      "[ 0  1  4  7  8 10 11 13 16 17]\n",
      "================================\n",
      "Index for run: 3, fold: 2\n",
      "Train (num = 3393)\n",
      "[ 4  7 11 17 18 25 29 30 41 42]\n",
      "Valid (num = 6765)\n",
      "[ 0  1  2  3  5  6  8  9 10 12]\n",
      "================================\n",
      "Index for run: 3, fold: 3\n",
      "Train (num = 3295)\n",
      "[ 0  1  8 10 13 16 20 21 22 26]\n",
      "Valid (num = 6863)\n",
      "[ 2  3  4  5  6  7  9 11 12 14]\n"
     ]
    }
   ],
   "source": [
    "from sklearn.cross_validation import StratifiedKFold\n",
    "\n",
    "skf = [0]*3\n",
    "for stratified_label,key in zip([\"relevance\", \"query\"], [\"median_relevance\", \"qid\"]):\n",
    "    print(stratified_label, key)\n",
    "    for run in range(3):\n",
    "        random_seed = 2017 + 1000 * (run+1)\n",
    "        skf[run] = StratifiedKFold(dfTrain[key], n_folds=3,\n",
    "                                        shuffle=True, random_state=random_seed)\n",
    "        for fold, (validInd, trainInd) in enumerate(skf[run]):\n",
    "                print(\"================================\")\n",
    "                print(\"Index for run: %s, fold: %s\" % (run+1, fold+1))\n",
    "                print(\"Train (num = %s)\" % len(trainInd))\n",
    "                print(trainInd[:10])\n",
    "                print(\"Valid (num = %s)\" % len(validInd))\n",
    "                print(validInd[:10])\n",
    "    with open(\"%s/stratifiedKFold.%s.pkl\" % (\"../data/crowdflower-search-relevance\", stratified_label), \"wb\") as f:\n",
    "        pickle.dump(skf, f)     "
   ]
  },
  {
   "cell_type": "markdown",
   "metadata": {},
   "source": [
    "## 特征提取\n",
    "### id 特征提取"
   ]
  },
  {
   "cell_type": "code",
   "execution_count": 34,
   "metadata": {},
   "outputs": [],
   "source": [
    "feat_folder = \"../data/crowdflower-search-relevance/Feat/solution\"\n",
    "n_runs=3"
   ]
  },
  {
   "cell_type": "code",
   "execution_count": 35,
   "metadata": {},
   "outputs": [],
   "source": [
    "## load pre-defined stratified k-fold index\n",
    "with open(\"%s/stratifiedKFold.%s.pkl\" % (\"../data/crowdflower-search-relevance\", \"query\"), \"rb\") as f:\n",
    "    skf = pickle.load(f)"
   ]
  },
  {
   "cell_type": "code",
   "execution_count": 37,
   "metadata": {},
   "outputs": [
    {
     "name": "stdout",
     "output_type": "stream",
     "text": [
      "Run: 1, Fold: 1\n",
      "Run: 1, Fold: 2\n",
      "Run: 1, Fold: 3\n",
      "Run: 2, Fold: 1\n",
      "Run: 2, Fold: 2\n",
      "Run: 2, Fold: 3\n",
      "Run: 3, Fold: 1\n",
      "Run: 3, Fold: 2\n",
      "Run: 3, Fold: 3\n",
      "For training and testing...\n",
      "Done.\n"
     ]
    }
   ],
   "source": [
    "from sklearn.preprocessing import LabelBinarizer\n",
    "## 下面开始产生id特征，思路就是进行one-hot-encoding，此处能这么做的原因主要还是因为此处 query_id 还是比较少\n",
    "id_names = [\"qid\"]\n",
    "for run in range(3):\n",
    "    # 其中 33% 用于训练，67% 用于验证\n",
    "    for fold, (validInd, trainInd) in enumerate(skf[run]):\n",
    "        print(\"Run: %d, Fold: %d\" % (run+1, fold+1))\n",
    "        path = \"%s/Run%d/Fold%d\" % (feat_folder, run+1, fold+1)\n",
    "        if (not os.path.exists(path)):\n",
    "            os.makedirs(path)\n",
    "        \n",
    "        for id_name in id_names:\n",
    "            lb = LabelBinarizer(sparse_output=True)\n",
    "            X_train = lb.fit_transform(dfTrain.iloc[trainInd][id_name])\n",
    "            X_valid = lb.transform(dfTrain.iloc[validInd][id_name])\n",
    "            with open(\"%s/train.%s.feat.pkl\" % (path, id_name), \"wb\") as f:\n",
    "                pickle.dump(X_train, f)\n",
    "            with open(\"%s/valid.%s.feat.pkl\" % (path, id_name), \"wb\") as f:\n",
    "                pickle.dump(X_valid, f)\n",
    "# 对所有数据产生 feature \n",
    "print(\"For training and testing...\")\n",
    "path = \"%s/All\" % feat_folder\n",
    "if (not os.path.exists(path)):\n",
    "    os.makedirs(path)\n",
    "## use full version for X_train                \n",
    "for id_name in id_names:\n",
    "    X_train = lb.fit_transform(dfTrain[id_name])\n",
    "    X_test = lb.transform(dfTest[id_name])\n",
    "    with open(\"%s/train.%s.feat.pkl\" % (path, id_name), \"wb\") as f:\n",
    "        pickle.dump(X_train, f, -1)\n",
    "    with open(\"%s/test.%s.feat.pkl\" % (path, id_name), \"wb\") as f:\n",
    "        pickle.dump(X_test, f, -1)\n",
    "print(\"Done.\")"
   ]
  },
  {
   "cell_type": "markdown",
   "metadata": {},
   "source": [
    "### 连续型特征提取 \n",
    "1. 基本类型\n",
    "    1.1 提取 query/title/description 中的 n-gram 特征"
   ]
  },
  {
   "cell_type": "markdown",
   "metadata": {},
   "source": [
    "先定义预处理函数，我们要对文本进行分词，然后进行归一化操作"
   ]
  },
  {
   "cell_type": "code",
   "execution_count": 38,
   "metadata": {},
   "outputs": [],
   "source": [
    "english_stemmer = nltk.stem.PorterStemmer()\n",
    "def stem_tokens(tokens, stemmer):\n",
    "    stemmed = []\n",
    "    for token in tokens:\n",
    "        stemmed.append(stemmer.stem(token))\n",
    "    return stemmed"
   ]
  },
  {
   "cell_type": "code",
   "execution_count": 39,
   "metadata": {},
   "outputs": [],
   "source": [
    "token_pattern = r\"(?u)\\b\\w\\w+\\b\"\n",
    "#token_pattern = r'\\w{1,}'\n",
    "#token_pattern = r\"\\w+\"\n",
    "#token_pattern = r\"[\\w']+\"\n",
    "def preprocess_data(line,\n",
    "                    token_pattern=token_pattern,\n",
    "                    exclude_stopword=False,\n",
    "                    encode_digit=False):\n",
    "    token_pattern = re.compile(token_pattern, flags = re.UNICODE)\n",
    "    ## tokenize\n",
    "    tokens = [x.lower() for x in token_pattern.findall(line)]\n",
    "    ## stem\n",
    "    tokens_stemmed = stem_tokens(tokens, english_stemmer)\n",
    "    if exclude_stopword:\n",
    "        tokens_stemmed = [x for x in tokens_stemmed if x not in stopwords]\n",
    "    return tokens_stemmed\n",
    "\n",
    "from nltk.util import ngrams\n",
    "def getBigram(words, join_string, skip=0):\n",
    "    lst = []\n",
    "    if len(words) > 1 :\n",
    "        for gram in ngrams(words, 2):\n",
    "            lst.append(join_string.join(gram))\n",
    "    else:\n",
    "        lst = words\n",
    "    return lst\n",
    "def getTrigram(words, join_string, skip=0):\n",
    "    lst = []\n",
    "    if len(words) > 2 :\n",
    "        for gram in ngrams(words, 3):\n",
    "            lst.append(join_string.join(gram))\n",
    "    else:\n",
    "        lst = getBigram(words, join_string, skip)\n",
    "    return lst\n",
    "\n",
    "def try_divide(x, y, val=0.0):\n",
    "    \"\"\" \n",
    "        Try to divide two numbers\n",
    "    \"\"\"\n",
    "    if y != 0.0:\n",
    "        val = float(x) / y\n",
    "    return val\n",
    "\n",
    "def get_position_list(target, obs):\n",
    "    \"\"\"\n",
    "        Get the list of positions of obs in target\n",
    "    \"\"\"\n",
    "    pos_of_obs_in_target = [0]\n",
    "    if len(obs) != 0:\n",
    "        pos_of_obs_in_target = [j for j,w in enumerate(obs, start=1) if w in target]\n",
    "        if len(pos_of_obs_in_target) == 0:\n",
    "            pos_of_obs_in_target = [0]\n",
    "    return pos_of_obs_in_target"
   ]
  },
  {
   "cell_type": "code",
   "execution_count": 40,
   "metadata": {},
   "outputs": [],
   "source": [
    "def extract_feat(df):\n",
    "    # 先产生 unigram 特征\n",
    "    df[\"query_unigram\"] = df.apply(lambda x: preprocess_data(x[\"query\"]), axis=1)\n",
    "    df[\"title_unigram\"] = df.apply(lambda x: preprocess_data(x[\"product_title\"]), axis=1)\n",
    "    df[\"description_unigram\"] = df.apply(lambda x: preprocess_data(x[\"product_description\"]), axis=1)\n",
    "    \n",
    "    \n",
    "    # 二元gram\n",
    "    join_str = \"_\"\n",
    "    df[\"query_bigram\"] = list(df.apply(lambda x: getBigram(x[\"query_unigram\"], join_str), axis=1))\n",
    "    df[\"title_bigram\"] = list(df.apply(lambda x: getBigram(x[\"title_unigram\"], join_str), axis=1))\n",
    "    df[\"description_bigram\"] = list(df.apply(lambda x: getBigram(x[\"description_unigram\"], join_str), axis=1))\n",
    "\n",
    "    join_str = \"_\"\n",
    "    df[\"query_trigram\"] = list(df.apply(lambda x: getTrigram(x[\"query_unigram\"], join_str), axis=1))\n",
    "    df[\"title_trigram\"] = list(df.apply(lambda x: getTrigram(x[\"title_unigram\"], join_str), axis=1))\n",
    "    df[\"description_trigram\"] = list(df.apply(lambda x: getTrigram(x[\"description_unigram\"], join_str), axis=1))\n",
    "\n",
    "#     统计单词和数字出现的个数以及比例\n",
    "\n",
    "#     count_of_query_unigram query 的 unigram 个数\n",
    "#     count_of_unique_query_unigram query 的 unigram 去重后的个数\n",
    "#     ratio_of_unique_query_unigram  count_of_unique_query_unigram / count_of_query_unigram\n",
    "\n",
    "#     count_of_digit_in_query query 中 数字的个数\n",
    "#     ratio_of_digit_in_query count_of_digit_in_query / count_of_query_unigram\n",
    "    feat_names = [\"query\", \"title\", \"description\"]\n",
    "    grams = [\"unigram\", \"bigram\", \"trigram\"]\n",
    "    count_digit = lambda x: sum([1. for w in x if w.isdigit()])\n",
    "    for feat_name in feat_names:\n",
    "        for gram in grams:\n",
    "            ## word count\n",
    "            df[\"count_of_%s_%s\"%(feat_name,gram)] = list(df.apply(lambda x: len(x[feat_name+\"_\"+gram]), axis=1))\n",
    "            df[\"count_of_unique_%s_%s\"%(feat_name,gram)] = list(df.apply(lambda x: len(set(x[feat_name+\"_\"+gram])), axis=1))\n",
    "            df[\"ratio_of_unique_%s_%s\"%(feat_name,gram)] = list(map(try_divide, df[\"count_of_unique_%s_%s\"%(feat_name,gram)], df[\"count_of_%s_%s\"%(feat_name,gram)]))\n",
    "\n",
    "        ## digit count\n",
    "        df[\"count_of_digit_in_%s\"%feat_name] = list(df.apply(lambda x: count_digit(x[feat_name+\"_unigram\"]), axis=1))\n",
    "        df[\"ratio_of_digit_in_%s\"%feat_name] = list(map(try_divide, df[\"count_of_digit_in_%s\"%feat_name], df[\"count_of_%s_unigram\"%(feat_name)]))\n",
    "\n",
    "    ## description missing indicator\n",
    "    df[\"description_missing\"] = list(df.apply(lambda x: int(x[\"description_unigram\"] == \"\"), axis=1))\n",
    "\n",
    "    #### unigram\n",
    "#     下面是统计联合关系\n",
    "\n",
    "#     count_of_query_unigram_in_title 在 query_unigram 中同时也在 title_unigram 的单词的个数\n",
    "#     ratio_of_query_unigram_in_title count_of_query_unigram_in_title / count_of_query_unigram\n",
    "\n",
    "#     同时在title和query中的单词个数 / query的个数\n",
    "#     title_unigram_in_query_div_query_unigram = count_of_title_unigram_in_query /count_of_query_unigram\n",
    "#     title_unigram_in_query_div_query_unigram_in_title = count_of_title_unigram_in_query / count_of_query_unigram_in_title\n",
    "\n",
    "#     注意：此处 count_of_title_unigram_in_query 和 count_of_query_unigram_in_title 的区别\n",
    "#     由于两个不是集合，所以会出现单词集合都是一样，但是个数会不同的情况\n",
    "    for gram in grams:\n",
    "        for obs_name in feat_names:\n",
    "            for target_name in feat_names:\n",
    "                if target_name != obs_name:\n",
    "                    ## query\n",
    "                    df[\"count_of_%s_%s_in_%s\"%(obs_name,gram,target_name)] = list(df.apply(lambda x: sum([1. for w in x[obs_name+\"_\"+gram] if w in set(x[target_name+\"_\"+gram])]), axis=1))\n",
    "                    df[\"ratio_of_%s_%s_in_%s\"%(obs_name,gram,target_name)] = list(map(try_divide, df[\"count_of_%s_%s_in_%s\"%(obs_name,gram,target_name)], df[\"count_of_%s_%s\"%(obs_name,gram)]))\n",
    "\n",
    "        ## some other feat\n",
    "        df[\"title_%s_in_query_div_query_%s\"%(gram,gram)] = list(map(try_divide, df[\"count_of_title_%s_in_query\"%gram], df[\"count_of_query_%s\"%gram]))\n",
    "        df[\"title_%s_in_query_div_query_%s_in_title\"%(gram,gram)] = list(map(try_divide, df[\"count_of_title_%s_in_query\"%gram], df[\"count_of_query_%s_in_title\"%gram]))\n",
    "        df[\"description_%s_in_query_div_query_%s\"%(gram,gram)] = list(map(try_divide, df[\"count_of_description_%s_in_query\"%gram], df[\"count_of_query_%s\"%gram]))\n",
    "        df[\"description_%s_in_query_div_query_%s_in_description\"%(gram,gram)] = list(map(try_divide, df[\"count_of_description_%s_in_query\"%gram], df[\"count_of_query_%s_in_description\"%gram]))\n",
    "\n",
    "        \n",
    "    for gram in grams:\n",
    "        for target_name in feat_names:\n",
    "            for obs_name in feat_names:\n",
    "                if target_name != obs_name:\n",
    "                    # obs中出现在target中词的位置\n",
    "                    pos = list(df.apply(lambda x: get_position_list(x[target_name+\"_\"+gram], obs=x[obs_name+\"_\"+gram]), axis=1))\n",
    "                    ## stats feat on pos\n",
    "                    df[\"pos_of_%s_%s_in_%s_min\" % (obs_name, gram, target_name)] = list(map(np.min, pos))\n",
    "                    df[\"pos_of_%s_%s_in_%s_mean\" % (obs_name, gram, target_name)] = list(map(np.mean, pos))\n",
    "                    df[\"pos_of_%s_%s_in_%s_median\" % (obs_name, gram, target_name)] = list(map(np.median, pos))\n",
    "                    df[\"pos_of_%s_%s_in_%s_max\" % (obs_name, gram, target_name)] = list(map(np.max, pos))\n",
    "                    df[\"pos_of_%s_%s_in_%s_std\" % (obs_name, gram, target_name)] = list(map(np.std, pos))\n",
    "                    ## stats feat on normalized_pos\n",
    "#                     pos_of_query_unigram_in_title ： query 中出现在 title 中的词 pos_of_query_unigram_in_title_min normalized_pos_of_query_unigram_in_title_min ： 用长度进行标准化\n",
    "                    df[\"normalized_pos_of_%s_%s_in_%s_min\" % (obs_name, gram, target_name)] = list(map(try_divide, df[\"pos_of_%s_%s_in_%s_min\" % (obs_name, gram, target_name)], df[\"count_of_%s_%s\" % (obs_name, gram)]))\n",
    "                    df[\"normalized_pos_of_%s_%s_in_%s_mean\" % (obs_name, gram, target_name)] = list(map(try_divide, df[\"pos_of_%s_%s_in_%s_mean\" % (obs_name, gram, target_name)], df[\"count_of_%s_%s\" % (obs_name, gram)]))\n",
    "                    df[\"normalized_pos_of_%s_%s_in_%s_median\" % (obs_name, gram, target_name)] = list(map(try_divide, df[\"pos_of_%s_%s_in_%s_median\" % (obs_name, gram, target_name)], df[\"count_of_%s_%s\" % (obs_name, gram)]))\n",
    "                    df[\"normalized_pos_of_%s_%s_in_%s_max\" % (obs_name, gram, target_name)] = list(map(try_divide, df[\"pos_of_%s_%s_in_%s_max\" % (obs_name, gram, target_name)], df[\"count_of_%s_%s\" % (obs_name, gram)]))\n",
    "                    df[\"normalized_pos_of_%s_%s_in_%s_std\" % (obs_name, gram, target_name)] = list(map(try_divide, df[\"pos_of_%s_%s_in_%s_std\" % (obs_name, gram, target_name)] , df[\"count_of_%s_%s\" % (obs_name, gram)]))\n"
   ]
  },
  {
   "cell_type": "code",
   "execution_count": 41,
   "metadata": {},
   "outputs": [],
   "source": [
    "extract_feat(dfTrain)"
   ]
  },
  {
   "cell_type": "code",
   "execution_count": 42,
   "metadata": {},
   "outputs": [
    {
     "data": {
      "text/plain": [
       "262"
      ]
     },
     "execution_count": 42,
     "metadata": {},
     "output_type": "execute_result"
    }
   ],
   "source": [
    "feat_names = [\n",
    "    name for name in dfTrain.columns \\\n",
    "        if \"count\" in name \\\n",
    "        or \"ratio\" in name \\\n",
    "        or \"div\" in name \\\n",
    "        or \"pos_of\" in name\n",
    "]\n",
    "feat_names.append(\"description_missing\")\n",
    "len(feat_names)"
   ]
  },
  {
   "cell_type": "markdown",
   "metadata": {},
   "source": [
    "对于 cv 分别产生特征保存"
   ]
  },
  {
   "cell_type": "code",
   "execution_count": 43,
   "metadata": {},
   "outputs": [
    {
     "name": "stdout",
     "output_type": "stream",
     "text": [
      "Run: 1, Fold: 1\n",
      "Run: 1, Fold: 2\n",
      "Run: 1, Fold: 3\n",
      "Run: 2, Fold: 1\n",
      "Run: 2, Fold: 2\n",
      "Run: 2, Fold: 3\n",
      "Run: 3, Fold: 1\n",
      "Run: 3, Fold: 2\n",
      "Run: 3, Fold: 3\n"
     ]
    }
   ],
   "source": [
    "for run in range(n_runs):\n",
    "    ## use 33% for training and 67 % for validation\n",
    "    ## so we switch trainInd and validInd\n",
    "    for fold, (validInd, trainInd) in enumerate(skf[run]):\n",
    "        print(\"Run: %d, Fold: %d\" % (run+1, fold+1))\n",
    "        path = \"%s/Run%d/Fold%d\" % (feat_folder, run+1, fold+1)\n",
    "\n",
    "        #########################\n",
    "        ## get word count feat ##\n",
    "        #########################\n",
    "        for feat_name in feat_names:\n",
    "            X_train = dfTrain[feat_name].values[trainInd]\n",
    "            X_valid = dfTrain[feat_name].values[validInd]\n",
    "            with open(\"%s/train.%s.feat.pkl\" % (path, feat_name), \"wb\") as f:\n",
    "                pickle.dump(X_train, f, -1)\n",
    "            with open(\"%s/valid.%s.feat.pkl\" % (path, feat_name), \"wb\") as f:\n",
    "                pickle.dump(X_valid, f, -1)"
   ]
  },
  {
   "cell_type": "code",
   "execution_count": 44,
   "metadata": {},
   "outputs": [
    {
     "name": "stdout",
     "output_type": "stream",
     "text": [
      "For training and testing...\n"
     ]
    }
   ],
   "source": [
    "print(\"For training and testing...\")\n",
    "path = \"%s/All\" % feat_folder\n",
    "## use full version for X_train\n",
    "extract_feat(dfTest)\n",
    "for feat_name in feat_names:\n",
    "    X_train = dfTrain[feat_name].values\n",
    "    X_test = dfTest[feat_name].values\n",
    "    with open(\"%s/train.%s.feat.pkl\" % (path, feat_name), \"wb\") as f:\n",
    "        pickle.dump(X_train, f, -1)\n",
    "    with open(\"%s/test.%s.feat.pkl\" % (path, feat_name), \"wb\") as f:\n",
    "        pickle.dump(X_test, f, -1)"
   ]
  },
  {
   "cell_type": "code",
   "execution_count": 45,
   "metadata": {},
   "outputs": [],
   "source": [
    "feat_name_file = \"%s/counting.feat_name\" % feat_folder\n",
    "def dump_feat_name(feat_names, feat_name_file):\n",
    "    \"\"\"\n",
    "        save feat_names to feat_name_file\n",
    "    \"\"\"\n",
    "    with open(feat_name_file, \"w\") as f:\n",
    "        for i,feat_name in enumerate(feat_names):\n",
    "            if feat_name.startswith(\"count\") or feat_name.startswith(\"pos_of\"):\n",
    "                f.write(\"('%s', SimpleTransform(count_feat_transform)),\\n\" % feat_name)\n",
    "            else:\n",
    "                f.write(\"('%s', SimpleTransform()),\\n\" % feat_name)"
   ]
  },
  {
   "cell_type": "code",
   "execution_count": 46,
   "metadata": {},
   "outputs": [],
   "source": [
    "# 保存数据\n",
    "dump_feat_name(feat_names, feat_name_file)"
   ]
  },
  {
   "cell_type": "markdown",
   "metadata": {},
   "source": [
    "### 距离 特征\n",
    "Dice 系数 ，是一种集合相似度度量函数，通常用于计算两个样本的相似度\n",
    "![](https://wikimedia.org/api/rest_v1/media/math/render/svg/21c4fb2e351a947237508fd0e775bfa01e85ff49)\n",
    "\n",
    "Jaccard similarity 相似性系数\n",
    "![](https://wikimedia.org/api/rest_v1/media/math/render/svg/eaef5aa86949f49e7dc6b9c8c3dd8b233332c9e7)"
   ]
  },
  {
   "cell_type": "code",
   "execution_count": 47,
   "metadata": {},
   "outputs": [],
   "source": [
    "def JaccardCoef(A, B):\n",
    "    A, B = set(A), set(B)\n",
    "    intersect = len(A.intersection(B))\n",
    "    union = len(A.union(B))\n",
    "    coef = try_divide(intersect, union)\n",
    "    return coef\n",
    "\n",
    "def DiceDist(A, B):\n",
    "    A, B = set(A), set(B)\n",
    "    intersect = len(A.intersection(B))\n",
    "    union = len(A) + len(B)\n",
    "    d = try_divide(2*intersect, union)\n",
    "    return d\n",
    "\n",
    "def compute_dist(A, B, dist=\"jaccard_coef\"):\n",
    "    if dist == \"jaccard_coef\":\n",
    "        d = JaccardCoef(A, B)\n",
    "    elif dist == \"dice_dist\":\n",
    "        d = DiceDist(A, B)\n",
    "    return d"
   ]
  },
  {
   "cell_type": "code",
   "execution_count": 48,
   "metadata": {},
   "outputs": [],
   "source": [
    "## file to save feat names\n",
    "feat_name_file = \"%s/distance.feat_name\" % feat_folder"
   ]
  },
  {
   "cell_type": "code",
   "execution_count": 49,
   "metadata": {},
   "outputs": [],
   "source": [
    "def extract_basic_distance_feat(df):\n",
    "    dists = [\"jaccard_coef\", \"dice_dist\"]\n",
    "    grams = [\"unigram\", \"bigram\", \"trigram\"]\n",
    "    feat_names = [\"query\", \"title\", \"description\"]\n",
    "    for dist in dists:\n",
    "        for gram in grams:\n",
    "            for i in range(len(feat_names)-1):\n",
    "                for j in range(i+1,len(feat_names)):\n",
    "                    target_name = feat_names[i]\n",
    "                    obs_name = feat_names[j]\n",
    "                    df[\"%s_of_%s_between_%s_%s\"%(dist,gram,target_name,obs_name)] = \\\n",
    "                            list(df.apply(lambda x: compute_dist(x[target_name+\"_\"+gram], x[obs_name+\"_\"+gram], dist), axis=1))"
   ]
  },
  {
   "cell_type": "code",
   "execution_count": 50,
   "metadata": {},
   "outputs": [],
   "source": [
    "# 产生基本的距离特征\n",
    "extract_basic_distance_feat(dfTrain)\n",
    "feat_names = [name for name in dfTrain.columns if \"jaccard_coef\" in name or \"dice_dist\" in name]"
   ]
  },
  {
   "cell_type": "code",
   "execution_count": 51,
   "metadata": {},
   "outputs": [
    {
     "name": "stdout",
     "output_type": "stream",
     "text": [
      "For cross-validation...\n",
      "Run: 1, Fold: 1\n",
      "Run: 1, Fold: 2\n",
      "Run: 1, Fold: 3\n",
      "Run: 2, Fold: 1\n",
      "Run: 2, Fold: 2\n",
      "Run: 2, Fold: 3\n",
      "Run: 3, Fold: 1\n",
      "Run: 3, Fold: 2\n",
      "Run: 3, Fold: 3\n",
      "Done.\n"
     ]
    }
   ],
   "source": [
    "print(\"For cross-validation...\")\n",
    "for run in range(n_runs):\n",
    "    ## use 33% for training and 67 % for validation\n",
    "    ## so we switch trainInd and validInd\n",
    "    for fold, (validInd, trainInd) in enumerate(skf[run]):\n",
    "        print(\"Run: %d, Fold: %d\" % (run+1, fold+1))\n",
    "        path = \"%s/Run%d/Fold%d\" % (feat_folder, run+1, fold+1)\n",
    "\n",
    "        for feat_name in feat_names:\n",
    "            X_train = dfTrain[feat_name].values[trainInd]\n",
    "            X_valid = dfTrain[feat_name].values[validInd]\n",
    "            with open(\"%s/train.%s.feat.pkl\" % (path, feat_name), \"wb\") as f:\n",
    "                pickle.dump(X_train, f, -1)\n",
    "            with open(\"%s/valid.%s.feat.pkl\" % (path, feat_name), \"wb\") as f:\n",
    "                pickle.dump(X_valid, f, -1)\n",
    "print(\"Done.\")"
   ]
  },
  {
   "cell_type": "code",
   "execution_count": 52,
   "metadata": {},
   "outputs": [
    {
     "name": "stdout",
     "output_type": "stream",
     "text": [
      "For training and testing...\n"
     ]
    }
   ],
   "source": [
    "print(\"For training and testing...\")\n",
    "path = \"%s/All\" % feat_folder\n",
    "## use full version for X_train\n",
    "extract_basic_distance_feat(dfTest)\n",
    "for feat_name in feat_names:\n",
    "    X_train = dfTrain[feat_name].values\n",
    "    X_test = dfTest[feat_name].values\n",
    "    with open(\"%s/train.%s.feat.pkl\" % (path, feat_name), \"wb\") as f:\n",
    "        pickle.dump(X_train, f, -1)\n",
    "    with open(\"%s/test.%s.feat.pkl\" % (path, feat_name), \"wb\") as f:\n",
    "        pickle.dump(X_test, f, -1)"
   ]
  },
  {
   "cell_type": "code",
   "execution_count": 53,
   "metadata": {},
   "outputs": [
    {
     "name": "stdout",
     "output_type": "stream",
     "text": [
      "Feature names are stored in ../data/crowdflower-search-relevance/Feat/solution/distance.feat_name\n"
     ]
    }
   ],
   "source": [
    " ## save feat names\n",
    "print(\"Feature names are stored in %s\" % feat_name_file)\n",
    "## dump feat name\n",
    "dump_feat_name(feat_names, feat_name_file)"
   ]
  },
  {
   "cell_type": "markdown",
   "metadata": {},
   "source": [
    "### 产生基本的 tf-idf 特征"
   ]
  },
  {
   "cell_type": "code",
   "execution_count": 54,
   "metadata": {},
   "outputs": [],
   "source": [
    "from copy import copy\n",
    "from sklearn.feature_extraction.text import TfidfVectorizer, CountVectorizer\n",
    "from sklearn.decomposition import TruncatedSVD\n",
    "from scipy.sparse import vstack"
   ]
  },
  {
   "cell_type": "code",
   "execution_count": 55,
   "metadata": {},
   "outputs": [],
   "source": [
    "class StemmedTfidfVectorizer(TfidfVectorizer):\n",
    "    def build_analyzer(self):\n",
    "        analyzer = super(TfidfVectorizer, self).build_analyzer()\n",
    "        return lambda doc: (english_stemmer.stem(w) for w in analyzer(doc))"
   ]
  },
  {
   "cell_type": "code",
   "execution_count": 56,
   "metadata": {},
   "outputs": [],
   "source": [
    "token_pattern = r\"(?u)\\b\\w\\w+\\b\"\n",
    "#token_pattern = r'\\w{1,}'\n",
    "#token_pattern = r\"\\w+\"\n",
    "#token_pattern = r\"[\\w']+\"\n",
    "tfidf__norm = \"l2\"\n",
    "tfidf__max_df = 0.75 # 出现不超过 75%\n",
    "tfidf__min_df = 3 # 最少出现3次\n",
    "def getTFV(token_pattern = token_pattern,\n",
    "           norm = tfidf__norm,\n",
    "           max_df = tfidf__max_df,\n",
    "           min_df = tfidf__min_df,\n",
    "           ngram_range = (1, 1),\n",
    "           vocabulary = None,\n",
    "           stop_words = 'english'):\n",
    "    tfv = StemmedTfidfVectorizer(min_df=min_df, max_df=max_df, max_features=None, \n",
    "                                 strip_accents='unicode', analyzer='word', token_pattern=token_pattern,\n",
    "                                 ngram_range=ngram_range, use_idf=1, smooth_idf=1, sublinear_tf=1,\n",
    "                                 stop_words = stop_words, norm=norm, vocabulary=vocabulary)\n",
    "    return tfv"
   ]
  },
  {
   "cell_type": "code",
   "execution_count": 57,
   "metadata": {},
   "outputs": [],
   "source": [
    "class StemmedCountVectorizer(CountVectorizer):\n",
    "    def build_analyzer(self):\n",
    "        analyzer = super(CountVectorizer, self).build_analyzer()\n",
    "        return lambda doc: (english_stemmer.stem(w) for w in analyzer(doc))\n",
    "\n",
    "token_pattern = r\"(?u)\\b\\w\\w+\\b\"\n",
    "#token_pattern = r'\\w{1,}'\n",
    "#token_pattern = r\"\\w+\"\n",
    "#token_pattern = r\"[\\w']+\"\n",
    "bow__max_df = 0.75\n",
    "bow__min_df = 3\n",
    "def getBOW(token_pattern = token_pattern,\n",
    "           max_df = bow__max_df,\n",
    "           min_df = bow__min_df,\n",
    "           ngram_range = (1, 1),\n",
    "           vocabulary = None,\n",
    "           stop_words = 'english'):\n",
    "    bow = StemmedCountVectorizer(min_df=min_df, max_df=max_df, max_features=None, \n",
    "                                 strip_accents='unicode', analyzer='word', token_pattern=token_pattern,\n",
    "                                 ngram_range=ngram_range,\n",
    "                                 stop_words = stop_words, vocabulary=vocabulary)\n",
    "    return bow"
   ]
  },
  {
   "cell_type": "code",
   "execution_count": 69,
   "metadata": {},
   "outputs": [],
   "source": [
    "from sklearn.metrics.pairwise import cosine_similarity\n",
    "def cosine_sim(x, y):\n",
    "    try:\n",
    "        d = cosine_similarity(x, y)\n",
    "        d = d[0][0]\n",
    "    except:\n",
    "#         print(x,y)\n",
    "        d = 0.\n",
    "    return d"
   ]
  },
  {
   "cell_type": "code",
   "execution_count": 105,
   "metadata": {},
   "outputs": [],
   "source": [
    "## extract all features\n",
    "ngram_range = (1,3)\n",
    "svd_n_components = [100, 150]\n",
    "tsne_n_components = [2]\n",
    "def extract_tfidf_feat(path, dfTrain, dfTest, mode, feat_names, column_names):\n",
    "    new_feat_names = copy(feat_names)\n",
    "    if vocabulary_type == \"common\":\n",
    "        if vec_type == \"tfidf\":\n",
    "            vec = getTFV(ngram_range=ngram_range)\n",
    "        elif vec_type == \"bow\":\n",
    "            vec = getBOW(ngram_range=ngram_range)\n",
    "        vec.fit(dfTrain[\"all_text\"])\n",
    "        vocabulary = vec.vocabulary_\n",
    "    elif vocabulary_type == \"individual\":\n",
    "        vocabulary = None\n",
    "    for feat_name,column_name in zip(feat_names, column_names):\n",
    "        print(\"generate %s feat for %s\" % (vec_type, column_name))\n",
    "        if vec_type == \"tfidf\":\n",
    "            vec = getTFV(ngram_range=ngram_range, vocabulary=vocabulary)\n",
    "        elif vec_type == \"bow\":\n",
    "            vec = getBOW(ngram_range=ngram_range, vocabulary=vocabulary)    \n",
    "        X_train = vec.fit_transform(dfTrain[column_name])\n",
    "        X_test = vec.transform(dfTest[column_name])\n",
    "        with open(\"%s/train.%s.feat.pkl\" % (path, feat_name), \"wb\") as f:\n",
    "            pickle.dump(X_train, f, -1)\n",
    "        with open(\"%s/%s.%s.feat.pkl\" % (path, mode, feat_name), \"wb\") as f:\n",
    "            pickle.dump(X_test, f, -1)\n",
    "    #####################\n",
    "    ## cosine sim feat ##\n",
    "    #####################\n",
    "    for i in range(len(feat_names)-1):\n",
    "        for j in range(i+1,len(feat_names)):\n",
    "            print(\"generate common %s cosine sim feat for %s and %s\" % (vec_type, feat_names[i], feat_names[j]))\n",
    "            for mod in [\"train\", mode]:\n",
    "                with open(\"%s/%s.%s.feat.pkl\" % (path, mod, feat_names[i]), \"rb\") as f:\n",
    "                    target_vec = pickle.load(f)\n",
    "                with open(\"%s/%s.%s.feat.pkl\" % (path, mod, feat_names[j]), \"rb\") as f:\n",
    "                    obs_vec = pickle.load(f)\n",
    "                sim = np.asarray(list(map(cosine_sim, target_vec, obs_vec)))[:,np.newaxis]\n",
    "                ## dump feat\n",
    "                with open(\"%s/%s.%s_%s_%s_cosine_sim.feat.pkl\" % (path, mod, feat_names[i], feat_names[j], vec_type), \"wb\") as f:\n",
    "                    pickle.dump(sim, f, -1)\n",
    "            ## update feat names\n",
    "            new_feat_names.append( \"%s_%s_%s_cosine_sim\" % (feat_names[i], feat_names[j], vec_type))\n",
    "    ##################\n",
    "    ## SVD features ##\n",
    "    ##################\n",
    "    ## we fit svd use stacked query/title/description bow/tfidf for further cosine simalirity computation\n",
    "    for i,feat_name in enumerate(feat_names):\n",
    "        with open(\"%s/train.%s.feat.pkl\" % (path, feat_name), \"rb\") as f:\n",
    "            X_vec_train = pickle.load(f)\n",
    "        if i == 0:\n",
    "            X_vec_all_train = X_vec_train\n",
    "        else:\n",
    "            X_vec_all_train = vstack([X_vec_all_train, X_vec_train])\n",
    "            \n",
    "    for n_components in svd_n_components:\n",
    "        svd = TruncatedSVD(n_components=n_components, n_iter=15) # 提取 100 , 150\n",
    "        svd.fit(X_vec_all_train)\n",
    "        ## load bow/tfidf (for less coding...)\n",
    "        for feat_name,column_name in zip(feat_names, column_names):\n",
    "            print(\"generate common %s-svd%d feat for %s\" % (vec_type, n_components, column_name))\n",
    "            with open(\"%s/train.%s.feat.pkl\" % (path, feat_name), \"rb\") as f:\n",
    "                X_vec_train = pickle.load(f)\n",
    "            with open(\"%s/%s.%s.feat.pkl\" % (path, mode, feat_name), \"rb\") as f:\n",
    "                X_vec_test = pickle.load(f)\n",
    "            X_svd_train = svd.transform(X_vec_train)\n",
    "            X_svd_test = svd.transform(X_vec_test)\n",
    "            with open(\"%s/train.%s_common_svd%d.feat.pkl\" % (path, feat_name, n_components), \"wb\") as f:\n",
    "                pickle.dump(X_svd_train, f, -1)\n",
    "            with open(\"%s/%s.%s_common_svd%d.feat.pkl\" % (path, mode, feat_name, n_components), \"wb\") as f:\n",
    "                pickle.dump(X_svd_test, f, -1)\n",
    "                \n",
    "            ## update feat names\n",
    "            new_feat_names.append( \"%s_common_svd%d\" % (feat_name, n_components) )  \n",
    "            \n",
    "        #####################\n",
    "        ## cosine sim feat ##\n",
    "        #####################\n",
    "        for i in range(len(feat_names)-1):\n",
    "            for j in range(i+1,len(feat_names)):\n",
    "                print(\"generate common %s-svd%d cosine sim feat for %s and %s\" % (vec_type, n_components, feat_names[i], feat_names[j]))\n",
    "                for mod in [\"train\", mode]:\n",
    "                    with open(\"%s/%s.%s_common_svd%d.feat.pkl\" % (path, mod, feat_names[i], n_components), \"rb\") as f:\n",
    "                        target_vec = pickle.load(f)\n",
    "                    with open(\"%s/%s.%s_common_svd%d.feat.pkl\" % (path, mod, feat_names[j], n_components), \"rb\") as f:\n",
    "                        obs_vec = pickle.load(f)\n",
    "                    tmp = list(map(cosine_sim, target_vec, obs_vec))\n",
    "#                     print(\"1==\")\n",
    "                    sim = np.asarray(tmp)[:,np.newaxis]\n",
    "#                     print(\"2===\")\n",
    "                    ## dump feat\n",
    "                    with open(\"%s/%s.%s_%s_%s_common_svd%d_cosine_sim.feat.pkl\" % (path, mod, feat_names[i], feat_names[j], vec_type, n_components), \"wb\") as f:\n",
    "                        pickle.dump(sim, f, -1)\n",
    "                ## update feat names\n",
    "                new_feat_names.append( \"%s_%s_%s_common_svd%d_cosine_sim\" % (feat_names[i], feat_names[j], vec_type, n_components))\n",
    "        #########################\n",
    "        ## Individual SVD feat ##\n",
    "        #########################\n",
    "        ## generate individual svd feat\n",
    "        for feat_name,column_name in zip(feat_names, column_names):\n",
    "            print(\"generate individual %s-svd%d feat for %s\" % (vec_type, n_components, column_name))\n",
    "            with open(\"%s/train.%s.feat.pkl\" % (path, feat_name), \"rb\") as f:\n",
    "                X_vec_train = pickle.load(f)\n",
    "            with open(\"%s/%s.%s.feat.pkl\" % (path, mode, feat_name), \"rb\") as f:\n",
    "                X_vec_test = pickle.load(f)\n",
    "            svd = TruncatedSVD(n_components=n_components, n_iter=15)\n",
    "            X_svd_train = svd.fit_transform(X_vec_train)\n",
    "            X_svd_test = svd.transform(X_vec_test)\n",
    "            with open(\"%s/train.%s_individual_svd%d.feat.pkl\" % (path, feat_name, n_components), \"wb\") as f:\n",
    "                pickle.dump(X_svd_train, f, -1)\n",
    "            with open(\"%s/%s.%s_individual_svd%d.feat.pkl\" % (path, mode, feat_name, n_components), \"wb\") as f:\n",
    "                pickle.dump(X_svd_test, f, -1)\n",
    "            ## update feat names\n",
    "            new_feat_names.append( \"%s_individual_svd%d\" % (feat_name, n_components) )\n",
    "    return new_feat_names"
   ]
  },
  {
   "cell_type": "code",
   "execution_count": 59,
   "metadata": {},
   "outputs": [],
   "source": [
    "def cat_text(x):\n",
    "    res = '%s %s %s' % (x['query'], x['product_title'], x['product_description'])\n",
    "    return res\n",
    "dfTrain[\"all_text\"] = list(dfTrain.apply(cat_text, axis=1))\n",
    "dfTest[\"all_text\"] = list(dfTest.apply(cat_text, axis=1))"
   ]
  },
  {
   "cell_type": "code",
   "execution_count": 96,
   "metadata": {},
   "outputs": [],
   "source": [
    "feat_names"
   ]
  },
  {
   "cell_type": "code",
   "execution_count": null,
   "metadata": {},
   "outputs": [
    {
     "name": "stdout",
     "output_type": "stream",
     "text": [
      "==================================================\n",
      "Generate basic tfidf features...\n",
      "Done.\n",
      "For training and testing...\n",
      "generate tfidf feat for query\n",
      "generate tfidf feat for product_title\n",
      "generate tfidf feat for product_description\n",
      "generate common tfidf cosine sim feat for query_tfidf_common_vocabulary and title_tfidf_common_vocabulary\n",
      "generate common tfidf cosine sim feat for query_tfidf_common_vocabulary and description_tfidf_common_vocabulary\n",
      "generate common tfidf cosine sim feat for title_tfidf_common_vocabulary and description_tfidf_common_vocabulary\n",
      "generate common tfidf-svd100 feat for query\n",
      "generate common tfidf-svd100 feat for product_title\n",
      "generate common tfidf-svd100 feat for product_description\n",
      "generate common tfidf-svd100 cosine sim feat for query_tfidf_common_vocabulary and title_tfidf_common_vocabulary\n",
      "generate common tfidf-svd100 cosine sim feat for query_tfidf_common_vocabulary and description_tfidf_common_vocabulary\n",
      "generate common tfidf-svd100 cosine sim feat for title_tfidf_common_vocabulary and description_tfidf_common_vocabulary\n",
      "generate individual tfidf-svd100 feat for query\n",
      "generate individual tfidf-svd100 feat for product_title\n",
      "generate individual tfidf-svd100 feat for product_description\n",
      "generate common tfidf-svd150 feat for query\n",
      "generate common tfidf-svd150 feat for product_title\n",
      "generate common tfidf-svd150 feat for product_description\n",
      "generate common tfidf-svd150 cosine sim feat for query_tfidf_common_vocabulary and title_tfidf_common_vocabulary\n",
      "generate common tfidf-svd150 cosine sim feat for query_tfidf_common_vocabulary and description_tfidf_common_vocabulary\n",
      "generate common tfidf-svd150 cosine sim feat for title_tfidf_common_vocabulary and description_tfidf_common_vocabulary\n",
      "generate individual tfidf-svd150 feat for query\n",
      "generate individual tfidf-svd150 feat for product_title\n",
      "generate individual tfidf-svd150 feat for product_description\n",
      "All Done.\n",
      "==================================================\n",
      "Generate basic bow features...\n",
      "Done.\n",
      "For training and testing...\n",
      "generate bow feat for query\n",
      "generate bow feat for product_title\n",
      "generate bow feat for product_description\n"
     ]
    }
   ],
   "source": [
    "vec_types = [ \"tfidf\", \"bow\" ]\n",
    "## feat name config\n",
    "column_names = [ \"query\", \"product_title\", \"product_description\" ]\n",
    "vocabulary_type=\"common\"\n",
    "for vec_type in vec_types:\n",
    "    ## save feat names\n",
    "    feat_names = [ \"query\", \"title\", \"description\" ]\n",
    "    feat_names = [ name+\"_%s_%s_vocabulary\" % (vec_type, vocabulary_type) for name in feat_names ]\n",
    "    ## file to save feat names\n",
    "    feat_name_file = \"%s/basic_%s_and_cosine_sim.feat_name\" % (feat_folder, vec_type)\n",
    "    print(\"==================================================\")\n",
    "    print(\"Generate basic %s features...\" % vec_type)\n",
    "\n",
    "    print(\"For cross-validation...\")\n",
    "    for run in range(n_runs):\n",
    "        ## use 33% for training and 67 % for validation\n",
    "        ## so we switch trainInd and validInd\n",
    "        for fold, (validInd, trainInd) in enumerate(skf[run]):\n",
    "            print(\"Run: %d, Fold: %d\" % (run+1, fold+1))\n",
    "            path = \"%s/Run%d/Fold%d\" % (feat_folder, run+1, fold+1)\n",
    "\n",
    "            dfTrain2 = dfTrain.iloc[trainInd].copy()\n",
    "            dfValid = dfTrain.iloc[validInd].copy()\n",
    "            ## extract feat\n",
    "            extract_tfidf_feat(path, dfTrain2, dfValid, \"valid\", feat_names, column_names)\n",
    "\n",
    "    print(\"Done.\")\n",
    "    print(\"For training and testing...\")\n",
    "    path = \"%s/All\" % feat_folder\n",
    "    ## extract feat\n",
    "    feat_names = extract_tfidf_feat(path, dfTrain, dfTest, \"test\", feat_names, column_names)\n",
    "    ## dump feat name\n",
    "    dump_feat_name(feat_names, feat_name_file)\n",
    "\n",
    "    print(\"All Done.\")"
   ]
  },
  {
   "cell_type": "markdown",
   "metadata": {},
   "source": [
    "### 共现 tf-idf 特征\n",
    "共现特征主要是为了引入非线性，将两两特征组合起来作为一个新特征"
   ]
  },
  {
   "cell_type": "code",
   "execution_count": 72,
   "metadata": {},
   "outputs": [],
   "source": [
    "cooccurrence_tfidf_ngram_range=(1,1)\n",
    "## cooccurrence terms column names\n",
    "column_names = [\n",
    "    \"query_unigram_title_unigram\",\n",
    "    \"query_unigram_title_bigram\",\n",
    "    \"query_unigram_description_unigram\",\n",
    "    \"query_unigram_description_bigram\",\n",
    "    \"query_bigram_title_unigram\",\n",
    "    \"query_bigram_title_bigram\",\n",
    "    \"query_bigram_description_unigram\",\n",
    "    \"query_bigram_description_bigram\",\n",
    "    \"query_id_title_unigram\",\n",
    "    \"query_id_title_bigram\",\n",
    "    \"query_id_description_unigram\",\n",
    "    \"query_id_description_bigram\",\n",
    "]\n",
    "## feature names\n",
    "feat_names = [ name+\"_tfidf\" for name in column_names ]\n",
    "## file to save feat names\n",
    "feat_name_file = \"%s/intersect_tfidf.feat_name\" % feat_folder   \n",
    "ngram_range = cooccurrence_tfidf_ngram_range\n",
    "svd_n_components = 100"
   ]
  },
  {
   "cell_type": "code",
   "execution_count": 73,
   "metadata": {},
   "outputs": [],
   "source": [
    "def cooccurrence_terms(lst1, lst2, join_str):\n",
    "    terms = [\"\"] * len(lst1) * len(lst2)\n",
    "    cnt =  0\n",
    "    for item1 in lst1:\n",
    "        for item2 in lst2:\n",
    "            terms[cnt] = item1 + join_str + item2\n",
    "            cnt += 1\n",
    "    res = \" \".join(terms)\n",
    "    return res"
   ]
  },
  {
   "cell_type": "code",
   "execution_count": 74,
   "metadata": {},
   "outputs": [],
   "source": [
    "def extract_cooccurrence_feat(df):\n",
    "    ## cooccurrence terms\n",
    "    join_str = \"X\"\n",
    "    # query unigram\n",
    "    df[\"query_unigram_title_unigram\"] = list(df.apply(lambda x: cooccurrence_terms(x[\"query_unigram\"], x[\"title_unigram\"], join_str), axis=1))\n",
    "    df[\"query_unigram_title_bigram\"] = list(df.apply(lambda x: cooccurrence_terms(x[\"query_unigram\"], x[\"title_bigram\"], join_str), axis=1))\n",
    "    df[\"query_unigram_description_unigram\"] = list(df.apply(lambda x: cooccurrence_terms(x[\"query_unigram\"], x[\"description_unigram\"], join_str), axis=1))\n",
    "    df[\"query_unigram_description_bigram\"] = list(df.apply(lambda x: cooccurrence_terms(x[\"query_unigram\"], x[\"description_bigram\"], join_str), axis=1))\n",
    "    # query bigram\n",
    "    df[\"query_bigram_title_unigram\"] = list(df.apply(lambda x: cooccurrence_terms(x[\"query_bigram\"], x[\"title_unigram\"], join_str), axis=1))\n",
    "    df[\"query_bigram_title_bigram\"] = list(df.apply(lambda x: cooccurrence_terms(x[\"query_bigram\"], x[\"title_bigram\"], join_str), axis=1))\n",
    "    df[\"query_bigram_description_unigram\"] = list(df.apply(lambda x: cooccurrence_terms(x[\"query_bigram\"], x[\"description_unigram\"], join_str), axis=1))\n",
    "    df[\"query_bigram_description_bigram\"] = list(df.apply(lambda x: cooccurrence_terms(x[\"query_bigram\"], x[\"description_bigram\"], join_str), axis=1))\n",
    "    # query id\n",
    "    df[\"query_id_title_unigram\"] = list(df.apply(lambda x: cooccurrence_terms([\"qid\"+str(x[\"qid\"])], x[\"title_unigram\"], join_str), axis=1))\n",
    "    df[\"query_id_title_bigram\"] = list(df.apply(lambda x: cooccurrence_terms([\"qid\"+str(x[\"qid\"])], x[\"title_bigram\"], join_str), axis=1))\n",
    "    df[\"query_id_description_unigram\"] = list(df.apply(lambda x: cooccurrence_terms([\"qid\"+str(x[\"qid\"])], x[\"description_unigram\"], join_str), axis=1))\n",
    "    df[\"query_id_description_bigram\"] = list(df.apply(lambda x: cooccurrence_terms([\"qid\"+str(x[\"qid\"])], x[\"description_bigram\"], join_str), axis=1))"
   ]
  },
  {
   "cell_type": "code",
   "execution_count": 75,
   "metadata": {},
   "outputs": [],
   "source": [
    "## get cooccurrence terms\n",
    "extract_cooccurrence_feat(dfTrain)\n",
    "extract_cooccurrence_feat(dfTest)"
   ]
  },
  {
   "cell_type": "code",
   "execution_count": 76,
   "metadata": {
    "collapsed": true
   },
   "outputs": [
    {
     "name": "stdout",
     "output_type": "stream",
     "text": [
      "For cross-validation...\n",
      "Run: 1, Fold: 1\n",
      "generate query_unigram_title_unigram_tfidf feat\n",
      "generate query_unigram_title_bigram_tfidf feat\n",
      "generate query_unigram_description_unigram_tfidf feat\n",
      "generate query_unigram_description_bigram_tfidf feat\n",
      "generate query_bigram_title_unigram_tfidf feat\n",
      "generate query_bigram_title_bigram_tfidf feat\n",
      "generate query_bigram_description_unigram_tfidf feat\n",
      "generate query_bigram_description_bigram_tfidf feat\n",
      "generate query_id_title_unigram_tfidf feat\n",
      "generate query_id_title_bigram_tfidf feat\n",
      "generate query_id_description_unigram_tfidf feat\n",
      "generate query_id_description_bigram_tfidf feat\n",
      "Run: 1, Fold: 2\n",
      "generate query_unigram_title_unigram_tfidf feat\n",
      "generate query_unigram_title_bigram_tfidf feat\n",
      "generate query_unigram_description_unigram_tfidf feat\n",
      "generate query_unigram_description_bigram_tfidf feat\n",
      "generate query_bigram_title_unigram_tfidf feat\n",
      "generate query_bigram_title_bigram_tfidf feat\n",
      "generate query_bigram_description_unigram_tfidf feat\n",
      "generate query_bigram_description_bigram_tfidf feat\n",
      "generate query_id_title_unigram_tfidf feat\n",
      "generate query_id_title_bigram_tfidf feat\n",
      "generate query_id_description_unigram_tfidf feat\n",
      "generate query_id_description_bigram_tfidf feat\n",
      "Run: 1, Fold: 3\n",
      "generate query_unigram_title_unigram_tfidf feat\n",
      "generate query_unigram_title_bigram_tfidf feat\n",
      "generate query_unigram_description_unigram_tfidf feat\n",
      "generate query_unigram_description_bigram_tfidf feat\n",
      "generate query_bigram_title_unigram_tfidf feat\n",
      "generate query_bigram_title_bigram_tfidf feat\n",
      "generate query_bigram_description_unigram_tfidf feat\n",
      "generate query_bigram_description_bigram_tfidf feat\n",
      "generate query_id_title_unigram_tfidf feat\n",
      "generate query_id_title_bigram_tfidf feat\n",
      "generate query_id_description_unigram_tfidf feat\n",
      "generate query_id_description_bigram_tfidf feat\n",
      "Run: 2, Fold: 1\n",
      "generate query_unigram_title_unigram_tfidf feat\n",
      "generate query_unigram_title_bigram_tfidf feat\n",
      "generate query_unigram_description_unigram_tfidf feat\n",
      "generate query_unigram_description_bigram_tfidf feat\n",
      "generate query_bigram_title_unigram_tfidf feat\n",
      "generate query_bigram_title_bigram_tfidf feat\n",
      "generate query_bigram_description_unigram_tfidf feat\n",
      "generate query_bigram_description_bigram_tfidf feat\n",
      "generate query_id_title_unigram_tfidf feat\n",
      "generate query_id_title_bigram_tfidf feat\n",
      "generate query_id_description_unigram_tfidf feat\n",
      "generate query_id_description_bigram_tfidf feat\n",
      "Run: 2, Fold: 2\n",
      "generate query_unigram_title_unigram_tfidf feat\n",
      "generate query_unigram_title_bigram_tfidf feat\n",
      "generate query_unigram_description_unigram_tfidf feat\n",
      "generate query_unigram_description_bigram_tfidf feat\n",
      "generate query_bigram_title_unigram_tfidf feat\n",
      "generate query_bigram_title_bigram_tfidf feat\n",
      "generate query_bigram_description_unigram_tfidf feat\n",
      "generate query_bigram_description_bigram_tfidf feat\n",
      "generate query_id_title_unigram_tfidf feat\n",
      "generate query_id_title_bigram_tfidf feat\n",
      "generate query_id_description_unigram_tfidf feat\n",
      "generate query_id_description_bigram_tfidf feat\n",
      "Run: 2, Fold: 3\n",
      "generate query_unigram_title_unigram_tfidf feat\n",
      "generate query_unigram_title_bigram_tfidf feat\n",
      "generate query_unigram_description_unigram_tfidf feat\n",
      "generate query_unigram_description_bigram_tfidf feat\n",
      "generate query_bigram_title_unigram_tfidf feat\n",
      "generate query_bigram_title_bigram_tfidf feat\n",
      "generate query_bigram_description_unigram_tfidf feat\n",
      "generate query_bigram_description_bigram_tfidf feat\n",
      "generate query_id_title_unigram_tfidf feat\n",
      "generate query_id_title_bigram_tfidf feat\n",
      "generate query_id_description_unigram_tfidf feat\n",
      "generate query_id_description_bigram_tfidf feat\n",
      "Run: 3, Fold: 1\n",
      "generate query_unigram_title_unigram_tfidf feat\n",
      "generate query_unigram_title_bigram_tfidf feat\n",
      "generate query_unigram_description_unigram_tfidf feat\n",
      "generate query_unigram_description_bigram_tfidf feat\n",
      "generate query_bigram_title_unigram_tfidf feat\n",
      "generate query_bigram_title_bigram_tfidf feat\n",
      "generate query_bigram_description_unigram_tfidf feat\n",
      "generate query_bigram_description_bigram_tfidf feat\n",
      "generate query_id_title_unigram_tfidf feat\n",
      "generate query_id_title_bigram_tfidf feat\n",
      "generate query_id_description_unigram_tfidf feat\n",
      "generate query_id_description_bigram_tfidf feat\n",
      "Run: 3, Fold: 2\n",
      "generate query_unigram_title_unigram_tfidf feat\n",
      "generate query_unigram_title_bigram_tfidf feat\n",
      "generate query_unigram_description_unigram_tfidf feat\n",
      "generate query_unigram_description_bigram_tfidf feat\n",
      "generate query_bigram_title_unigram_tfidf feat\n",
      "generate query_bigram_title_bigram_tfidf feat\n",
      "generate query_bigram_description_unigram_tfidf feat\n",
      "generate query_bigram_description_bigram_tfidf feat\n",
      "generate query_id_title_unigram_tfidf feat\n",
      "generate query_id_title_bigram_tfidf feat\n",
      "generate query_id_description_unigram_tfidf feat\n",
      "generate query_id_description_bigram_tfidf feat\n",
      "Run: 3, Fold: 3\n",
      "generate query_unigram_title_unigram_tfidf feat\n",
      "generate query_unigram_title_bigram_tfidf feat\n",
      "generate query_unigram_description_unigram_tfidf feat\n",
      "generate query_unigram_description_bigram_tfidf feat\n",
      "generate query_bigram_title_unigram_tfidf feat\n",
      "generate query_bigram_title_bigram_tfidf feat\n",
      "generate query_bigram_description_unigram_tfidf feat\n",
      "generate query_bigram_description_bigram_tfidf feat\n",
      "generate query_id_title_unigram_tfidf feat\n",
      "generate query_id_title_bigram_tfidf feat\n",
      "generate query_id_description_unigram_tfidf feat\n",
      "generate query_id_description_bigram_tfidf feat\n",
      "Done.\n"
     ]
    }
   ],
   "source": [
    "######################\n",
    "## Cross validation ##\n",
    "######################\n",
    "print(\"For cross-validation...\")\n",
    "for run in range(n_runs):\n",
    "    ## use 33% for training and 67 % for validation\n",
    "    ## so we switch trainInd and validInd\n",
    "    for fold, (validInd, trainInd) in enumerate(skf[run]):\n",
    "        print(\"Run: %d, Fold: %d\" % (run+1, fold+1))\n",
    "        path = \"%s/Run%d/Fold%d\" % (feat_folder, run+1, fold+1)\n",
    "\n",
    "        for feat_name,column_name in zip(feat_names, column_names):\n",
    "            print(\"generate %s feat\" % feat_name)\n",
    "            ## tfidf\n",
    "            tfv = getTFV(ngram_range=ngram_range)\n",
    "            X_tfidf_train = tfv.fit_transform(dfTrain.iloc[trainInd][column_name])\n",
    "            X_tfidf_valid = tfv.transform(dfTrain.iloc[validInd][column_name])\n",
    "            with open(\"%s/train.%s.feat.pkl\" % (path, feat_name), \"wb\") as f:\n",
    "                pickle.dump(X_tfidf_train, f, -1)\n",
    "            with open(\"%s/valid.%s.feat.pkl\" % (path, feat_name), \"wb\") as f:\n",
    "                pickle.dump(X_tfidf_valid, f, -1)\n",
    "\n",
    "            ## svd\n",
    "            svd = TruncatedSVD(n_components=svd_n_components, n_iter=15)\n",
    "            X_svd_train = svd.fit_transform(X_tfidf_train)\n",
    "            X_svd_test = svd.transform(X_tfidf_valid)\n",
    "            with open(\"%s/train.%s_individual_svd%d.feat.pkl\" % (path, feat_name, svd_n_components), \"wb\") as f:\n",
    "                pickle.dump(X_svd_train, f, -1)\n",
    "            with open(\"%s/valid.%s_individual_svd%d.feat.pkl\" % (path, feat_name, svd_n_components), \"wb\") as f:\n",
    "                pickle.dump(X_svd_test, f, -1)\n",
    "\n",
    "print(\"Done.\")"
   ]
  },
  {
   "cell_type": "code",
   "execution_count": 78,
   "metadata": {
    "collapsed": true
   },
   "outputs": [
    {
     "name": "stdout",
     "output_type": "stream",
     "text": [
      "For training and testing...\n",
      "generate query_unigram_title_unigram_tfidf feat\n",
      "generate query_unigram_title_bigram_tfidf feat\n",
      "generate query_unigram_description_unigram_tfidf feat\n",
      "generate query_unigram_description_bigram_tfidf feat\n",
      "generate query_bigram_title_unigram_tfidf feat\n",
      "generate query_bigram_title_bigram_tfidf feat\n",
      "generate query_bigram_description_unigram_tfidf feat\n",
      "generate query_bigram_description_bigram_tfidf feat\n",
      "generate query_id_title_unigram_tfidf feat\n",
      "generate query_id_title_bigram_tfidf feat\n",
      "generate query_id_description_unigram_tfidf feat\n",
      "generate query_id_description_bigram_tfidf feat\n",
      "Done.\n"
     ]
    }
   ],
   "source": [
    "print(\"For training and testing...\")\n",
    "path = \"%s/All\" % feat_folder\n",
    "for feat_name,column_name in zip(feat_names, column_names):\n",
    "    print(\"generate %s feat\" % feat_name)\n",
    "    tfv = getTFV(ngram_range=ngram_range)\n",
    "    X_tfidf_train = tfv.fit_transform(dfTrain[column_name])\n",
    "    X_tfidf_test = tfv.transform(dfTest[column_name])\n",
    "    with open(\"%s/train.%s.feat.pkl\" % (path, feat_name), \"wb\") as f:\n",
    "        pickle.dump(X_tfidf_train, f, -1)\n",
    "    with open(\"%s/test.%s.feat.pkl\" % (path, feat_name), \"wb\") as f:\n",
    "        pickle.dump(X_tfidf_test, f, -1)\n",
    "\n",
    "    ## svd\n",
    "    svd = TruncatedSVD(n_components=svd_n_components, n_iter=15)\n",
    "    X_svd_train = svd.fit_transform(X_tfidf_train)\n",
    "    X_svd_test = svd.transform(X_tfidf_test)\n",
    "    with open(\"%s/train.%s_individual_svd%d.feat.pkl\" % (path, feat_name, svd_n_components), \"wb\") as f:\n",
    "        pickle.dump(X_svd_train, f, -1)\n",
    "    with open(\"%s/test.%s_individual_svd%d.feat.pkl\" % (path, feat_name, svd_n_components), \"wb\") as f:\n",
    "        pickle.dump(X_svd_test, f, -1)\n",
    "\n",
    "print(\"Done.\")"
   ]
  },
  {
   "cell_type": "code",
   "execution_count": 79,
   "metadata": {},
   "outputs": [
    {
     "name": "stdout",
     "output_type": "stream",
     "text": [
      "Feature names are stored in ../data/crowdflower-search-relevance/Feat/solution/intersect_tfidf.feat_name\n",
      "All Done.\n"
     ]
    }
   ],
   "source": [
    "## save feat names\n",
    "print(\"Feature names are stored in %s\" % feat_name_file)\n",
    "feat_names += [ \"%s_individual_svd%d\"%(f, svd_n_components) for f in feat_names ]\n",
    "dump_feat_name(feat_names, feat_name_file)\n",
    "\n",
    "print(\"All Done.\")"
   ]
  },
  {
   "cell_type": "code",
   "execution_count": 80,
   "metadata": {},
   "outputs": [
    {
     "data": {
      "text/plain": [
       "(10158, 314)"
      ]
     },
     "execution_count": 80,
     "metadata": {},
     "output_type": "execute_result"
    }
   ],
   "source": [
    "dfTrain.shape"
   ]
  },
  {
   "cell_type": "markdown",
   "metadata": {},
   "source": [
    "## 数据可信度度量\n",
    "原始数据中存在方差一项，因此我们可以将其作为一个数据可信度的衡量，从而可以将其转换为样本的权重。\n",
    "\n",
    "\n",
    "![](http://static.zybuluo.com/zhuanxu/0mor67xjwejn8w89hsg4bn7m/image_1bvu6j4q3ka3120v3ddku91uh09.png)"
   ]
  },
  {
   "cell_type": "code",
   "execution_count": null,
   "metadata": {},
   "outputs": [],
   "source": []
  },
  {
   "cell_type": "markdown",
   "metadata": {},
   "source": [
    "## 定义nlp相关的函数"
   ]
  },
  {
   "cell_type": "code",
   "execution_count": 25,
   "metadata": {},
   "outputs": [],
   "source": [
    "stopwords = nltk.corpus.stopwords.words(\"english\")\n",
    "stopwords = set(stopwords)"
   ]
  },
  {
   "cell_type": "code",
   "execution_count": 26,
   "metadata": {},
   "outputs": [],
   "source": [
    "from bs4 import BeautifulSoup\n",
    "def drop_html(html):\n",
    "    return BeautifulSoup(html,\"lxml\").get_text(separator=\" \")"
   ]
  },
  {
   "cell_type": "code",
   "execution_count": 27,
   "metadata": {},
   "outputs": [],
   "source": [
    "replace_dict = {\n",
    "    \"nutri system\": \"nutrisystem\",\n",
    "    \"soda stream\": \"sodastream\",\n",
    "    \"playstation's\": \"ps\",\n",
    "    \"playstations\": \"ps\",\n",
    "    \"playstation\": \"ps\",\n",
    "    \"(ps 2)\": \"ps2\",\n",
    "    \"(ps 3)\": \"ps3\",\n",
    "    \"(ps 4)\": \"ps4\",\n",
    "    \"ps 2\": \"ps2\",\n",
    "    \"ps 3\": \"ps3\",\n",
    "    \"ps 4\": \"ps4\",\n",
    "    \"coffeemaker\": \"coffee maker\",\n",
    "    \"k-cups\": \"k cup\",\n",
    "    \"k-cup\": \"k cup\",\n",
    "    \"4-ounce\": \"4 ounce\",\n",
    "    \"8-ounce\": \"8 ounce\",\n",
    "    \"12-ounce\": \"12 ounce\",\n",
    "    \"ounce\": \"oz\",\n",
    "    \"button-down\": \"button down\",\n",
    "    \"doctor who\": \"dr who\",\n",
    "    \"2-drawer\": \"2 drawer\",\n",
    "    \"3-drawer\": \"3 drawer\",\n",
    "    \"in-drawer\": \"in drawer\",\n",
    "    \"hardisk\": \"hard drive\",\n",
    "    \"hard disk\": \"hard drive\",\n",
    "    \"harley-davidson\": \"harley davidson\",\n",
    "    \"harleydavidson\": \"harley davidson\",\n",
    "    \"e-reader\": \"ereader\",\n",
    "    \"levi strauss\": \"levi\",\n",
    "    \"levis\": \"levi\",\n",
    "    \"mac book\": \"macbook\",\n",
    "    \"micro-usb\": \"micro usb\",\n",
    "    \"screen protector for samsung\": \"screen protector samsung\",\n",
    "    \"video games\": \"videogames\",\n",
    "    \"game pad\": \"gamepad\",\n",
    "    \"western digital\": \"wd\",\n",
    "    \"eau de toilette\": \"perfume\",\n",
    "}"
   ]
  },
  {
   "cell_type": "code",
   "execution_count": 28,
   "metadata": {},
   "outputs": [],
   "source": [
    "import csv\n",
    "class WordReplacer(object):\n",
    "    def __init__(self, word_map):\n",
    "        self.word_map = word_map\n",
    "    def replace(self, word):\n",
    "        return [self.word_map.get(w, w) for w in word]\n",
    "    \n",
    "    \n",
    "class CsvWordReplacer(WordReplacer):\n",
    "    def __init__(self, fname):\n",
    "        word_map = {}\n",
    "        for line in csv.reader(open(fname)):\n",
    "            word, syn = line\n",
    "            if word.startswith(\"#\"):\n",
    "                continue\n",
    "            word_map[word] = syn\n",
    "        super(CsvWordReplacer, self).__init__(word_map)"
   ]
  },
  {
   "cell_type": "code",
   "execution_count": 29,
   "metadata": {},
   "outputs": [],
   "source": [
    "replacer = CsvWordReplacer(\"../data/crowdflower-search-relevance/synonyms.csv\")"
   ]
  },
  {
   "cell_type": "code",
   "execution_count": 30,
   "metadata": {},
   "outputs": [],
   "source": [
    "import re\n",
    "def clean_text(line, drop_html_flag=False):\n",
    "    names = [\"query\", \"product_title\", \"product_description\"]\n",
    "    for name in names:\n",
    "        l = line[name]\n",
    "        if drop_html_flag:\n",
    "            l = drop_html(l)\n",
    "        l = l.lower()\n",
    "        ## replace gb\n",
    "        for vol in [16, 32, 64, 128, 500]:\n",
    "            l = re.sub(\"%d gb\"%vol, \"%dgb\"%vol, l)\n",
    "            l = re.sub(\"%d g\"%vol, \"%dgb\"%vol, l)\n",
    "            l = re.sub(\"%dg \"%vol, \"%dgb \"%vol, l)\n",
    "        ## replace tb\n",
    "        for vol in [2]:        \n",
    "            l = re.sub(\"%d tb\"%vol, \"%dtb\"%vol, l)\n",
    "\n",
    "        ## replace other words\n",
    "        for k,v in replace_dict.items():\n",
    "            l = re.sub(k, v, l)\n",
    "        l = l.split(\" \")\n",
    "\n",
    "        ## replace synonyms\n",
    "        l = replacer.replace(l)\n",
    "        l = \" \".join(l)\n",
    "        line[name] = l\n",
    "    return line"
   ]
  },
  {
   "cell_type": "code",
   "execution_count": null,
   "metadata": {},
   "outputs": [],
   "source": []
  },
  {
   "cell_type": "code",
   "execution_count": null,
   "metadata": {},
   "outputs": [],
   "source": []
  },
  {
   "cell_type": "code",
   "execution_count": null,
   "metadata": {},
   "outputs": [],
   "source": []
  }
 ],
 "metadata": {
  "kernelspec": {
   "display_name": "Python 3",
   "language": "python",
   "name": "python3"
  },
  "language_info": {
   "codemirror_mode": {
    "name": "ipython",
    "version": 3
   },
   "file_extension": ".py",
   "mimetype": "text/x-python",
   "name": "python",
   "nbconvert_exporter": "python",
   "pygments_lexer": "ipython3",
   "version": "3.6.3"
  }
 },
 "nbformat": 4,
 "nbformat_minor": 2
}
