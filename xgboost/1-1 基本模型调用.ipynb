{
 "cells": [
  {
   "cell_type": "code",
   "execution_count": 11,
   "metadata": {},
   "outputs": [],
   "source": [
    "# 开启多行显示\n",
    "from IPython.core.interactiveshell import InteractiveShell\n",
    "InteractiveShell.ast_node_interactivity = \"all\"\n",
    "# InteractiveShell.ast_node_interactivity = \"last_expr\"\n",
    "\n",
    "# 显示图片\n",
    "%matplotlib inline\n",
    "%config InlineBackend.figure_format = 'retina'"
   ]
  },
  {
   "cell_type": "markdown",
   "metadata": {},
   "source": [
    "## 数据探索\n",
    "XGBoost中数据形式可以是libsvm的，libsvm作用是对稀疏特征进行优化，看个例子：\n",
    "\n",
    "```\n",
    "1 101:1.2 102:0.03 \n",
    "0 1:2.1 10001:300 10002:400\n",
    "0 2:1.2 1212:21 7777:2\n",
    "```\n",
    "每行表示一个样本，每行开头0，1表示标签，而后面的则是特征索引：数值，其他未表示都是0.\n",
    "\n",
    "我们以判断蘑菇是否有毒为例子来做后续的训练。数据集来自：http://archive.ics.uci.edu/ml/machine-learning-databases/mushroom/ ，其中蘑菇有22个属性，将这些原始的特征加工后得到126维特征，并保存为libsvm格式，标签是表示蘑菇是否有毒。其中其中 6513 个样本做训练，1611 个样本做测试。"
   ]
  },
  {
   "cell_type": "code",
   "execution_count": 1,
   "metadata": {},
   "outputs": [],
   "source": [
    "import xgboost as xgb\n",
    "from sklearn.metrics import accuracy_score"
   ]
  },
  {
   "cell_type": "markdown",
   "metadata": {},
   "source": [
    "> DMatrix is a internal data structure that used by XGBoost\n",
    "which is optimized for both memory efficiency and training speed.\n",
    "\n",
    "DMatrix 的数据来源可以是 `string/numpy array/scipy.sparse/pd.DataFrame`，如果是 string，则代表 libsvm 文件的路径，或者是 xgboost 可读取的二进制文件路径。"
   ]
  },
  {
   "cell_type": "code",
   "execution_count": 2,
   "metadata": {},
   "outputs": [],
   "source": [
    "data_fold = \"./data/\"\n",
    "dtrain = xgb.DMatrix(data_fold + \"agaricus.txt.train\")\n",
    "dtest = xgb.DMatrix(data_fold + \"agaricus.txt.test\")"
   ]
  },
  {
   "cell_type": "markdown",
   "metadata": {},
   "source": [
    "查看数据情况"
   ]
  },
  {
   "cell_type": "code",
   "execution_count": 12,
   "metadata": {},
   "outputs": [
    {
     "data": {
      "text/plain": [
       "(127, 6513)"
      ]
     },
     "execution_count": 12,
     "metadata": {},
     "output_type": "execute_result"
    },
    {
     "data": {
      "text/plain": [
       "(127, 1611)"
      ]
     },
     "execution_count": 12,
     "metadata": {},
     "output_type": "execute_result"
    }
   ],
   "source": [
    "(dtrain.num_col(),dtrain.num_row())\n",
    "(dtest.num_col(),dtest.num_row())"
   ]
  },
  {
   "cell_type": "markdown",
   "metadata": {},
   "source": [
    "## 模型训练\n",
    "基本参数设定：\n",
    "- max_depth： 树的最大深度。缺省值为6，取值范围为：[1,∞] \n",
    "- eta：为了防止过拟合，更新过程中用到的收缩步长。eta通过缩减特征 的权重使提升计算过程更加保守。缺省值为0.3，取值范围为：[0,1] \n",
    "- silent: 0表示打印出运行时信息，取1时表示以缄默方式运行，不打印 运行时信息。缺省值为0 \n",
    "- objective： 定义学习任务及相应的学习目标，“binary:logistic” 表示 二分类的逻辑回归问题，输出为概率。"
   ]
  },
  {
   "cell_type": "code",
   "execution_count": 14,
   "metadata": {},
   "outputs": [],
   "source": [
    "param = {'max_depth':2, 'eta':1, 'silent':0, 'objective':'binary:logistic' }"
   ]
  },
  {
   "cell_type": "code",
   "execution_count": 15,
   "metadata": {},
   "outputs": [
    {
     "name": "stdout",
     "output_type": "stream",
     "text": [
      "CPU times: user 0 ns, sys: 0 ns, total: 0 ns\n",
      "Wall time: 65.6 µs\n"
     ]
    }
   ],
   "source": [
    "%time\n",
    "# 设置boosting迭代计算次数\n",
    "num_round = 2\n",
    "\n",
    "bst = xgb.train(param, dtrain, num_round)"
   ]
  },
  {
   "cell_type": "markdown",
   "metadata": {},
   "source": [
    "此处模型输出是一个概率值，我们将其转换为0-1值，然后再计算准确率"
   ]
  },
  {
   "cell_type": "code",
   "execution_count": 16,
   "metadata": {},
   "outputs": [
    {
     "name": "stdout",
     "output_type": "stream",
     "text": [
      "Train Accuary: 97.77%\n"
     ]
    }
   ],
   "source": [
    "train_preds = bst.predict(dtrain)\n",
    "train_predictions = [round(value) for value in train_preds]\n",
    "y_train = dtrain.get_label()\n",
    "train_accuracy = accuracy_score(y_train, train_predictions)\n",
    "print (\"Train Accuary: %.2f%%\" % (train_accuracy * 100.0))"
   ]
  },
  {
   "cell_type": "markdown",
   "metadata": {},
   "source": [
    "我们最后再测试集上看下模型的准确率的"
   ]
  },
  {
   "cell_type": "code",
   "execution_count": 17,
   "metadata": {},
   "outputs": [
    {
     "name": "stdout",
     "output_type": "stream",
     "text": [
      "Test Accuracy: 97.83%\n"
     ]
    }
   ],
   "source": [
    "preds = bst.predict(dtest)\n",
    "predictions = [round(value) for value in preds]\n",
    "y_test = dtest.get_label()\n",
    "test_accuracy = accuracy_score(y_test, predictions)\n",
    "print(\"Test Accuracy: %.2f%%\" % (test_accuracy * 100.0))"
   ]
  },
  {
   "cell_type": "code",
   "execution_count": 23,
   "metadata": {},
   "outputs": [
    {
     "data": {
      "image/svg+xml": [
       "<?xml version=\"1.0\" encoding=\"UTF-8\" standalone=\"no\"?>\n",
       "<!DOCTYPE svg PUBLIC \"-//W3C//DTD SVG 1.1//EN\"\n",
       " \"http://www.w3.org/Graphics/SVG/1.1/DTD/svg11.dtd\">\n",
       "<!-- Generated by graphviz version 2.38.0 (20140413.2041)\n",
       " -->\n",
       "<!-- Title: %3 Pages: 1 -->\n",
       "<svg width=\"544pt\" height=\"537pt\"\n",
       " viewBox=\"0.00 0.00 544.00 537.27\" xmlns=\"http://www.w3.org/2000/svg\" xmlns:xlink=\"http://www.w3.org/1999/xlink\">\n",
       "<g id=\"graph0\" class=\"graph\" transform=\"scale(1 1) rotate(0) translate(4 533.265)\">\n",
       "<title>%3</title>\n",
       "<polygon fill=\"white\" stroke=\"none\" points=\"-4,4 -4,-533.265 540,-533.265 540,4 -4,4\"/>\n",
       "<!-- 0 -->\n",
       "<g id=\"node1\" class=\"node\"><title>0</title>\n",
       "<ellipse fill=\"none\" stroke=\"black\" cx=\"289.5\" cy=\"-434.374\" rx=\"94.7833\" ry=\"94.7833\"/>\n",
       "<text text-anchor=\"middle\" x=\"289.5\" y=\"-430.674\" font-family=\"Times,serif\" font-size=\"14.00\">f29&lt;&#45;9.53674e&#45;07</text>\n",
       "</g>\n",
       "<!-- 1 -->\n",
       "<g id=\"node2\" class=\"node\"><title>1</title>\n",
       "<ellipse fill=\"none\" stroke=\"black\" cx=\"170.5\" cy=\"-187.741\" rx=\"94.7833\" ry=\"94.7833\"/>\n",
       "<text text-anchor=\"middle\" x=\"170.5\" y=\"-184.041\" font-family=\"Times,serif\" font-size=\"14.00\">f56&lt;&#45;9.53674e&#45;07</text>\n",
       "</g>\n",
       "<!-- 0&#45;&gt;1 -->\n",
       "<g id=\"edge1\" class=\"edge\"><title>0&#45;&gt;1</title>\n",
       "<path fill=\"none\" stroke=\"#0000ff\" d=\"M248.38,-348.842C237.976,-327.453 226.74,-304.355 216.127,-282.538\"/>\n",
       "<polygon fill=\"#0000ff\" stroke=\"#0000ff\" points=\"219.143,-280.737 211.621,-273.276 212.848,-283.799 219.143,-280.737\"/>\n",
       "<text text-anchor=\"middle\" x=\"279\" y=\"-310.282\" font-family=\"Times,serif\" font-size=\"14.00\">yes, missing</text>\n",
       "</g>\n",
       "<!-- 2 -->\n",
       "<g id=\"node3\" class=\"node\"><title>2</title>\n",
       "<ellipse fill=\"none\" stroke=\"black\" cx=\"384.5\" cy=\"-187.741\" rx=\"100.983\" ry=\"100.983\"/>\n",
       "<text text-anchor=\"middle\" x=\"384.5\" y=\"-184.041\" font-family=\"Times,serif\" font-size=\"14.00\">f109&lt;&#45;9.53674e&#45;07</text>\n",
       "</g>\n",
       "<!-- 0&#45;&gt;2 -->\n",
       "<g id=\"edge2\" class=\"edge\"><title>0&#45;&gt;2</title>\n",
       "<path fill=\"none\" stroke=\"#ff0000\" d=\"M323.529,-345.747C330.375,-328.118 337.628,-309.441 344.652,-291.354\"/>\n",
       "<polygon fill=\"#ff0000\" stroke=\"#ff0000\" points=\"347.943,-292.547 348.3,-281.958 341.418,-290.013 347.943,-292.547\"/>\n",
       "<text text-anchor=\"middle\" x=\"346.5\" y=\"-310.282\" font-family=\"Times,serif\" font-size=\"14.00\">no</text>\n",
       "</g>\n",
       "<!-- 3 -->\n",
       "<g id=\"node4\" class=\"node\"><title>3</title>\n",
       "<polygon fill=\"none\" stroke=\"black\" points=\"113,-36 0,-36 0,-0 113,-0 113,-36\"/>\n",
       "<text text-anchor=\"middle\" x=\"56.5\" y=\"-14.3\" font-family=\"Times,serif\" font-size=\"14.00\">leaf=1.71218</text>\n",
       "</g>\n",
       "<!-- 1&#45;&gt;3 -->\n",
       "<g id=\"edge3\" class=\"edge\"><title>1&#45;&gt;3</title>\n",
       "<path fill=\"none\" stroke=\"#0000ff\" d=\"M117.505,-108.763C101.759,-85.5951 85.6042,-61.8243 73.8773,-44.5692\"/>\n",
       "<polygon fill=\"#0000ff\" stroke=\"#0000ff\" points=\"76.69,-42.481 68.1742,-36.1776 70.9004,-46.4157 76.69,-42.481\"/>\n",
       "<text text-anchor=\"middle\" x=\"135\" y=\"-57.8\" font-family=\"Times,serif\" font-size=\"14.00\">yes, missing</text>\n",
       "</g>\n",
       "<!-- 4 -->\n",
       "<g id=\"node5\" class=\"node\"><title>4</title>\n",
       "<polygon fill=\"none\" stroke=\"black\" points=\"249.5,-36 131.5,-36 131.5,-0 249.5,-0 249.5,-36\"/>\n",
       "<text text-anchor=\"middle\" x=\"190.5\" y=\"-14.3\" font-family=\"Times,serif\" font-size=\"14.00\">leaf=&#45;1.70044</text>\n",
       "</g>\n",
       "<!-- 1&#45;&gt;4 -->\n",
       "<g id=\"edge4\" class=\"edge\"><title>1&#45;&gt;4</title>\n",
       "<path fill=\"none\" stroke=\"#ff0000\" d=\"M181.669,-93.0619C183.711,-75.9423 185.686,-59.3753 187.249,-46.2672\"/>\n",
       "<polygon fill=\"#ff0000\" stroke=\"#ff0000\" points=\"190.748,-46.4777 188.457,-36.1337 183.798,-45.6489 190.748,-46.4777\"/>\n",
       "<text text-anchor=\"middle\" x=\"195.5\" y=\"-57.8\" font-family=\"Times,serif\" font-size=\"14.00\">no</text>\n",
       "</g>\n",
       "<!-- 5 -->\n",
       "<g id=\"node6\" class=\"node\"><title>5</title>\n",
       "<polygon fill=\"none\" stroke=\"black\" points=\"404.5,-36 286.5,-36 286.5,-0 404.5,-0 404.5,-36\"/>\n",
       "<text text-anchor=\"middle\" x=\"345.5\" y=\"-14.3\" font-family=\"Times,serif\" font-size=\"14.00\">leaf=&#45;1.94071</text>\n",
       "</g>\n",
       "<!-- 2&#45;&gt;5 -->\n",
       "<g id=\"edge5\" class=\"edge\"><title>2&#45;&gt;5</title>\n",
       "<path fill=\"none\" stroke=\"#0000ff\" d=\"M361.814,-89.1654C358.133,-73.3339 354.608,-58.1721 351.782,-46.0192\"/>\n",
       "<polygon fill=\"#0000ff\" stroke=\"#0000ff\" points=\"355.166,-45.1203 349.493,-36.1727 348.348,-46.7056 355.166,-45.1203\"/>\n",
       "<text text-anchor=\"middle\" x=\"402\" y=\"-57.8\" font-family=\"Times,serif\" font-size=\"14.00\">yes, missing</text>\n",
       "</g>\n",
       "<!-- 6 -->\n",
       "<g id=\"node7\" class=\"node\"><title>6</title>\n",
       "<polygon fill=\"none\" stroke=\"black\" points=\"536,-36 423,-36 423,-0 536,-0 536,-36\"/>\n",
       "<text text-anchor=\"middle\" x=\"479.5\" y=\"-14.3\" font-family=\"Times,serif\" font-size=\"14.00\">leaf=1.85965</text>\n",
       "</g>\n",
       "<!-- 2&#45;&gt;6 -->\n",
       "<g id=\"edge6\" class=\"edge\"><title>2&#45;&gt;6</title>\n",
       "<path fill=\"none\" stroke=\"#ff0000\" d=\"M433.948,-99.4314C445.191,-79.5797 456.288,-59.9854 464.714,-45.1071\"/>\n",
       "<polygon fill=\"#ff0000\" stroke=\"#ff0000\" points=\"467.958,-46.4819 469.841,-36.0557 461.867,-43.0323 467.958,-46.4819\"/>\n",
       "<text text-anchor=\"middle\" x=\"468.5\" y=\"-57.8\" font-family=\"Times,serif\" font-size=\"14.00\">no</text>\n",
       "</g>\n",
       "</g>\n",
       "</svg>\n"
      ],
      "text/plain": [
       "<graphviz.dot.Digraph at 0x7f6cac09df60>"
      ]
     },
     "execution_count": 23,
     "metadata": {},
     "output_type": "execute_result"
    }
   ],
   "source": [
    "from matplotlib import pyplot\n",
    "import graphviz\n",
    "xgb.to_graphviz(bst, num_trees=0 )\n",
    "pyplot.show()"
   ]
  },
  {
   "cell_type": "markdown",
   "metadata": {},
   "source": [
    "## scikit-learn 接口格式"
   ]
  },
  {
   "cell_type": "code",
   "execution_count": 29,
   "metadata": {},
   "outputs": [],
   "source": [
    "from xgboost import XGBClassifier\n",
    "from sklearn.datasets import load_svmlight_file"
   ]
  },
  {
   "cell_type": "code",
   "execution_count": 30,
   "metadata": {},
   "outputs": [
    {
     "data": {
      "text/plain": [
       "XGBClassifier(base_score=0.5, booster='gbtree', colsample_bylevel=1,\n",
       "       colsample_bytree=1, gamma=0, learning_rate=1, max_delta_step=0,\n",
       "       max_depth=2, min_child_weight=1, missing=None, n_estimators=2,\n",
       "       n_jobs=1, nthread=None, objective='binary:logistic', random_state=0,\n",
       "       reg_alpha=0, reg_lambda=1, scale_pos_weight=1, seed=None,\n",
       "       silent=True, subsample=1)"
      ]
     },
     "execution_count": 30,
     "metadata": {},
     "output_type": "execute_result"
    }
   ],
   "source": [
    "my_workpath = './data/'\n",
    "X_train,y_train = load_svmlight_file(my_workpath + 'agaricus.txt.train')\n",
    "X_test,y_test = load_svmlight_file(my_workpath + 'agaricus.txt.test')\n",
    "\n",
    "# 设置boosting迭代计算次数\n",
    "num_round = 2\n",
    "\n",
    "#bst = XGBClassifier(**params)\n",
    "#bst = XGBClassifier()\n",
    "bst =XGBClassifier(max_depth=2, learning_rate=1, n_estimators=num_round, \n",
    "                   silent=True, objective='binary:logistic')\n",
    "\n",
    "bst.fit(X_train, y_train)"
   ]
  },
  {
   "cell_type": "code",
   "execution_count": 31,
   "metadata": {},
   "outputs": [
    {
     "name": "stdout",
     "output_type": "stream",
     "text": [
      "Train Accuary: 97.77%\n"
     ]
    }
   ],
   "source": [
    "# 训练集上准确率\n",
    "train_preds = bst.predict(X_train)\n",
    "train_predictions = [round(value) for value in train_preds]\n",
    "\n",
    "train_accuracy = accuracy_score(y_train, train_predictions)\n",
    "print (\"Train Accuary: %.2f%%\" % (train_accuracy * 100.0))"
   ]
  },
  {
   "cell_type": "code",
   "execution_count": 32,
   "metadata": {},
   "outputs": [
    {
     "name": "stdout",
     "output_type": "stream",
     "text": [
      "Test Accuracy: 97.83%\n"
     ]
    }
   ],
   "source": [
    "# 测试集上准确率\n",
    "# make prediction\n",
    "preds = bst.predict(X_test)\n",
    "predictions = [round(value) for value in preds]\n",
    "\n",
    "test_accuracy = accuracy_score(y_test, predictions)\n",
    "print(\"Test Accuracy: %.2f%%\" % (test_accuracy * 100.0))"
   ]
  },
  {
   "cell_type": "markdown",
   "metadata": {},
   "source": [
    "## scikit-lean 中 cv 使用\n",
    "做cross_validation主要用到下面 StratifiedKFold 函数"
   ]
  },
  {
   "cell_type": "code",
   "execution_count": 33,
   "metadata": {},
   "outputs": [],
   "source": [
    "# 设置boosting迭代计算次数\n",
    "num_round = 2\n",
    "bst =XGBClassifier(max_depth=2, learning_rate=0.1,n_estimators=num_round, \n",
    "                   silent=True, objective='binary:logistic')"
   ]
  },
  {
   "cell_type": "code",
   "execution_count": 34,
   "metadata": {},
   "outputs": [],
   "source": [
    "from sklearn.model_selection import StratifiedKFold\n",
    "from sklearn.model_selection import cross_val_score"
   ]
  },
  {
   "cell_type": "code",
   "execution_count": 35,
   "metadata": {},
   "outputs": [
    {
     "name": "stdout",
     "output_type": "stream",
     "text": [
      "[ 0.69478528  0.85276074  0.95398773  0.97235023  0.96006144  0.98771121\n",
      "  1.          1.          0.96927803  0.97695853]\n",
      "CV Accuracy: 93.68% (9.00%)\n"
     ]
    }
   ],
   "source": [
    "kfold = StratifiedKFold(n_splits=10, random_state=7)\n",
    "results = cross_val_score(bst, X_train, y_train, cv=kfold)\n",
    "print(results)\n",
    "print(\"CV Accuracy: %.2f%% (%.2f%%)\" % (results.mean()*100, results.std()*100))"
   ]
  },
  {
   "cell_type": "markdown",
   "metadata": {},
   "source": [
    "## GridSearchcv 搜索最优解"
   ]
  },
  {
   "cell_type": "code",
   "execution_count": 37,
   "metadata": {},
   "outputs": [],
   "source": [
    "from sklearn.model_selection import GridSearchCV"
   ]
  },
  {
   "cell_type": "code",
   "execution_count": 38,
   "metadata": {},
   "outputs": [],
   "source": [
    "bst =XGBClassifier(max_depth=2, learning_rate=0.1, silent=True, objective='binary:logistic')"
   ]
  },
  {
   "cell_type": "code",
   "execution_count": 41,
   "metadata": {},
   "outputs": [
    {
     "name": "stdout",
     "output_type": "stream",
     "text": [
      "CPU times: user 0 ns, sys: 0 ns, total: 0 ns\n",
      "Wall time: 24.3 µs\n"
     ]
    },
    {
     "data": {
      "text/plain": [
       "GridSearchCV(cv=5, error_score='raise',\n",
       "       estimator=XGBClassifier(base_score=0.5, booster='gbtree', colsample_bylevel=1,\n",
       "       colsample_bytree=1, gamma=0, learning_rate=0.1, max_delta_step=0,\n",
       "       max_depth=2, min_child_weight=1, missing=None, n_estimators=100,\n",
       "       n_jobs=1, nthread=None, objective='binary:logistic', random_state=0,\n",
       "       reg_alpha=0, reg_lambda=1, scale_pos_weight=1, seed=None,\n",
       "       silent=True, subsample=1),\n",
       "       fit_params=None, iid=True, n_jobs=1,\n",
       "       param_grid={'n_estimators': range(1, 51)}, pre_dispatch='2*n_jobs',\n",
       "       refit=True, return_train_score='warn', scoring='accuracy',\n",
       "       verbose=0)"
      ]
     },
     "execution_count": 41,
     "metadata": {},
     "output_type": "execute_result"
    }
   ],
   "source": [
    "%time\n",
    "param_grid = {\n",
    " 'n_estimators': range(1, 51, 1)\n",
    "}\n",
    "clf = GridSearchCV(bst, param_grid, \"accuracy\",cv=5)\n",
    "clf.fit(X_train, y_train)"
   ]
  },
  {
   "cell_type": "code",
   "execution_count": 45,
   "metadata": {},
   "outputs": [
    {
     "data": {
      "text/plain": [
       "({'n_estimators': 30}, 0.98418547520343924)"
      ]
     },
     "execution_count": 45,
     "metadata": {},
     "output_type": "execute_result"
    }
   ],
   "source": [
    "clf.best_params_, clf.best_score_"
   ]
  },
  {
   "cell_type": "code",
   "execution_count": 46,
   "metadata": {},
   "outputs": [
    {
     "name": "stdout",
     "output_type": "stream",
     "text": [
      "Test Accuracy of gridsearchcv: 97.27%\n"
     ]
    }
   ],
   "source": [
    "## 在测试集合上测试\n",
    "#make prediction\n",
    "preds = clf.predict(X_test)\n",
    "predictions = [round(value) for value in preds]\n",
    "\n",
    "test_accuracy = accuracy_score(y_test, predictions)\n",
    "print(\"Test Accuracy of gridsearchcv: %.2f%%\" % (test_accuracy * 100.0))"
   ]
  },
  {
   "cell_type": "markdown",
   "metadata": {},
   "source": [
    "## early-stop\n",
    "我们设置验证valid集，当我们迭代过程中发现在验证集上错误率增加，则提前停止迭代。"
   ]
  },
  {
   "cell_type": "code",
   "execution_count": 49,
   "metadata": {},
   "outputs": [],
   "source": [
    "from sklearn.model_selection import train_test_split"
   ]
  },
  {
   "cell_type": "code",
   "execution_count": 50,
   "metadata": {},
   "outputs": [
    {
     "data": {
      "text/plain": [
       "(4363, 126)"
      ]
     },
     "execution_count": 50,
     "metadata": {},
     "output_type": "execute_result"
    },
    {
     "data": {
      "text/plain": [
       "(2150, 126)"
      ]
     },
     "execution_count": 50,
     "metadata": {},
     "output_type": "execute_result"
    }
   ],
   "source": [
    "seed = 7\n",
    "test_size = 0.33\n",
    "X_train_part, X_validate, y_train_part, y_validate= train_test_split(X_train, y_train, test_size=test_size,\n",
    "    random_state=seed)\n",
    "\n",
    "X_train_part.shape\n",
    "X_validate.shape"
   ]
  },
  {
   "cell_type": "code",
   "execution_count": 51,
   "metadata": {},
   "outputs": [
    {
     "name": "stdout",
     "output_type": "stream",
     "text": [
      "[0]\tvalidation_0-error:0.048372\n",
      "Will train until validation_0-error hasn't improved in 10 rounds.\n",
      "[1]\tvalidation_0-error:0.042326\n",
      "[2]\tvalidation_0-error:0.048372\n",
      "[3]\tvalidation_0-error:0.042326\n",
      "[4]\tvalidation_0-error:0.042326\n",
      "[5]\tvalidation_0-error:0.042326\n",
      "[6]\tvalidation_0-error:0.023256\n",
      "[7]\tvalidation_0-error:0.042326\n",
      "[8]\tvalidation_0-error:0.042326\n",
      "[9]\tvalidation_0-error:0.023256\n",
      "[10]\tvalidation_0-error:0.006512\n",
      "[11]\tvalidation_0-error:0.017674\n",
      "[12]\tvalidation_0-error:0.017674\n",
      "[13]\tvalidation_0-error:0.017674\n",
      "[14]\tvalidation_0-error:0.017674\n",
      "[15]\tvalidation_0-error:0.017674\n",
      "[16]\tvalidation_0-error:0.017674\n",
      "[17]\tvalidation_0-error:0.017674\n",
      "[18]\tvalidation_0-error:0.024651\n",
      "[19]\tvalidation_0-error:0.020465\n",
      "[20]\tvalidation_0-error:0.020465\n",
      "Stopping. Best iteration:\n",
      "[10]\tvalidation_0-error:0.006512\n",
      "\n"
     ]
    },
    {
     "data": {
      "text/plain": [
       "XGBClassifier(base_score=0.5, booster='gbtree', colsample_bylevel=1,\n",
       "       colsample_bytree=1, gamma=0, learning_rate=0.1, max_delta_step=0,\n",
       "       max_depth=2, min_child_weight=1, missing=None, n_estimators=100,\n",
       "       n_jobs=1, nthread=None, objective='binary:logistic', random_state=0,\n",
       "       reg_alpha=0, reg_lambda=1, scale_pos_weight=1, seed=None,\n",
       "       silent=True, subsample=1)"
      ]
     },
     "execution_count": 51,
     "metadata": {},
     "output_type": "execute_result"
    }
   ],
   "source": [
    "# 设置boosting迭代计算次数\n",
    "num_round = 100\n",
    "\n",
    "\n",
    "bst =XGBClassifier(max_depth=2, learning_rate=0.1, n_estimators=num_round, silent=True, objective='binary:logistic')\n",
    "\n",
    "eval_set =[(X_validate, y_validate)]\n",
    "bst.fit(X_train_part, y_train_part, early_stopping_rounds=10, eval_metric=\"error\",\n",
    "    eval_set=eval_set, verbose=True)"
   ]
  },
  {
   "cell_type": "markdown",
   "metadata": {},
   "source": [
    "我们可以将上面的错误率进行可视化，方便我们更直观的观察"
   ]
  },
  {
   "cell_type": "code",
   "execution_count": 53,
   "metadata": {},
   "outputs": [
    {
     "data": {
      "text/plain": [
       "[<matplotlib.lines.Line2D at 0x7f6c89b3c9b0>]"
      ]
     },
     "execution_count": 53,
     "metadata": {},
     "output_type": "execute_result"
    },
    {
     "data": {
      "text/plain": [
       "<matplotlib.legend.Legend at 0x7f6c89ae7a58>"
      ]
     },
     "execution_count": 53,
     "metadata": {},
     "output_type": "execute_result"
    },
    {
     "data": {
      "text/plain": [
       "Text(0,0.5,'Error')"
      ]
     },
     "execution_count": 53,
     "metadata": {},
     "output_type": "execute_result"
    },
    {
     "data": {
      "text/plain": [
       "Text(0.5,0,'Round')"
      ]
     },
     "execution_count": 53,
     "metadata": {},
     "output_type": "execute_result"
    },
    {
     "data": {
      "text/plain": [
       "Text(0.5,1,'XGBoost Early Stop')"
      ]
     },
     "execution_count": 53,
     "metadata": {},
     "output_type": "execute_result"
    },
    {
     "data": {
      "image/png": "[encoded data removed]",
      "text/plain": [
       "<matplotlib.figure.Figure at 0x7f6c89b3c630>"
      ]
     },
     "metadata": {
      "image/png": {
       "height": 277,
       "width": 393
      }
     },
     "output_type": "display_data"
    }
   ],
   "source": [
    "results = bst.evals_result()\n",
    "#print(results)\n",
    "\n",
    "epochs = len(results['validation_0']['error'])\n",
    "x_axis = range(0, epochs)\n",
    "\n",
    "# plot log loss\n",
    "fig, ax = pyplot.subplots()\n",
    "ax.plot(x_axis, results['validation_0']['error'], label='Test')\n",
    "ax.legend()\n",
    "pyplot.ylabel('Error')\n",
    "pyplot.xlabel('Round')\n",
    "pyplot.title('XGBoost Early Stop')\n",
    "pyplot.show()"
   ]
  },
  {
   "cell_type": "code",
   "execution_count": 54,
   "metadata": {},
   "outputs": [
    {
     "name": "stdout",
     "output_type": "stream",
     "text": [
      "Test Accuracy: 97.27%\n"
     ]
    }
   ],
   "source": [
    "# 测试集上准确率\n",
    "# make prediction\n",
    "preds = bst.predict(X_test)\n",
    "predictions = [round(value) for value in preds]\n",
    "\n",
    "test_accuracy = accuracy_score(y_test, predictions)\n",
    "print(\"Test Accuracy: %.2f%%\" % (test_accuracy * 100.0))"
   ]
  },
  {
   "cell_type": "markdown",
   "metadata": {},
   "source": [
    "## 学习曲线"
   ]
  },
  {
   "cell_type": "code",
   "execution_count": 55,
   "metadata": {
    "collapsed": true
   },
   "outputs": [
    {
     "name": "stdout",
     "output_type": "stream",
     "text": [
      "[0]\tvalidation_0-error:0.045611\tvalidation_0-logloss:0.614637\tvalidation_1-error:0.048372\tvalidation_1-logloss:0.615401\n",
      "[1]\tvalidation_0-error:0.041256\tvalidation_0-logloss:0.549907\tvalidation_1-error:0.042326\tvalidation_1-logloss:0.550696\n",
      "[2]\tvalidation_0-error:0.045611\tvalidation_0-logloss:0.49543\tvalidation_1-error:0.048372\tvalidation_1-logloss:0.496777\n",
      "[3]\tvalidation_0-error:0.041256\tvalidation_0-logloss:0.449089\tvalidation_1-error:0.042326\tvalidation_1-logloss:0.450412\n",
      "[4]\tvalidation_0-error:0.041256\tvalidation_0-logloss:0.409231\tvalidation_1-error:0.042326\tvalidation_1-logloss:0.410717\n",
      "[5]\tvalidation_0-error:0.041256\tvalidation_0-logloss:0.373748\tvalidation_1-error:0.042326\tvalidation_1-logloss:0.375653\n",
      "[6]\tvalidation_0-error:0.023378\tvalidation_0-logloss:0.343051\tvalidation_1-error:0.023256\tvalidation_1-logloss:0.344738\n",
      "[7]\tvalidation_0-error:0.041256\tvalidation_0-logloss:0.315369\tvalidation_1-error:0.042326\tvalidation_1-logloss:0.317409\n",
      "[8]\tvalidation_0-error:0.041256\tvalidation_0-logloss:0.290912\tvalidation_1-error:0.042326\tvalidation_1-logloss:0.292587\n",
      "[9]\tvalidation_0-error:0.023378\tvalidation_0-logloss:0.269356\tvalidation_1-error:0.023256\tvalidation_1-logloss:0.271103\n",
      "[10]\tvalidation_0-error:0.00573\tvalidation_0-logloss:0.249593\tvalidation_1-error:0.006512\tvalidation_1-logloss:0.251354\n",
      "[11]\tvalidation_0-error:0.01719\tvalidation_0-logloss:0.228658\tvalidation_1-error:0.017674\tvalidation_1-logloss:0.230144\n",
      "[12]\tvalidation_0-error:0.01719\tvalidation_0-logloss:0.210442\tvalidation_1-error:0.017674\tvalidation_1-logloss:0.21167\n",
      "[13]\tvalidation_0-error:0.01719\tvalidation_0-logloss:0.194562\tvalidation_1-error:0.017674\tvalidation_1-logloss:0.19555\n",
      "[14]\tvalidation_0-error:0.01719\tvalidation_0-logloss:0.1807\tvalidation_1-error:0.017674\tvalidation_1-logloss:0.181463\n",
      "[15]\tvalidation_0-error:0.01719\tvalidation_0-logloss:0.168585\tvalidation_1-error:0.017674\tvalidation_1-logloss:0.169138\n",
      "[16]\tvalidation_0-error:0.01719\tvalidation_0-logloss:0.157988\tvalidation_1-error:0.017674\tvalidation_1-logloss:0.158345\n",
      "[17]\tvalidation_0-error:0.01719\tvalidation_0-logloss:0.149407\tvalidation_1-error:0.017674\tvalidation_1-logloss:0.149731\n",
      "[18]\tvalidation_0-error:0.0259\tvalidation_0-logloss:0.140835\tvalidation_1-error:0.024651\tvalidation_1-logloss:0.140979\n",
      "[19]\tvalidation_0-error:0.022003\tvalidation_0-logloss:0.133937\tvalidation_1-error:0.020465\tvalidation_1-logloss:0.13405\n",
      "[20]\tvalidation_0-error:0.022003\tvalidation_0-logloss:0.126967\tvalidation_1-error:0.020465\tvalidation_1-logloss:0.126914\n",
      "[21]\tvalidation_0-error:0.022003\tvalidation_0-logloss:0.121386\tvalidation_1-error:0.020465\tvalidation_1-logloss:0.121303\n",
      "[22]\tvalidation_0-error:0.022003\tvalidation_0-logloss:0.115692\tvalidation_1-error:0.020465\tvalidation_1-logloss:0.115456\n",
      "[23]\tvalidation_0-error:0.022003\tvalidation_0-logloss:0.111147\tvalidation_1-error:0.020465\tvalidation_1-logloss:0.110881\n",
      "[24]\tvalidation_0-error:0.022003\tvalidation_0-logloss:0.106477\tvalidation_1-error:0.020465\tvalidation_1-logloss:0.10607\n",
      "[25]\tvalidation_0-error:0.022003\tvalidation_0-logloss:0.102434\tvalidation_1-error:0.020465\tvalidation_1-logloss:0.102319\n",
      "[26]\tvalidation_0-error:0.022003\tvalidation_0-logloss:0.098434\tvalidation_1-error:0.020465\tvalidation_1-logloss:0.09819\n",
      "[27]\tvalidation_0-error:0.022003\tvalidation_0-logloss:0.094875\tvalidation_1-error:0.020465\tvalidation_1-logloss:0.094824\n",
      "[28]\tvalidation_0-error:0.022003\tvalidation_0-logloss:0.091579\tvalidation_1-error:0.020465\tvalidation_1-logloss:0.091784\n",
      "[29]\tvalidation_0-error:0.013294\tvalidation_0-logloss:0.086202\tvalidation_1-error:0.013488\tvalidation_1-logloss:0.086807\n",
      "[30]\tvalidation_0-error:0.022003\tvalidation_0-logloss:0.083247\tvalidation_1-error:0.020465\tvalidation_1-logloss:0.083741\n",
      "[31]\tvalidation_0-error:0.022003\tvalidation_0-logloss:0.080496\tvalidation_1-error:0.020465\tvalidation_1-logloss:0.080924\n",
      "[32]\tvalidation_0-error:0.022003\tvalidation_0-logloss:0.077298\tvalidation_1-error:0.020465\tvalidation_1-logloss:0.077394\n",
      "[33]\tvalidation_0-error:0.015815\tvalidation_0-logloss:0.074507\tvalidation_1-error:0.016279\tvalidation_1-logloss:0.074765\n",
      "[34]\tvalidation_0-error:0.022003\tvalidation_0-logloss:0.071848\tvalidation_1-error:0.020465\tvalidation_1-logloss:0.071811\n",
      "[35]\tvalidation_0-error:0.010543\tvalidation_0-logloss:0.069488\tvalidation_1-error:0.009302\tvalidation_1-logloss:0.069385\n",
      "[36]\tvalidation_0-error:0.001834\tvalidation_0-logloss:0.067147\tvalidation_1-error:0.002326\tvalidation_1-logloss:0.067341\n",
      "[37]\tvalidation_0-error:0.001834\tvalidation_0-logloss:0.06504\tvalidation_1-error:0.002326\tvalidation_1-logloss:0.065406\n",
      "[38]\tvalidation_0-error:0.001834\tvalidation_0-logloss:0.062898\tvalidation_1-error:0.002326\tvalidation_1-logloss:0.063381\n",
      "[39]\tvalidation_0-error:0.001834\tvalidation_0-logloss:0.060837\tvalidation_1-error:0.002326\tvalidation_1-logloss:0.061088\n",
      "[40]\tvalidation_0-error:0.001834\tvalidation_0-logloss:0.058894\tvalidation_1-error:0.002326\tvalidation_1-logloss:0.059039\n",
      "[41]\tvalidation_0-error:0.001834\tvalidation_0-logloss:0.057112\tvalidation_1-error:0.002326\tvalidation_1-logloss:0.057326\n",
      "[42]\tvalidation_0-error:0.001834\tvalidation_0-logloss:0.055391\tvalidation_1-error:0.002326\tvalidation_1-logloss:0.05543\n",
      "[43]\tvalidation_0-error:0.001834\tvalidation_0-logloss:0.053745\tvalidation_1-error:0.002326\tvalidation_1-logloss:0.053871\n",
      "[44]\tvalidation_0-error:0.001834\tvalidation_0-logloss:0.052198\tvalidation_1-error:0.002326\tvalidation_1-logloss:0.052235\n",
      "[45]\tvalidation_0-error:0.001834\tvalidation_0-logloss:0.050776\tvalidation_1-error:0.002326\tvalidation_1-logloss:0.051033\n",
      "[46]\tvalidation_0-error:0.001834\tvalidation_0-logloss:0.049351\tvalidation_1-error:0.002326\tvalidation_1-logloss:0.04973\n",
      "[47]\tvalidation_0-error:0.001834\tvalidation_0-logloss:0.047848\tvalidation_1-error:0.002326\tvalidation_1-logloss:0.048287\n",
      "[48]\tvalidation_0-error:0.001834\tvalidation_0-logloss:0.046406\tvalidation_1-error:0.002326\tvalidation_1-logloss:0.046702\n",
      "[49]\tvalidation_0-error:0.001834\tvalidation_0-logloss:0.045141\tvalidation_1-error:0.002326\tvalidation_1-logloss:0.045492\n",
      "[50]\tvalidation_0-error:0.001834\tvalidation_0-logloss:0.043917\tvalidation_1-error:0.002326\tvalidation_1-logloss:0.044133\n",
      "[51]\tvalidation_0-error:0.001834\tvalidation_0-logloss:0.042729\tvalidation_1-error:0.002326\tvalidation_1-logloss:0.042999\n",
      "[52]\tvalidation_0-error:0.001834\tvalidation_0-logloss:0.041608\tvalidation_1-error:0.002326\tvalidation_1-logloss:0.041807\n",
      "[53]\tvalidation_0-error:0.001834\tvalidation_0-logloss:0.040493\tvalidation_1-error:0.002326\tvalidation_1-logloss:0.040855\n",
      "[54]\tvalidation_0-error:0.001834\tvalidation_0-logloss:0.039457\tvalidation_1-error:0.002326\tvalidation_1-logloss:0.039871\n",
      "[55]\tvalidation_0-error:0.001834\tvalidation_0-logloss:0.038452\tvalidation_1-error:0.002326\tvalidation_1-logloss:0.038755\n",
      "[56]\tvalidation_0-error:0.001834\tvalidation_0-logloss:0.037478\tvalidation_1-error:0.002326\tvalidation_1-logloss:0.037717\n",
      "[57]\tvalidation_0-error:0.001834\tvalidation_0-logloss:0.036439\tvalidation_1-error:0.002326\tvalidation_1-logloss:0.036777\n",
      "[58]\tvalidation_0-error:0.001834\tvalidation_0-logloss:0.035552\tvalidation_1-error:0.002326\tvalidation_1-logloss:0.035936\n",
      "[59]\tvalidation_0-error:0.001834\tvalidation_0-logloss:0.034694\tvalidation_1-error:0.002326\tvalidation_1-logloss:0.034984\n",
      "[60]\tvalidation_0-error:0.001834\tvalidation_0-logloss:0.033826\tvalidation_1-error:0.002326\tvalidation_1-logloss:0.034132\n",
      "[61]\tvalidation_0-error:0.001834\tvalidation_0-logloss:0.032959\tvalidation_1-error:0.002326\tvalidation_1-logloss:0.033348\n",
      "[62]\tvalidation_0-error:0.001834\tvalidation_0-logloss:0.032192\tvalidation_1-error:0.002326\tvalidation_1-logloss:0.032526\n",
      "[63]\tvalidation_0-error:0.001834\tvalidation_0-logloss:0.031476\tvalidation_1-error:0.002326\tvalidation_1-logloss:0.031754\n",
      "[64]\tvalidation_0-error:0.001834\tvalidation_0-logloss:0.030756\tvalidation_1-error:0.002326\tvalidation_1-logloss:0.031081\n",
      "[65]\tvalidation_0-error:0.001834\tvalidation_0-logloss:0.030038\tvalidation_1-error:0.002326\tvalidation_1-logloss:0.030377\n",
      "[66]\tvalidation_0-error:0.001834\tvalidation_0-logloss:0.029332\tvalidation_1-error:0.002326\tvalidation_1-logloss:0.029594\n",
      "[67]\tvalidation_0-error:0.001834\tvalidation_0-logloss:0.028703\tvalidation_1-error:0.002326\tvalidation_1-logloss:0.029079\n"
     ]
    },
    {
     "name": "stdout",
     "output_type": "stream",
     "text": [
      "[68]\tvalidation_0-error:0.001834\tvalidation_0-logloss:0.028064\tvalidation_1-error:0.002326\tvalidation_1-logloss:0.028391\n",
      "[69]\tvalidation_0-error:0.001834\tvalidation_0-logloss:0.027404\tvalidation_1-error:0.002326\tvalidation_1-logloss:0.027725\n",
      "[70]\tvalidation_0-error:0.001834\tvalidation_0-logloss:0.026824\tvalidation_1-error:0.002326\tvalidation_1-logloss:0.027187\n",
      "[71]\tvalidation_0-error:0.001834\tvalidation_0-logloss:0.026268\tvalidation_1-error:0.002326\tvalidation_1-logloss:0.026565\n",
      "[72]\tvalidation_0-error:0.001834\tvalidation_0-logloss:0.025679\tvalidation_1-error:0.002326\tvalidation_1-logloss:0.025982\n",
      "[73]\tvalidation_0-error:0.001834\tvalidation_0-logloss:0.025153\tvalidation_1-error:0.002326\tvalidation_1-logloss:0.025413\n",
      "[74]\tvalidation_0-error:0.001834\tvalidation_0-logloss:0.02461\tvalidation_1-error:0.002326\tvalidation_1-logloss:0.024927\n",
      "[75]\tvalidation_0-error:0.001834\tvalidation_0-logloss:0.0241\tvalidation_1-error:0.002326\tvalidation_1-logloss:0.02446\n",
      "[76]\tvalidation_0-error:0.001834\tvalidation_0-logloss:0.023615\tvalidation_1-error:0.002326\tvalidation_1-logloss:0.023921\n",
      "[77]\tvalidation_0-error:0.001834\tvalidation_0-logloss:0.023118\tvalidation_1-error:0.002326\tvalidation_1-logloss:0.023423\n",
      "[78]\tvalidation_0-error:0.001834\tvalidation_0-logloss:0.022671\tvalidation_1-error:0.002326\tvalidation_1-logloss:0.023015\n",
      "[79]\tvalidation_0-error:0.001834\tvalidation_0-logloss:0.022244\tvalidation_1-error:0.002326\tvalidation_1-logloss:0.022538\n",
      "[80]\tvalidation_0-error:0.001834\tvalidation_0-logloss:0.021793\tvalidation_1-error:0.002326\tvalidation_1-logloss:0.022087\n",
      "[81]\tvalidation_0-error:0.001834\tvalidation_0-logloss:0.021396\tvalidation_1-error:0.002326\tvalidation_1-logloss:0.021654\n",
      "[82]\tvalidation_0-error:0.001834\tvalidation_0-logloss:0.020948\tvalidation_1-error:0.002326\tvalidation_1-logloss:0.021198\n",
      "[83]\tvalidation_0-error:0.001834\tvalidation_0-logloss:0.020559\tvalidation_1-error:0.002326\tvalidation_1-logloss:0.020806\n",
      "[84]\tvalidation_0-error:0.001834\tvalidation_0-logloss:0.020144\tvalidation_1-error:0.002326\tvalidation_1-logloss:0.020388\n",
      "[85]\tvalidation_0-error:0.001834\tvalidation_0-logloss:0.019775\tvalidation_1-error:0.002326\tvalidation_1-logloss:0.020057\n",
      "[86]\tvalidation_0-error:0.001834\tvalidation_0-logloss:0.019029\tvalidation_1-error:0.002326\tvalidation_1-logloss:0.019235\n",
      "[87]\tvalidation_0-error:0.001834\tvalidation_0-logloss:0.018672\tvalidation_1-error:0.002326\tvalidation_1-logloss:0.018823\n",
      "[88]\tvalidation_0-error:0.001834\tvalidation_0-logloss:0.018313\tvalidation_1-error:0.002326\tvalidation_1-logloss:0.018507\n",
      "[89]\tvalidation_0-error:0.001834\tvalidation_0-logloss:0.017989\tvalidation_1-error:0.002326\tvalidation_1-logloss:0.01815\n",
      "[90]\tvalidation_0-error:0.001834\tvalidation_0-logloss:0.017376\tvalidation_1-error:0.002326\tvalidation_1-logloss:0.01748\n",
      "[91]\tvalidation_0-error:0.001834\tvalidation_0-logloss:0.017087\tvalidation_1-error:0.002326\tvalidation_1-logloss:0.017189\n",
      "[92]\tvalidation_0-error:0.001834\tvalidation_0-logloss:0.016778\tvalidation_1-error:0.002326\tvalidation_1-logloss:0.016877\n",
      "[93]\tvalidation_0-error:0.001834\tvalidation_0-logloss:0.016458\tvalidation_1-error:0.002326\tvalidation_1-logloss:0.016527\n",
      "[94]\tvalidation_0-error:0.001834\tvalidation_0-logloss:0.015932\tvalidation_1-error:0.002326\tvalidation_1-logloss:0.015956\n",
      "[95]\tvalidation_0-error:0.001834\tvalidation_0-logloss:0.015645\tvalidation_1-error:0.002326\tvalidation_1-logloss:0.015665\n",
      "[96]\tvalidation_0-error:0.001834\tvalidation_0-logloss:0.015379\tvalidation_1-error:0.002326\tvalidation_1-logloss:0.015397\n",
      "[97]\tvalidation_0-error:0.001834\tvalidation_0-logloss:0.015116\tvalidation_1-error:0.002326\tvalidation_1-logloss:0.01513\n",
      "[98]\tvalidation_0-error:0.001834\tvalidation_0-logloss:0.014883\tvalidation_1-error:0.002326\tvalidation_1-logloss:0.014893\n",
      "[99]\tvalidation_0-error:0.001834\tvalidation_0-logloss:0.01464\tvalidation_1-error:0.002326\tvalidation_1-logloss:0.014624\n"
     ]
    },
    {
     "data": {
      "text/plain": [
       "XGBClassifier(base_score=0.5, booster='gbtree', colsample_bylevel=1,\n",
       "       colsample_bytree=1, gamma=0, learning_rate=0.1, max_delta_step=0,\n",
       "       max_depth=2, min_child_weight=1, missing=None, n_estimators=100,\n",
       "       n_jobs=1, nthread=None, objective='binary:logistic', random_state=0,\n",
       "       reg_alpha=0, reg_lambda=1, scale_pos_weight=1, seed=None,\n",
       "       silent=True, subsample=1)"
      ]
     },
     "execution_count": 55,
     "metadata": {},
     "output_type": "execute_result"
    }
   ],
   "source": [
    "# 设置boosting迭代计算次数\n",
    "num_round = 100\n",
    "\n",
    "# 没有 eraly_stop\n",
    "bst =XGBClassifier(max_depth=2, learning_rate=0.1, n_estimators=num_round, silent=True, objective='binary:logistic')\n",
    "\n",
    "eval_set = [(X_train_part, y_train_part), (X_validate, y_validate)]\n",
    "bst.fit(X_train_part, y_train_part, eval_metric=[\"error\", \"logloss\"], eval_set=eval_set, verbose=True)"
   ]
  },
  {
   "cell_type": "code",
   "execution_count": 56,
   "metadata": {},
   "outputs": [
    {
     "data": {
      "text/plain": [
       "[<matplotlib.lines.Line2D at 0x7f6c89ad5160>]"
      ]
     },
     "execution_count": 56,
     "metadata": {},
     "output_type": "execute_result"
    },
    {
     "data": {
      "text/plain": [
       "[<matplotlib.lines.Line2D at 0x7f6c89ab72e8>]"
      ]
     },
     "execution_count": 56,
     "metadata": {},
     "output_type": "execute_result"
    },
    {
     "data": {
      "text/plain": [
       "<matplotlib.legend.Legend at 0x7f6c89ab7828>"
      ]
     },
     "execution_count": 56,
     "metadata": {},
     "output_type": "execute_result"
    },
    {
     "data": {
      "text/plain": [
       "Text(0,0.5,'Log Loss')"
      ]
     },
     "execution_count": 56,
     "metadata": {},
     "output_type": "execute_result"
    },
    {
     "data": {
      "text/plain": [
       "Text(0.5,1,'XGBoost Log Loss')"
      ]
     },
     "execution_count": 56,
     "metadata": {},
     "output_type": "execute_result"
    },
    {
     "data": {
      "image/png": "[encoded data removed]",
      "text/plain": [
       "<matplotlib.figure.Figure at 0x7f6c89ad5128>"
      ]
     },
     "metadata": {
      "image/png": {
       "height": 263,
       "width": 387
      }
     },
     "output_type": "display_data"
    },
    {
     "data": {
      "text/plain": [
       "[<matplotlib.lines.Line2D at 0x7f6c89a4f668>]"
      ]
     },
     "execution_count": 56,
     "metadata": {},
     "output_type": "execute_result"
    },
    {
     "data": {
      "text/plain": [
       "[<matplotlib.lines.Line2D at 0x7f6c89a11b38>]"
      ]
     },
     "execution_count": 56,
     "metadata": {},
     "output_type": "execute_result"
    },
    {
     "data": {
      "text/plain": [
       "<matplotlib.legend.Legend at 0x7f6c89a11f98>"
      ]
     },
     "execution_count": 56,
     "metadata": {},
     "output_type": "execute_result"
    },
    {
     "data": {
      "text/plain": [
       "Text(0,0.5,'Classification Error')"
      ]
     },
     "execution_count": 56,
     "metadata": {},
     "output_type": "execute_result"
    },
    {
     "data": {
      "text/plain": [
       "Text(0.5,1,'XGBoost Classification Error')"
      ]
     },
     "execution_count": 56,
     "metadata": {},
     "output_type": "execute_result"
    },
    {
     "data": {
      "image/png": "[encoded data removed]",
      "text/plain": [
       "<matplotlib.figure.Figure at 0x7f6c89a4f438>"
      ]
     },
     "metadata": {
      "image/png": {
       "height": 263,
       "width": 393
      }
     },
     "output_type": "display_data"
    }
   ],
   "source": [
    "# retrieve performance metrics\n",
    "results = bst.evals_result()\n",
    "#print(results)\n",
    "\n",
    "\n",
    "epochs = len(results['validation_0']['error'])\n",
    "x_axis = range(0, epochs)\n",
    "\n",
    "# plot log loss\n",
    "fig, ax = pyplot.subplots()\n",
    "ax.plot(x_axis, results['validation_0']['logloss'], label='Train')\n",
    "ax.plot(x_axis, results['validation_1']['logloss'], label='Test')\n",
    "ax.legend()\n",
    "pyplot.ylabel('Log Loss')\n",
    "pyplot.title('XGBoost Log Loss')\n",
    "pyplot.show()\n",
    "\n",
    "# plot classification error\n",
    "fig, ax = pyplot.subplots()\n",
    "ax.plot(x_axis, results['validation_0']['error'], label='Train')\n",
    "ax.plot(x_axis, results['validation_1']['error'], label='Test')\n",
    "ax.legend()\n",
    "pyplot.ylabel('Classification Error')\n",
    "pyplot.title('XGBoost Classification Error')\n",
    "pyplot.show()"
   ]
  },
  {
   "cell_type": "code",
   "execution_count": 57,
   "metadata": {},
   "outputs": [
    {
     "name": "stdout",
     "output_type": "stream",
     "text": [
      "Test Accuracy: 99.81%\n"
     ]
    }
   ],
   "source": [
    "# make prediction\n",
    "preds = bst.predict(X_test)\n",
    "predictions = [round(value) for value in preds]\n",
    "\n",
    "test_accuracy = accuracy_score(y_test, predictions)\n",
    "print(\"Test Accuracy: %.2f%%\" % (test_accuracy * 100.0))"
   ]
  },
  {
   "cell_type": "code",
   "execution_count": null,
   "metadata": {},
   "outputs": [],
   "source": []
  }
 ],
 "metadata": {
  "kernelspec": {
   "display_name": "Python 3",
   "language": "python",
   "name": "python3"
  },
  "language_info": {
   "codemirror_mode": {
    "name": "ipython",
    "version": 3
   },
   "file_extension": ".py",
   "mimetype": "text/x-python",
   "name": "python",
   "nbconvert_exporter": "python",
   "pygments_lexer": "ipython3",
   "version": "3.6.3"
  }
 },
 "nbformat": 4,
 "nbformat_minor": 2
}
