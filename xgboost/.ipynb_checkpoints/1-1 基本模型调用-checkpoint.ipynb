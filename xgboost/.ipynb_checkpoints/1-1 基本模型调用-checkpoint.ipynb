{
 "cells": [
  {
   "cell_type": "code",
   "execution_count": 11,
   "metadata": {},
   "outputs": [],
   "source": [
    "# 开启多行显示\n",
    "from IPython.core.interactiveshell import InteractiveShell\n",
    "InteractiveShell.ast_node_interactivity = \"all\"\n",
    "# InteractiveShell.ast_node_interactivity = \"last_expr\"\n",
    "\n",
    "# 显示图片\n",
    "%matplotlib inline\n",
    "%config InlineBackend.figure_format = 'retina'"
   ]
  },
  {
   "cell_type": "markdown",
   "metadata": {},
   "source": [
    "## 数据探索\n",
    "XGBoost中数据形式可以是libsvm的，libsvm作用是对稀疏特征进行优化，看个例子：\n",
    "\n",
    "```\n",
    "1 101:1.2 102:0.03 \n",
    "0 1:2.1 10001:300 10002:400\n",
    "0 2:1.2 1212:21 7777:2\n",
    "```\n",
    "每行表示一个样本，每行开头0，1表示标签，而后面的则是特征索引：数值，其他未表示都是0.\n",
    "\n",
    "我们以判断蘑菇是否有毒为例子来做后续的训练。数据集来自：http://archive.ics.uci.edu/ml/machine-learning-databases/mushroom/ ，其中蘑菇有22个属性，将这些原始的特征加工后得到126维特征，并保存为libsvm格式，标签是表示蘑菇是否有毒。其中其中 6513 个样本做训练，1611 个样本做测试。"
   ]
  },
  {
   "cell_type": "code",
   "execution_count": 1,
   "metadata": {},
   "outputs": [],
   "source": [
    "import xgboost as xgb\n",
    "from sklearn.metrics import accuracy_score"
   ]
  },
  {
   "cell_type": "markdown",
   "metadata": {},
   "source": [
    "> DMatrix is a internal data structure that used by XGBoost\n",
    "which is optimized for both memory efficiency and training speed.\n",
    "\n",
    "DMatrix 的数据来源可以是 `string/numpy array/scipy.sparse/pd.DataFrame`，如果是 string，则代表 libsvm 文件的路径，或者是 xgboost 可读取的二进制文件路径。"
   ]
  },
  {
   "cell_type": "code",
   "execution_count": 2,
   "metadata": {},
   "outputs": [],
   "source": [
    "data_fold = \"./data/\"\n",
    "dtrain = xgb.DMatrix(data_fold + \"agaricus.txt.train\")\n",
    "dtest = xgb.DMatrix(data_fold + \"agaricus.txt.test\")"
   ]
  },
  {
   "cell_type": "markdown",
   "metadata": {},
   "source": [
    "查看数据情况"
   ]
  },
  {
   "cell_type": "code",
   "execution_count": 12,
   "metadata": {},
   "outputs": [
    {
     "data": {
      "text/plain": [
       "(127, 6513)"
      ]
     },
     "execution_count": 12,
     "metadata": {},
     "output_type": "execute_result"
    },
    {
     "data": {
      "text/plain": [
       "(127, 1611)"
      ]
     },
     "execution_count": 12,
     "metadata": {},
     "output_type": "execute_result"
    }
   ],
   "source": [
    "(dtrain.num_col(),dtrain.num_row())\n",
    "(dtest.num_col(),dtest.num_row())"
   ]
  },
  {
   "cell_type": "markdown",
   "metadata": {},
   "source": [
    "## 模型训练\n",
    "基本参数设定：\n",
    "- max_depth： 树的最大深度。缺省值为6，取值范围为：[1,∞] \n",
    "- eta：为了防止过拟合，更新过程中用到的收缩步长。eta通过缩减特征 的权重使提升计算过程更加保守。缺省值为0.3，取值范围为：[0,1] \n",
    "- silent: 0表示打印出运行时信息，取1时表示以缄默方式运行，不打印 运行时信息。缺省值为0 \n",
    "- objective： 定义学习任务及相应的学习目标，“binary:logistic” 表示 二分类的逻辑回归问题，输出为概率。"
   ]
  },
  {
   "cell_type": "code",
   "execution_count": 14,
   "metadata": {},
   "outputs": [],
   "source": [
    "param = {'max_depth':2, 'eta':1, 'silent':0, 'objective':'binary:logistic' }"
   ]
  },
  {
   "cell_type": "code",
   "execution_count": 15,
   "metadata": {},
   "outputs": [
    {
     "name": "stdout",
     "output_type": "stream",
     "text": [
      "CPU times: user 0 ns, sys: 0 ns, total: 0 ns\n",
      "Wall time: 65.6 µs\n"
     ]
    }
   ],
   "source": [
    "%time\n",
    "# 设置boosting迭代计算次数\n",
    "num_round = 2\n",
    "\n",
    "bst = xgb.train(param, dtrain, num_round)"
   ]
  },
  {
   "cell_type": "markdown",
   "metadata": {},
   "source": [
    "此处模型输出是一个概率值，我们将其转换为0-1值，然后再计算准确率"
   ]
  },
  {
   "cell_type": "code",
   "execution_count": 16,
   "metadata": {},
   "outputs": [
    {
     "name": "stdout",
     "output_type": "stream",
     "text": [
      "Train Accuary: 97.77%\n"
     ]
    }
   ],
   "source": [
    "train_preds = bst.predict(dtrain)\n",
    "train_predictions = [round(value) for value in train_preds]\n",
    "y_train = dtrain.get_label()\n",
    "train_accuracy = accuracy_score(y_train, train_predictions)\n",
    "print (\"Train Accuary: %.2f%%\" % (train_accuracy * 100.0))"
   ]
  },
  {
   "cell_type": "markdown",
   "metadata": {},
   "source": [
    "我们最后再测试集上看下模型的准确率的"
   ]
  },
  {
   "cell_type": "code",
   "execution_count": 17,
   "metadata": {},
   "outputs": [
    {
     "name": "stdout",
     "output_type": "stream",
     "text": [
      "Test Accuracy: 97.83%\n"
     ]
    }
   ],
   "source": [
    "preds = bst.predict(dtest)\n",
    "predictions = [round(value) for value in preds]\n",
    "y_test = dtest.get_label()\n",
    "test_accuracy = accuracy_score(y_test, predictions)\n",
    "print(\"Test Accuracy: %.2f%%\" % (test_accuracy * 100.0))"
   ]
  },
  {
   "cell_type": "code",
   "execution_count": 23,
   "metadata": {},
   "outputs": [
    {
     "data": {
      "image/svg+xml": [
       "<?xml version=\"1.0\" encoding=\"UTF-8\" standalone=\"no\"?>\n",
       "<!DOCTYPE svg PUBLIC \"-//W3C//DTD SVG 1.1//EN\"\n",
       " \"http://www.w3.org/Graphics/SVG/1.1/DTD/svg11.dtd\">\n",
       "<!-- Generated by graphviz version 2.38.0 (20140413.2041)\n",
       " -->\n",
       "<!-- Title: %3 Pages: 1 -->\n",
       "<svg width=\"544pt\" height=\"537pt\"\n",
       " viewBox=\"0.00 0.00 544.00 537.27\" xmlns=\"http://www.w3.org/2000/svg\" xmlns:xlink=\"http://www.w3.org/1999/xlink\">\n",
       "<g id=\"graph0\" class=\"graph\" transform=\"scale(1 1) rotate(0) translate(4 533.265)\">\n",
       "<title>%3</title>\n",
       "<polygon fill=\"white\" stroke=\"none\" points=\"-4,4 -4,-533.265 540,-533.265 540,4 -4,4\"/>\n",
       "<!-- 0 -->\n",
       "<g id=\"node1\" class=\"node\"><title>0</title>\n",
       "<ellipse fill=\"none\" stroke=\"black\" cx=\"289.5\" cy=\"-434.374\" rx=\"94.7833\" ry=\"94.7833\"/>\n",
       "<text text-anchor=\"middle\" x=\"289.5\" y=\"-430.674\" font-family=\"Times,serif\" font-size=\"14.00\">f29&lt;&#45;9.53674e&#45;07</text>\n",
       "</g>\n",
       "<!-- 1 -->\n",
       "<g id=\"node2\" class=\"node\"><title>1</title>\n",
       "<ellipse fill=\"none\" stroke=\"black\" cx=\"170.5\" cy=\"-187.741\" rx=\"94.7833\" ry=\"94.7833\"/>\n",
       "<text text-anchor=\"middle\" x=\"170.5\" y=\"-184.041\" font-family=\"Times,serif\" font-size=\"14.00\">f56&lt;&#45;9.53674e&#45;07</text>\n",
       "</g>\n",
       "<!-- 0&#45;&gt;1 -->\n",
       "<g id=\"edge1\" class=\"edge\"><title>0&#45;&gt;1</title>\n",
       "<path fill=\"none\" stroke=\"#0000ff\" d=\"M248.38,-348.842C237.976,-327.453 226.74,-304.355 216.127,-282.538\"/>\n",
       "<polygon fill=\"#0000ff\" stroke=\"#0000ff\" points=\"219.143,-280.737 211.621,-273.276 212.848,-283.799 219.143,-280.737\"/>\n",
       "<text text-anchor=\"middle\" x=\"279\" y=\"-310.282\" font-family=\"Times,serif\" font-size=\"14.00\">yes, missing</text>\n",
       "</g>\n",
       "<!-- 2 -->\n",
       "<g id=\"node3\" class=\"node\"><title>2</title>\n",
       "<ellipse fill=\"none\" stroke=\"black\" cx=\"384.5\" cy=\"-187.741\" rx=\"100.983\" ry=\"100.983\"/>\n",
       "<text text-anchor=\"middle\" x=\"384.5\" y=\"-184.041\" font-family=\"Times,serif\" font-size=\"14.00\">f109&lt;&#45;9.53674e&#45;07</text>\n",
       "</g>\n",
       "<!-- 0&#45;&gt;2 -->\n",
       "<g id=\"edge2\" class=\"edge\"><title>0&#45;&gt;2</title>\n",
       "<path fill=\"none\" stroke=\"#ff0000\" d=\"M323.529,-345.747C330.375,-328.118 337.628,-309.441 344.652,-291.354\"/>\n",
       "<polygon fill=\"#ff0000\" stroke=\"#ff0000\" points=\"347.943,-292.547 348.3,-281.958 341.418,-290.013 347.943,-292.547\"/>\n",
       "<text text-anchor=\"middle\" x=\"346.5\" y=\"-310.282\" font-family=\"Times,serif\" font-size=\"14.00\">no</text>\n",
       "</g>\n",
       "<!-- 3 -->\n",
       "<g id=\"node4\" class=\"node\"><title>3</title>\n",
       "<polygon fill=\"none\" stroke=\"black\" points=\"113,-36 0,-36 0,-0 113,-0 113,-36\"/>\n",
       "<text text-anchor=\"middle\" x=\"56.5\" y=\"-14.3\" font-family=\"Times,serif\" font-size=\"14.00\">leaf=1.71218</text>\n",
       "</g>\n",
       "<!-- 1&#45;&gt;3 -->\n",
       "<g id=\"edge3\" class=\"edge\"><title>1&#45;&gt;3</title>\n",
       "<path fill=\"none\" stroke=\"#0000ff\" d=\"M117.505,-108.763C101.759,-85.5951 85.6042,-61.8243 73.8773,-44.5692\"/>\n",
       "<polygon fill=\"#0000ff\" stroke=\"#0000ff\" points=\"76.69,-42.481 68.1742,-36.1776 70.9004,-46.4157 76.69,-42.481\"/>\n",
       "<text text-anchor=\"middle\" x=\"135\" y=\"-57.8\" font-family=\"Times,serif\" font-size=\"14.00\">yes, missing</text>\n",
       "</g>\n",
       "<!-- 4 -->\n",
       "<g id=\"node5\" class=\"node\"><title>4</title>\n",
       "<polygon fill=\"none\" stroke=\"black\" points=\"249.5,-36 131.5,-36 131.5,-0 249.5,-0 249.5,-36\"/>\n",
       "<text text-anchor=\"middle\" x=\"190.5\" y=\"-14.3\" font-family=\"Times,serif\" font-size=\"14.00\">leaf=&#45;1.70044</text>\n",
       "</g>\n",
       "<!-- 1&#45;&gt;4 -->\n",
       "<g id=\"edge4\" class=\"edge\"><title>1&#45;&gt;4</title>\n",
       "<path fill=\"none\" stroke=\"#ff0000\" d=\"M181.669,-93.0619C183.711,-75.9423 185.686,-59.3753 187.249,-46.2672\"/>\n",
       "<polygon fill=\"#ff0000\" stroke=\"#ff0000\" points=\"190.748,-46.4777 188.457,-36.1337 183.798,-45.6489 190.748,-46.4777\"/>\n",
       "<text text-anchor=\"middle\" x=\"195.5\" y=\"-57.8\" font-family=\"Times,serif\" font-size=\"14.00\">no</text>\n",
       "</g>\n",
       "<!-- 5 -->\n",
       "<g id=\"node6\" class=\"node\"><title>5</title>\n",
       "<polygon fill=\"none\" stroke=\"black\" points=\"404.5,-36 286.5,-36 286.5,-0 404.5,-0 404.5,-36\"/>\n",
       "<text text-anchor=\"middle\" x=\"345.5\" y=\"-14.3\" font-family=\"Times,serif\" font-size=\"14.00\">leaf=&#45;1.94071</text>\n",
       "</g>\n",
       "<!-- 2&#45;&gt;5 -->\n",
       "<g id=\"edge5\" class=\"edge\"><title>2&#45;&gt;5</title>\n",
       "<path fill=\"none\" stroke=\"#0000ff\" d=\"M361.814,-89.1654C358.133,-73.3339 354.608,-58.1721 351.782,-46.0192\"/>\n",
       "<polygon fill=\"#0000ff\" stroke=\"#0000ff\" points=\"355.166,-45.1203 349.493,-36.1727 348.348,-46.7056 355.166,-45.1203\"/>\n",
       "<text text-anchor=\"middle\" x=\"402\" y=\"-57.8\" font-family=\"Times,serif\" font-size=\"14.00\">yes, missing</text>\n",
       "</g>\n",
       "<!-- 6 -->\n",
       "<g id=\"node7\" class=\"node\"><title>6</title>\n",
       "<polygon fill=\"none\" stroke=\"black\" points=\"536,-36 423,-36 423,-0 536,-0 536,-36\"/>\n",
       "<text text-anchor=\"middle\" x=\"479.5\" y=\"-14.3\" font-family=\"Times,serif\" font-size=\"14.00\">leaf=1.85965</text>\n",
       "</g>\n",
       "<!-- 2&#45;&gt;6 -->\n",
       "<g id=\"edge6\" class=\"edge\"><title>2&#45;&gt;6</title>\n",
       "<path fill=\"none\" stroke=\"#ff0000\" d=\"M433.948,-99.4314C445.191,-79.5797 456.288,-59.9854 464.714,-45.1071\"/>\n",
       "<polygon fill=\"#ff0000\" stroke=\"#ff0000\" points=\"467.958,-46.4819 469.841,-36.0557 461.867,-43.0323 467.958,-46.4819\"/>\n",
       "<text text-anchor=\"middle\" x=\"468.5\" y=\"-57.8\" font-family=\"Times,serif\" font-size=\"14.00\">no</text>\n",
       "</g>\n",
       "</g>\n",
       "</svg>\n"
      ],
      "text/plain": [
       "<graphviz.dot.Digraph at 0x7f6cac09df60>"
      ]
     },
     "execution_count": 23,
     "metadata": {},
     "output_type": "execute_result"
    }
   ],
   "source": [
    "from matplotlib import pyplot\n",
    "import graphviz\n",
    "xgb.to_graphviz(bst, num_trees=0 )\n",
    "pyplot.show()"
   ]
  },
  {
   "cell_type": "markdown",
   "metadata": {},
   "source": [
    "## scikit-learn 接口格式"
   ]
  },
  {
   "cell_type": "code",
   "execution_count": 29,
   "metadata": {},
   "outputs": [],
   "source": [
    "from xgboost import XGBClassifier\n",
    "from sklearn.datasets import load_svmlight_file"
   ]
  },
  {
   "cell_type": "code",
   "execution_count": 30,
   "metadata": {},
   "outputs": [
    {
     "data": {
      "text/plain": [
       "XGBClassifier(base_score=0.5, booster='gbtree', colsample_bylevel=1,\n",
       "       colsample_bytree=1, gamma=0, learning_rate=1, max_delta_step=0,\n",
       "       max_depth=2, min_child_weight=1, missing=None, n_estimators=2,\n",
       "       n_jobs=1, nthread=None, objective='binary:logistic', random_state=0,\n",
       "       reg_alpha=0, reg_lambda=1, scale_pos_weight=1, seed=None,\n",
       "       silent=True, subsample=1)"
      ]
     },
     "execution_count": 30,
     "metadata": {},
     "output_type": "execute_result"
    }
   ],
   "source": [
    "my_workpath = './data/'\n",
    "X_train,y_train = load_svmlight_file(my_workpath + 'agaricus.txt.train')\n",
    "X_test,y_test = load_svmlight_file(my_workpath + 'agaricus.txt.test')\n",
    "\n",
    "# 设置boosting迭代计算次数\n",
    "num_round = 2\n",
    "\n",
    "#bst = XGBClassifier(**params)\n",
    "#bst = XGBClassifier()\n",
    "bst =XGBClassifier(max_depth=2, learning_rate=1, n_estimators=num_round, \n",
    "                   silent=True, objective='binary:logistic')\n",
    "\n",
    "bst.fit(X_train, y_train)"
   ]
  },
  {
   "cell_type": "code",
   "execution_count": 31,
   "metadata": {},
   "outputs": [
    {
     "name": "stdout",
     "output_type": "stream",
     "text": [
      "Train Accuary: 97.77%\n"
     ]
    }
   ],
   "source": [
    "# 训练集上准确率\n",
    "train_preds = bst.predict(X_train)\n",
    "train_predictions = [round(value) for value in train_preds]\n",
    "\n",
    "train_accuracy = accuracy_score(y_train, train_predictions)\n",
    "print (\"Train Accuary: %.2f%%\" % (train_accuracy * 100.0))"
   ]
  },
  {
   "cell_type": "code",
   "execution_count": 32,
   "metadata": {},
   "outputs": [
    {
     "name": "stdout",
     "output_type": "stream",
     "text": [
      "Test Accuracy: 97.83%\n"
     ]
    }
   ],
   "source": [
    "# 测试集上准确率\n",
    "# make prediction\n",
    "preds = bst.predict(X_test)\n",
    "predictions = [round(value) for value in preds]\n",
    "\n",
    "test_accuracy = accuracy_score(y_test, predictions)\n",
    "print(\"Test Accuracy: %.2f%%\" % (test_accuracy * 100.0))"
   ]
  },
  {
   "cell_type": "markdown",
   "metadata": {},
   "source": [
    "## scikit-lean 中 cv 使用\n",
    "做cross_validation主要用到下面 StratifiedKFold 函数"
   ]
  },
  {
   "cell_type": "code",
   "execution_count": 33,
   "metadata": {},
   "outputs": [],
   "source": [
    "# 设置boosting迭代计算次数\n",
    "num_round = 2\n",
    "bst =XGBClassifier(max_depth=2, learning_rate=0.1,n_estimators=num_round, \n",
    "                   silent=True, objective='binary:logistic')"
   ]
  },
  {
   "cell_type": "code",
   "execution_count": 34,
   "metadata": {},
   "outputs": [],
   "source": [
    "from sklearn.model_selection import StratifiedKFold\n",
    "from sklearn.model_selection import cross_val_score"
   ]
  },
  {
   "cell_type": "code",
   "execution_count": 35,
   "metadata": {},
   "outputs": [
    {
     "name": "stdout",
     "output_type": "stream",
     "text": [
      "[ 0.69478528  0.85276074  0.95398773  0.97235023  0.96006144  0.98771121\n",
      "  1.          1.          0.96927803  0.97695853]\n",
      "CV Accuracy: 93.68% (9.00%)\n"
     ]
    }
   ],
   "source": [
    "kfold = StratifiedKFold(n_splits=10, random_state=7)\n",
    "results = cross_val_score(bst, X_train, y_train, cv=kfold)\n",
    "print(results)\n",
    "print(\"CV Accuracy: %.2f%% (%.2f%%)\" % (results.mean()*100, results.std()*100))"
   ]
  },
  {
   "cell_type": "markdown",
   "metadata": {},
   "source": [
    "## GridSearchcv 搜索最优解"
   ]
  },
  {
   "cell_type": "code",
   "execution_count": 37,
   "metadata": {},
   "outputs": [],
   "source": [
    "from sklearn.model_selection import GridSearchCV"
   ]
  },
  {
   "cell_type": "code",
   "execution_count": 38,
   "metadata": {},
   "outputs": [],
   "source": [
    "bst =XGBClassifier(max_depth=2, learning_rate=0.1, silent=True, objective='binary:logistic')"
   ]
  },
  {
   "cell_type": "code",
   "execution_count": 41,
   "metadata": {},
   "outputs": [
    {
     "name": "stdout",
     "output_type": "stream",
     "text": [
      "CPU times: user 0 ns, sys: 0 ns, total: 0 ns\n",
      "Wall time: 24.3 µs\n"
     ]
    },
    {
     "data": {
      "text/plain": [
       "GridSearchCV(cv=5, error_score='raise',\n",
       "       estimator=XGBClassifier(base_score=0.5, booster='gbtree', colsample_bylevel=1,\n",
       "       colsample_bytree=1, gamma=0, learning_rate=0.1, max_delta_step=0,\n",
       "       max_depth=2, min_child_weight=1, missing=None, n_estimators=100,\n",
       "       n_jobs=1, nthread=None, objective='binary:logistic', random_state=0,\n",
       "       reg_alpha=0, reg_lambda=1, scale_pos_weight=1, seed=None,\n",
       "       silent=True, subsample=1),\n",
       "       fit_params=None, iid=True, n_jobs=1,\n",
       "       param_grid={'n_estimators': range(1, 51)}, pre_dispatch='2*n_jobs',\n",
       "       refit=True, return_train_score='warn', scoring='accuracy',\n",
       "       verbose=0)"
      ]
     },
     "execution_count": 41,
     "metadata": {},
     "output_type": "execute_result"
    }
   ],
   "source": [
    "%time\n",
    "param_grid = {\n",
    " 'n_estimators': range(1, 51, 1)\n",
    "}\n",
    "clf = GridSearchCV(bst, param_grid, \"accuracy\",cv=5)\n",
    "clf.fit(X_train, y_train)"
   ]
  },
  {
   "cell_type": "code",
   "execution_count": 42,
   "metadata": {},
   "outputs": [
    {
     "name": "stderr",
     "output_type": "stream",
     "text": [
      "/mnt/wc/anaconda3/envs/wc/lib/python3.6/site-packages/sklearn/model_selection/_search.py:761: DeprecationWarning: The grid_scores_ attribute was deprecated in version 0.18 in favor of the more elaborate cv_results_ attribute. The grid_scores_ attribute will not be available from 0.20\n",
      "  DeprecationWarning)\n"
     ]
    },
    {
     "data": {
      "text/plain": [
       "[mean: 0.90542, std: 0.08996, params: {'n_estimators': 1},\n",
       " mean: 0.94749, std: 0.07458, params: {'n_estimators': 2},\n",
       " mean: 0.90542, std: 0.08996, params: {'n_estimators': 3},\n",
       " mean: 0.94749, std: 0.07458, params: {'n_estimators': 4},\n",
       " mean: 0.90573, std: 0.09028, params: {'n_estimators': 5},\n",
       " mean: 0.94718, std: 0.07436, params: {'n_estimators': 6},\n",
       " mean: 0.90542, std: 0.08996, params: {'n_estimators': 7},\n",
       " mean: 0.94242, std: 0.07331, params: {'n_estimators': 8},\n",
       " mean: 0.94473, std: 0.07739, params: {'n_estimators': 9},\n",
       " mean: 0.97482, std: 0.02235, params: {'n_estimators': 10},\n",
       " mean: 0.94887, std: 0.07621, params: {'n_estimators': 11},\n",
       " mean: 0.97850, std: 0.02387, params: {'n_estimators': 12},\n",
       " mean: 0.97298, std: 0.03186, params: {'n_estimators': 13},\n",
       " mean: 0.97850, std: 0.02387, params: {'n_estimators': 14},\n",
       " mean: 0.97298, std: 0.03186, params: {'n_estimators': 15},\n",
       " mean: 0.97850, std: 0.02387, params: {'n_estimators': 16},\n",
       " mean: 0.97850, std: 0.02387, params: {'n_estimators': 17},\n",
       " mean: 0.97850, std: 0.02387, params: {'n_estimators': 18},\n",
       " mean: 0.97850, std: 0.02387, params: {'n_estimators': 19},\n",
       " mean: 0.97850, std: 0.02387, params: {'n_estimators': 20},\n",
       " mean: 0.97850, std: 0.02387, params: {'n_estimators': 21},\n",
       " mean: 0.97850, std: 0.02387, params: {'n_estimators': 22},\n",
       " mean: 0.97850, std: 0.02387, params: {'n_estimators': 23},\n",
       " mean: 0.97850, std: 0.02387, params: {'n_estimators': 24},\n",
       " mean: 0.97850, std: 0.02387, params: {'n_estimators': 25},\n",
       " mean: 0.97804, std: 0.02365, params: {'n_estimators': 26},\n",
       " mean: 0.97774, std: 0.02337, params: {'n_estimators': 27},\n",
       " mean: 0.97835, std: 0.02383, params: {'n_estimators': 28},\n",
       " mean: 0.98296, std: 0.01963, params: {'n_estimators': 29},\n",
       " mean: 0.98419, std: 0.02040, params: {'n_estimators': 30},\n",
       " mean: 0.98342, std: 0.01988, params: {'n_estimators': 31},\n",
       " mean: 0.98372, std: 0.02008, params: {'n_estimators': 32},\n",
       " mean: 0.98419, std: 0.02040, params: {'n_estimators': 33},\n",
       " mean: 0.98419, std: 0.02040, params: {'n_estimators': 34},\n",
       " mean: 0.98419, std: 0.02040, params: {'n_estimators': 35},\n",
       " mean: 0.98419, std: 0.02040, params: {'n_estimators': 36},\n",
       " mean: 0.98419, std: 0.02040, params: {'n_estimators': 37},\n",
       " mean: 0.98419, std: 0.02040, params: {'n_estimators': 38},\n",
       " mean: 0.98419, std: 0.02040, params: {'n_estimators': 39},\n",
       " mean: 0.98419, std: 0.02040, params: {'n_estimators': 40},\n",
       " mean: 0.98419, std: 0.02040, params: {'n_estimators': 41},\n",
       " mean: 0.98419, std: 0.02040, params: {'n_estimators': 42},\n",
       " mean: 0.98419, std: 0.02040, params: {'n_estimators': 43},\n",
       " mean: 0.98419, std: 0.02040, params: {'n_estimators': 44},\n",
       " mean: 0.98419, std: 0.02040, params: {'n_estimators': 45},\n",
       " mean: 0.98419, std: 0.02040, params: {'n_estimators': 46},\n",
       " mean: 0.98419, std: 0.02040, params: {'n_estimators': 47},\n",
       " mean: 0.98419, std: 0.02040, params: {'n_estimators': 48},\n",
       " mean: 0.98419, std: 0.02040, params: {'n_estimators': 49},\n",
       " mean: 0.98419, std: 0.02040, params: {'n_estimators': 50}]"
      ]
     },
     "execution_count": 42,
     "metadata": {},
     "output_type": "execute_result"
    }
   ],
   "source": [
    "clf.cv_results_"
   ]
  },
  {
   "cell_type": "code",
   "execution_count": null,
   "metadata": {},
   "outputs": [],
   "source": []
  }
 ],
 "metadata": {
  "kernelspec": {
   "display_name": "Python 3",
   "language": "python",
   "name": "python3"
  },
  "language_info": {
   "codemirror_mode": {
    "name": "ipython",
    "version": 3
   },
   "file_extension": ".py",
   "mimetype": "text/x-python",
   "name": "python",
   "nbconvert_exporter": "python",
   "pygments_lexer": "ipython3",
   "version": "3.6.3"
  }
 },
 "nbformat": 4,
 "nbformat_minor": 2
}
